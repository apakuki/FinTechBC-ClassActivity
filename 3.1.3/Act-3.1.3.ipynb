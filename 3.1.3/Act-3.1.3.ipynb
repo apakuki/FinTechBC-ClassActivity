{
 "cells": [
  {
   "cell_type": "code",
   "execution_count": null,
   "metadata": {},
   "outputs": [],
   "source": [
    "# Create a list called 'farm' with the elements \"pig\", \"cow\", \"chicken\", \"dog\", \"horse\", \"sheep\".\n",
    "\n",
    "farm = [\"pig\", \"cow\", \"chicken\", \"dog\", \"horse\", \"sheep\"]\n",
    "\n",
    "# Write an if statement that prints the string \"RWAR!\" if the first element of farm is NOT \"Godzilla\".\n",
    "\n",
    "if farm[0] != \"Godzilla\":\n",
    "    print()\n",
    "# Write an else if statement that prints the string \"SCREECH!\" if the last element of farm is \"Mothra\".\n",
    "\n",
    "# Else, print the string \"This animal is neither Godzilla nor Mothra!\".\n",
    "\n",
    "\n",
    "# Declare a variable named 'dog' with a string of \"Spot\".\n",
    "\n",
    "# Declare 3 variables `cat`, `city`, `car` without assigning them values.\n",
    "\n",
    "\n",
    "# Assign the string \"Farley\" to `cat`.\n",
    "\n",
    "\n",
    "# Assign the string \"San Francisco\" to `city`.\n",
    "\n",
    "\n",
    "# Assign the string \"Prius\" to `car`.\n",
    "\n",
    "\n",
    "# Using string concatenation, print out the sentence \"See Spot run!\".\n",
    "\n",
    "\n",
    "# Using string concatenation, print out the sentence \"I drive Farley around San Francisco in my Prius\".\n",
    "\n",
    "\n",
    "# Declare a variable budget and assign it a value of 5000.\n",
    "\n",
    "\n",
    "# Declare a variable rent_cost and assign it a value of 1500.\n",
    "\n",
    "\n",
    "# Declare a variable utilities_cost and assign it a value of 150.\n",
    "\n",
    "\n",
    "# Declare a variable food_cost and assign it a value of 250.\n",
    "\n",
    "\n",
    "# Declare a variable transportation_cost and assign it a value of 350.\n",
    "\n",
    "\n",
    "# Declare a variable computer_cost and assign it a value of 2000.\n",
    "\n",
    "\n",
    "# Declare a variable called total_cost that takes the sum of all costs above (excluding budget).\n",
    "\n",
    "\n",
    "# Write an if statement that checks whether the sum of all our costs is within the budget.\n",
    "# If so, print \"You're total cost is \" concatentated with the `total_cost` variable.\n",
    "# Else, print \"You're over budget by \" concatenated with the difference between `budget` and `total_cost`.\n",
    "\n",
    "\n",
    "# Write an if statement that checks whether the rent_cost is larger than the sum of the `utilities_cost`, `food_cost`,\n",
    "# and `transportation_cost`. If so, print a string that says \"The rent is too damn high!\".\n",
    "# Else, print a string that says \"Ahhh just right!\"\n",
    "\n"
   ]
  }
 ],
 "metadata": {
  "kernelspec": {
   "display_name": "Python 3.9.12 ('base')",
   "language": "python",
   "name": "python3"
  },
  "language_info": {
   "name": "python",
   "version": "3.9.12"
  },
  "orig_nbformat": 4,
  "vscode": {
   "interpreter": {
    "hash": "c456f17b63525dd1fcde487470240e1db655d3530ed545682dd82e8dd325ec4c"
   }
  }
 },
 "nbformat": 4,
 "nbformat_minor": 2
}
