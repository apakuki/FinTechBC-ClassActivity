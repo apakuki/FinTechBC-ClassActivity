{
 "cells": [
  {
   "cell_type": "code",
   "execution_count": 5,
   "id": "66b9d796-93d2-496d-a2d7-1506845366b1",
   "metadata": {},
   "outputs": [
    {
     "data": {
      "text/plain": [
       "620.92"
      ]
     },
     "execution_count": 5,
     "metadata": {},
     "output_type": "execute_result"
    }
   ],
   "source": [
    "# -*- coding: utf-8 -*-\n",
    "\"\"\"\n",
    "Zero-Coupon Bond Valuation.\n",
    "\n",
    "This script will calculate the present value of zero-coupon bonds, compare the present value to the price of the bond, and determine the corresponding action (buy, not buy, neutral).\n",
    "\"\"\"\n",
    "\n",
    "# @TODO: Create a function to calculate present value\n",
    "\n",
    "def calculate_present_value(fv, dr, cp, y):\n",
    "\n",
    "\n",
    "    pv = fv / (1 + (dr/ cp)) ** (cp * y)\n",
    "    \n",
    "    bond_value = round(pv, 2)\n",
    "    return bond_value\n",
    "\n",
    "\n",
    "# Intialize the zero-coupon bond parameters, assume compounding period is equal to 1\n",
    "price = 700\n",
    "future_value = 1000\n",
    "discount_rate = .1\n",
    "compounding_periods = 1\n",
    "years = 5\n",
    "\n",
    "# @TODO: Call the calculate_present_value() function and assign to a variable\n",
    "\n",
    "cpv = calculate_present_value(future_value, discount_rate, compounding_periods, years)\n",
    "\n",
    "cpv\n",
    "\n",
    "# @TODO: Determine if the bond is worth it\n"
   ]
  },
  {
   "cell_type": "code",
   "execution_count": null,
   "id": "c55bc067-291a-41d9-a5c4-da75bea43441",
   "metadata": {},
   "outputs": [],
   "source": []
  }
 ],
 "metadata": {
  "kernelspec": {
   "display_name": "Python 3 (ipykernel)",
   "language": "python",
   "name": "python3"
  },
  "language_info": {
   "codemirror_mode": {
    "name": "ipython",
    "version": 3
   },
   "file_extension": ".py",
   "mimetype": "text/x-python",
   "name": "python",
   "nbconvert_exporter": "python",
   "pygments_lexer": "ipython3",
   "version": "3.9.12"
  }
 },
 "nbformat": 4,
 "nbformat_minor": 5
}
