{
 "cells": [
  {
   "cell_type": "markdown",
   "metadata": {},
   "source": [
    "# Instructor Do: Intro to the ROC Curve and AUC\n",
    "\n",
    "In this activity, students will learn how to measure the performance of a binary classification model by fetching metrics from Keras, as well as plotting and interpreting the ROC curve and AUC."
   ]
  },
  {
   "cell_type": "code",
   "execution_count": 1,
   "metadata": {},
   "outputs": [],
   "source": [
    "# Initial imports\n",
    "import pandas as pd\n",
    "import numpy as np\n",
    "import matplotlib.pyplot as plt\n",
    "import tensorflow as tf\n",
    "from pathlib import Path\n",
    "\n",
    "%matplotlib inline"
   ]
  },
  {
   "cell_type": "markdown",
   "metadata": {},
   "source": [
    "## The Dataset\n",
    "\n",
    "The data provided for this demo contains anonymous information about `284807` credit card transactions made by European credit cardholders in September 2013.\n",
    "\n",
    "The dataset is going to be used to create a binary classification model using a deep neural network to detect fraudulent transactions. It contains nine numerical variables, which are the result of PCA transformation to protect the confidentiality of credit cardholders. Only the transaction amount can be seen as is.\n",
    "\n",
    "This dataset is an abstract of the file shared by the [Machine Learning Group](http://mlg.ulb.ac.be) of the Université Libre de Bruxelles (ULB)."
   ]
  },
  {
   "cell_type": "code",
   "execution_count": 2,
   "metadata": {},
   "outputs": [
    {
     "data": {
      "text/html": [
       "<div>\n",
       "<style scoped>\n",
       "    .dataframe tbody tr th:only-of-type {\n",
       "        vertical-align: middle;\n",
       "    }\n",
       "\n",
       "    .dataframe tbody tr th {\n",
       "        vertical-align: top;\n",
       "    }\n",
       "\n",
       "    .dataframe thead th {\n",
       "        text-align: right;\n",
       "    }\n",
       "</style>\n",
       "<table border=\"1\" class=\"dataframe\">\n",
       "  <thead>\n",
       "    <tr style=\"text-align: right;\">\n",
       "      <th></th>\n",
       "      <th>V1</th>\n",
       "      <th>V2</th>\n",
       "      <th>V3</th>\n",
       "      <th>V4</th>\n",
       "      <th>V5</th>\n",
       "      <th>V6</th>\n",
       "      <th>V7</th>\n",
       "      <th>V8</th>\n",
       "      <th>V9</th>\n",
       "      <th>Amount</th>\n",
       "      <th>Class</th>\n",
       "    </tr>\n",
       "  </thead>\n",
       "  <tbody>\n",
       "    <tr>\n",
       "      <th>0</th>\n",
       "      <td>-1.359807</td>\n",
       "      <td>-0.072781</td>\n",
       "      <td>2.536347</td>\n",
       "      <td>1.378155</td>\n",
       "      <td>-0.338321</td>\n",
       "      <td>0.462388</td>\n",
       "      <td>0.239599</td>\n",
       "      <td>0.098698</td>\n",
       "      <td>0.363787</td>\n",
       "      <td>149.62</td>\n",
       "      <td>0</td>\n",
       "    </tr>\n",
       "    <tr>\n",
       "      <th>1</th>\n",
       "      <td>1.191857</td>\n",
       "      <td>0.266151</td>\n",
       "      <td>0.166480</td>\n",
       "      <td>0.448154</td>\n",
       "      <td>0.060018</td>\n",
       "      <td>-0.082361</td>\n",
       "      <td>-0.078803</td>\n",
       "      <td>0.085102</td>\n",
       "      <td>-0.255425</td>\n",
       "      <td>2.69</td>\n",
       "      <td>0</td>\n",
       "    </tr>\n",
       "    <tr>\n",
       "      <th>2</th>\n",
       "      <td>-1.358354</td>\n",
       "      <td>-1.340163</td>\n",
       "      <td>1.773209</td>\n",
       "      <td>0.379780</td>\n",
       "      <td>-0.503198</td>\n",
       "      <td>1.800499</td>\n",
       "      <td>0.791461</td>\n",
       "      <td>0.247676</td>\n",
       "      <td>-1.514654</td>\n",
       "      <td>378.66</td>\n",
       "      <td>0</td>\n",
       "    </tr>\n",
       "    <tr>\n",
       "      <th>3</th>\n",
       "      <td>-0.966272</td>\n",
       "      <td>-0.185226</td>\n",
       "      <td>1.792993</td>\n",
       "      <td>-0.863291</td>\n",
       "      <td>-0.010309</td>\n",
       "      <td>1.247203</td>\n",
       "      <td>0.237609</td>\n",
       "      <td>0.377436</td>\n",
       "      <td>-1.387024</td>\n",
       "      <td>123.50</td>\n",
       "      <td>0</td>\n",
       "    </tr>\n",
       "    <tr>\n",
       "      <th>4</th>\n",
       "      <td>-1.158233</td>\n",
       "      <td>0.877737</td>\n",
       "      <td>1.548718</td>\n",
       "      <td>0.403034</td>\n",
       "      <td>-0.407193</td>\n",
       "      <td>0.095921</td>\n",
       "      <td>0.592941</td>\n",
       "      <td>-0.270533</td>\n",
       "      <td>0.817739</td>\n",
       "      <td>69.99</td>\n",
       "      <td>0</td>\n",
       "    </tr>\n",
       "  </tbody>\n",
       "</table>\n",
       "</div>"
      ],
      "text/plain": [
       "         V1        V2        V3        V4        V5        V6        V7  \\\n",
       "0 -1.359807 -0.072781  2.536347  1.378155 -0.338321  0.462388  0.239599   \n",
       "1  1.191857  0.266151  0.166480  0.448154  0.060018 -0.082361 -0.078803   \n",
       "2 -1.358354 -1.340163  1.773209  0.379780 -0.503198  1.800499  0.791461   \n",
       "3 -0.966272 -0.185226  1.792993 -0.863291 -0.010309  1.247203  0.237609   \n",
       "4 -1.158233  0.877737  1.548718  0.403034 -0.407193  0.095921  0.592941   \n",
       "\n",
       "         V8        V9  Amount  Class  \n",
       "0  0.098698  0.363787  149.62      0  \n",
       "1  0.085102 -0.255425    2.69      0  \n",
       "2  0.247676 -1.514654  378.66      0  \n",
       "3  0.377436 -1.387024  123.50      0  \n",
       "4 -0.270533  0.817739   69.99      0  "
      ]
     },
     "execution_count": 2,
     "metadata": {},
     "output_type": "execute_result"
    }
   ],
   "source": [
    "# Import the dataset\n",
    "file_path = Path(\"../Resources/transactions.csv\")\n",
    "transactions_df = pd.read_csv(file_path)\n",
    "transactions_df.head()"
   ]
  },
  {
   "cell_type": "markdown",
   "metadata": {},
   "source": [
    "## Data Preprocessing"
   ]
  },
  {
   "cell_type": "code",
   "execution_count": 5,
   "metadata": {},
   "outputs": [
    {
     "data": {
      "text/plain": [
       "array([[-1.35980713e+00, -7.27811730e-02,  2.53634674e+00, ...,\n",
       "         9.86979010e-02,  3.63786970e-01,  1.49620000e+02],\n",
       "       [ 1.19185711e+00,  2.66150712e-01,  1.66480113e-01, ...,\n",
       "         8.51016550e-02, -2.55425128e-01,  2.69000000e+00],\n",
       "       [-1.35835406e+00, -1.34016307e+00,  1.77320934e+00, ...,\n",
       "         2.47675787e-01, -1.51465432e+00,  3.78660000e+02],\n",
       "       ...,\n",
       "       [ 1.91956501e+00, -3.01253846e-01, -3.24963981e+00, ...,\n",
       "         7.08417185e-01,  4.32454048e-01,  6.78800000e+01],\n",
       "       [-2.40440050e-01,  5.30482513e-01,  7.02510230e-01, ...,\n",
       "         6.79145460e-01,  3.92086712e-01,  1.00000000e+01],\n",
       "       [-5.33412522e-01, -1.89733337e-01,  7.03337367e-01, ...,\n",
       "        -4.14650408e-01,  4.86179505e-01,  2.17000000e+02]])"
      ]
     },
     "execution_count": 5,
     "metadata": {},
     "output_type": "execute_result"
    }
   ],
   "source": [
    "# Creating the X and y sets\n",
    "X = transactions_df.iloc[:, 0:10].values\n",
    "X"
   ]
  },
  {
   "cell_type": "code",
   "execution_count": 4,
   "metadata": {},
   "outputs": [],
   "source": [
    "y = transactions_df[\"Class\"].values"
   ]
  },
  {
   "cell_type": "code",
   "execution_count": 6,
   "metadata": {},
   "outputs": [],
   "source": [
    "# Creating training, validation, and testing sets\n",
    "from sklearn.model_selection import train_test_split\n",
    "\n",
    "X_train, X_test, y_train, y_test = train_test_split(X, y, random_state=78)\n",
    "\n",
    "X_train, X_val, y_train, y_val = train_test_split(X_train, y_train, random_state=78)\n",
    "\n",
    "#Sometimes called test1 and test1, or val1 and val2"
   ]
  },
  {
   "cell_type": "code",
   "execution_count": 7,
   "metadata": {},
   "outputs": [],
   "source": [
    "# Import the StandardScaler from sklearn\n",
    "from sklearn.preprocessing import StandardScaler\n",
    "\n",
    "# Scale the data\n",
    "scaler = StandardScaler().fit(X_train)\n",
    "X_train = scaler.transform(X_train)"
   ]
  },
  {
   "cell_type": "markdown",
   "metadata": {},
   "source": [
    "## Build and Train the Deep Learning Model"
   ]
  },
  {
   "cell_type": "markdown",
   "metadata": {},
   "source": [
    " ### Importing the Keras Modules"
   ]
  },
  {
   "cell_type": "code",
   "execution_count": 8,
   "metadata": {},
   "outputs": [],
   "source": [
    "# Import Keras modules for model creation\n",
    "from tensorflow.keras.models import Sequential\n",
    "from tensorflow.keras.layers import Dense"
   ]
  },
  {
   "cell_type": "markdown",
   "metadata": {},
   "source": [
    " ### Setting Up the Model"
   ]
  },
  {
   "cell_type": "code",
   "execution_count": 9,
   "metadata": {},
   "outputs": [],
   "source": [
    "# Model set-up\n",
    "number_input_features = 10\n",
    "hidden_nodes_layer1 = 15\n",
    "hidden_nodes_layer2 = 5"
   ]
  },
  {
   "cell_type": "markdown",
   "metadata": {},
   "source": [
    " ### Defining the Model's Structure"
   ]
  },
  {
   "cell_type": "code",
   "execution_count": 10,
   "metadata": {},
   "outputs": [],
   "source": [
    "# Define the LSTM RNN model\n",
    "model = Sequential()\n",
    "\n",
    "# Layer 1\n",
    "model.add(\n",
    "    Dense(units=hidden_nodes_layer1, input_dim=number_input_features, activation=\"relu\")\n",
    ")\n",
    "\n",
    "# Layer 2\n",
    "model.add(Dense(units=hidden_nodes_layer2, activation=\"relu\"))\n",
    "\n",
    "# Output layer\n",
    "model.add(Dense(1, activation=\"sigmoid\"))"
   ]
  },
  {
   "cell_type": "code",
   "execution_count": 11,
   "metadata": {},
   "outputs": [
    {
     "name": "stdout",
     "output_type": "stream",
     "text": [
      "Model: \"sequential\"\n",
      "_________________________________________________________________\n",
      " Layer (type)                Output Shape              Param #   \n",
      "=================================================================\n",
      " dense (Dense)               (None, 15)                165       \n",
      "                                                                 \n",
      " dense_1 (Dense)             (None, 5)                 80        \n",
      "                                                                 \n",
      " dense_2 (Dense)             (None, 1)                 6         \n",
      "                                                                 \n",
      "=================================================================\n",
      "Total params: 251\n",
      "Trainable params: 251\n",
      "Non-trainable params: 0\n",
      "_________________________________________________________________\n"
     ]
    }
   ],
   "source": [
    "model.summary()"
   ]
  },
  {
   "cell_type": "markdown",
   "metadata": {},
   "source": [
    " ### Compiling the Model"
   ]
  },
  {
   "cell_type": "code",
   "execution_count": 12,
   "metadata": {},
   "outputs": [],
   "source": [
    "# Compile the model\n",
    "model.compile(\n",
    "    loss=\"binary_crossentropy\",\n",
    "    optimizer=\"adam\",\n",
    "    metrics=[\n",
    "        \"accuracy\",\n",
    "        tf.keras.metrics.TruePositives(name=\"tp\"),\n",
    "        tf.keras.metrics.TrueNegatives(name=\"tn\"),\n",
    "        tf.keras.metrics.FalsePositives(name=\"fp\"),\n",
    "        tf.keras.metrics.FalseNegatives(name=\"fn\"),\n",
    "        tf.keras.metrics.Precision(name=\"precision\"),\n",
    "        tf.keras.metrics.Recall(name=\"recall\"),\n",
    "        tf.keras.metrics.AUC(name=\"auc\"),\n",
    "    ],\n",
    ")"
   ]
  },
  {
   "cell_type": "code",
   "execution_count": 13,
   "metadata": {},
   "outputs": [
    {
     "name": "stdout",
     "output_type": "stream",
     "text": [
      "Model: \"sequential\"\n",
      "_________________________________________________________________\n",
      " Layer (type)                Output Shape              Param #   \n",
      "=================================================================\n",
      " dense (Dense)               (None, 15)                165       \n",
      "                                                                 \n",
      " dense_1 (Dense)             (None, 5)                 80        \n",
      "                                                                 \n",
      " dense_2 (Dense)             (None, 1)                 6         \n",
      "                                                                 \n",
      "=================================================================\n",
      "Total params: 251\n",
      "Trainable params: 251\n",
      "Non-trainable params: 0\n",
      "_________________________________________________________________\n"
     ]
    }
   ],
   "source": [
    "# Summarize the model\n",
    "model.summary()"
   ]
  },
  {
   "cell_type": "markdown",
   "metadata": {},
   "source": [
    " ### Training the Model"
   ]
  },
  {
   "cell_type": "code",
   "execution_count": 14,
   "metadata": {},
   "outputs": [
    {
     "name": "stdout",
     "output_type": "stream",
     "text": [
      "Epoch 1/50\n",
      "161/161 [==============================] - 5s 11ms/step - loss: 0.3420 - accuracy: 0.9581 - tp: 2.0000 - tn: 153481.0000 - fp: 6465.0000 - fn: 255.0000 - precision: 3.0926e-04 - recall: 0.0078 - auc: 0.3775 - val_loss: 0.0937 - val_accuracy: 0.9980 - val_tp: 0.0000e+00 - val_tn: 53297.0000 - val_fp: 0.0000e+00 - val_fn: 105.0000 - val_precision: 0.0000e+00 - val_recall: 0.0000e+00 - val_auc: 0.5264\n",
      "Epoch 2/50\n",
      "161/161 [==============================] - 1s 5ms/step - loss: 0.0649 - accuracy: 0.9984 - tp: 5.0000 - tn: 159946.0000 - fp: 0.0000e+00 - fn: 252.0000 - precision: 1.0000 - recall: 0.0195 - auc: 0.6238 - val_loss: 0.1075 - val_accuracy: 0.9981 - val_tp: 4.0000 - val_tn: 53297.0000 - val_fp: 0.0000e+00 - val_fn: 101.0000 - val_precision: 1.0000 - val_recall: 0.0381 - val_auc: 0.5963\n",
      "Epoch 3/50\n",
      "161/161 [==============================] - 1s 5ms/step - loss: 0.0212 - accuracy: 0.9985 - tp: 12.0000 - tn: 159945.0000 - fp: 1.0000 - fn: 245.0000 - precision: 0.9231 - recall: 0.0467 - auc: 0.7753 - val_loss: 0.1291 - val_accuracy: 0.9982 - val_tp: 7.0000 - val_tn: 53297.0000 - val_fp: 0.0000e+00 - val_fn: 98.0000 - val_precision: 1.0000 - val_recall: 0.0667 - val_auc: 0.6298\n",
      "Epoch 4/50\n",
      "161/161 [==============================] - 1s 5ms/step - loss: 0.0126 - accuracy: 0.9987 - tp: 47.0000 - tn: 159940.0000 - fp: 6.0000 - fn: 210.0000 - precision: 0.8868 - recall: 0.1829 - auc: 0.8083 - val_loss: 0.1425 - val_accuracy: 0.9982 - val_tp: 10.0000 - val_tn: 53294.0000 - val_fp: 3.0000 - val_fn: 95.0000 - val_precision: 0.7692 - val_recall: 0.0952 - val_auc: 0.6536\n",
      "Epoch 5/50\n",
      "161/161 [==============================] - 1s 7ms/step - loss: 0.0094 - accuracy: 0.9987 - tp: 60.0000 - tn: 159935.0000 - fp: 11.0000 - fn: 197.0000 - precision: 0.8451 - recall: 0.2335 - auc: 0.8402 - val_loss: 0.1504 - val_accuracy: 0.9982 - val_tp: 14.0000 - val_tn: 53293.0000 - val_fp: 4.0000 - val_fn: 91.0000 - val_precision: 0.7778 - val_recall: 0.1333 - val_auc: 0.6652\n",
      "Epoch 6/50\n",
      "161/161 [==============================] - 1s 5ms/step - loss: 0.0078 - accuracy: 0.9989 - tp: 91.0000 - tn: 159930.0000 - fp: 16.0000 - fn: 166.0000 - precision: 0.8505 - recall: 0.3541 - auc: 0.8648 - val_loss: 0.1533 - val_accuracy: 0.9983 - val_tp: 19.0000 - val_tn: 53293.0000 - val_fp: 4.0000 - val_fn: 86.0000 - val_precision: 0.8261 - val_recall: 0.1810 - val_auc: 0.6849\n",
      "Epoch 7/50\n",
      "161/161 [==============================] - 1s 5ms/step - loss: 0.0068 - accuracy: 0.9989 - tp: 102.0000 - tn: 159927.0000 - fp: 19.0000 - fn: 155.0000 - precision: 0.8430 - recall: 0.3969 - auc: 0.8804 - val_loss: 0.1534 - val_accuracy: 0.9984 - val_tp: 23.0000 - val_tn: 53292.0000 - val_fp: 5.0000 - val_fn: 82.0000 - val_precision: 0.8214 - val_recall: 0.2190 - val_auc: 0.6930\n",
      "Epoch 8/50\n",
      "161/161 [==============================] - 1s 5ms/step - loss: 0.0062 - accuracy: 0.9990 - tp: 111.0000 - tn: 159927.0000 - fp: 19.0000 - fn: 146.0000 - precision: 0.8538 - recall: 0.4319 - auc: 0.8989 - val_loss: 0.1514 - val_accuracy: 0.9985 - val_tp: 29.0000 - val_tn: 53292.0000 - val_fp: 5.0000 - val_fn: 76.0000 - val_precision: 0.8529 - val_recall: 0.2762 - val_auc: 0.7088\n",
      "Epoch 9/50\n",
      "161/161 [==============================] - 1s 8ms/step - loss: 0.0057 - accuracy: 0.9990 - tp: 119.0000 - tn: 159927.0000 - fp: 19.0000 - fn: 138.0000 - precision: 0.8623 - recall: 0.4630 - auc: 0.9023 - val_loss: 0.1487 - val_accuracy: 0.9985 - val_tp: 31.0000 - val_tn: 53291.0000 - val_fp: 6.0000 - val_fn: 74.0000 - val_precision: 0.8378 - val_recall: 0.2952 - val_auc: 0.7289\n",
      "Epoch 10/50\n",
      "161/161 [==============================] - 1s 7ms/step - loss: 0.0053 - accuracy: 0.9990 - tp: 125.0000 - tn: 159923.0000 - fp: 23.0000 - fn: 132.0000 - precision: 0.8446 - recall: 0.4864 - auc: 0.9056 - val_loss: 0.1389 - val_accuracy: 0.9985 - val_tp: 33.0000 - val_tn: 53291.0000 - val_fp: 6.0000 - val_fn: 72.0000 - val_precision: 0.8462 - val_recall: 0.3143 - val_auc: 0.7293\n",
      "Epoch 11/50\n",
      "161/161 [==============================] - 1s 5ms/step - loss: 0.0050 - accuracy: 0.9991 - tp: 133.0000 - tn: 159924.0000 - fp: 22.0000 - fn: 124.0000 - precision: 0.8581 - recall: 0.5175 - auc: 0.9048 - val_loss: 0.1347 - val_accuracy: 0.9985 - val_tp: 34.0000 - val_tn: 53286.0000 - val_fp: 11.0000 - val_fn: 71.0000 - val_precision: 0.7556 - val_recall: 0.3238 - val_auc: 0.7342\n",
      "Epoch 12/50\n",
      "161/161 [==============================] - 1s 5ms/step - loss: 0.0048 - accuracy: 0.9991 - tp: 136.0000 - tn: 159923.0000 - fp: 23.0000 - fn: 121.0000 - precision: 0.8553 - recall: 0.5292 - auc: 0.9111 - val_loss: 0.1285 - val_accuracy: 0.9985 - val_tp: 37.0000 - val_tn: 53286.0000 - val_fp: 11.0000 - val_fn: 68.0000 - val_precision: 0.7708 - val_recall: 0.3524 - val_auc: 0.7387\n",
      "Epoch 13/50\n",
      "161/161 [==============================] - 1s 7ms/step - loss: 0.0045 - accuracy: 0.9991 - tp: 142.0000 - tn: 159922.0000 - fp: 24.0000 - fn: 115.0000 - precision: 0.8554 - recall: 0.5525 - auc: 0.9116 - val_loss: 0.1234 - val_accuracy: 0.9986 - val_tp: 43.0000 - val_tn: 53282.0000 - val_fp: 15.0000 - val_fn: 62.0000 - val_precision: 0.7414 - val_recall: 0.4095 - val_auc: 0.7385\n",
      "Epoch 14/50\n",
      "161/161 [==============================] - 1s 7ms/step - loss: 0.0044 - accuracy: 0.9991 - tp: 147.0000 - tn: 159918.0000 - fp: 28.0000 - fn: 110.0000 - precision: 0.8400 - recall: 0.5720 - auc: 0.9197 - val_loss: 0.1222 - val_accuracy: 0.9984 - val_tp: 42.0000 - val_tn: 53277.0000 - val_fp: 20.0000 - val_fn: 63.0000 - val_precision: 0.6774 - val_recall: 0.4000 - val_auc: 0.7385\n",
      "Epoch 15/50\n",
      "161/161 [==============================] - 1s 7ms/step - loss: 0.0043 - accuracy: 0.9992 - tp: 151.0000 - tn: 159919.0000 - fp: 27.0000 - fn: 106.0000 - precision: 0.8483 - recall: 0.5875 - auc: 0.9199 - val_loss: 0.1203 - val_accuracy: 0.9984 - val_tp: 43.0000 - val_tn: 53275.0000 - val_fp: 22.0000 - val_fn: 62.0000 - val_precision: 0.6615 - val_recall: 0.4095 - val_auc: 0.7567\n",
      "Epoch 16/50\n",
      "161/161 [==============================] - 1s 9ms/step - loss: 0.0041 - accuracy: 0.9992 - tp: 156.0000 - tn: 159918.0000 - fp: 28.0000 - fn: 101.0000 - precision: 0.8478 - recall: 0.6070 - auc: 0.9219 - val_loss: 0.1197 - val_accuracy: 0.9985 - val_tp: 43.0000 - val_tn: 53278.0000 - val_fp: 19.0000 - val_fn: 62.0000 - val_precision: 0.6935 - val_recall: 0.4095 - val_auc: 0.7520\n",
      "Epoch 17/50\n",
      "161/161 [==============================] - 1s 7ms/step - loss: 0.0041 - accuracy: 0.9992 - tp: 153.0000 - tn: 159919.0000 - fp: 27.0000 - fn: 104.0000 - precision: 0.8500 - recall: 0.5953 - auc: 0.9221 - val_loss: 0.1194 - val_accuracy: 0.9982 - val_tp: 44.0000 - val_tn: 53262.0000 - val_fp: 35.0000 - val_fn: 61.0000 - val_precision: 0.5570 - val_recall: 0.4190 - val_auc: 0.7560\n",
      "Epoch 18/50\n",
      "161/161 [==============================] - 1s 9ms/step - loss: 0.0040 - accuracy: 0.9992 - tp: 154.0000 - tn: 159917.0000 - fp: 29.0000 - fn: 103.0000 - precision: 0.8415 - recall: 0.5992 - auc: 0.9280 - val_loss: 0.1193 - val_accuracy: 0.9979 - val_tp: 45.0000 - val_tn: 53246.0000 - val_fp: 51.0000 - val_fn: 60.0000 - val_precision: 0.4688 - val_recall: 0.4286 - val_auc: 0.7602\n",
      "Epoch 19/50\n",
      "161/161 [==============================] - 1s 8ms/step - loss: 0.0039 - accuracy: 0.9992 - tp: 157.0000 - tn: 159918.0000 - fp: 28.0000 - fn: 100.0000 - precision: 0.8486 - recall: 0.6109 - auc: 0.9262 - val_loss: 0.1171 - val_accuracy: 0.9978 - val_tp: 44.0000 - val_tn: 53243.0000 - val_fp: 54.0000 - val_fn: 61.0000 - val_precision: 0.4490 - val_recall: 0.4190 - val_auc: 0.7640\n",
      "Epoch 20/50\n",
      "161/161 [==============================] - 1s 7ms/step - loss: 0.0039 - accuracy: 0.9992 - tp: 155.0000 - tn: 159918.0000 - fp: 28.0000 - fn: 102.0000 - precision: 0.8470 - recall: 0.6031 - auc: 0.9281 - val_loss: 0.1171 - val_accuracy: 0.9976 - val_tp: 46.0000 - val_tn: 53226.0000 - val_fp: 71.0000 - val_fn: 59.0000 - val_precision: 0.3932 - val_recall: 0.4381 - val_auc: 0.7779\n",
      "Epoch 21/50\n",
      "161/161 [==============================] - 1s 5ms/step - loss: 0.0039 - accuracy: 0.9992 - tp: 161.0000 - tn: 159918.0000 - fp: 28.0000 - fn: 96.0000 - precision: 0.8519 - recall: 0.6265 - auc: 0.9302 - val_loss: 0.1151 - val_accuracy: 0.9977 - val_tp: 45.0000 - val_tn: 53233.0000 - val_fp: 64.0000 - val_fn: 60.0000 - val_precision: 0.4128 - val_recall: 0.4286 - val_auc: 0.7729\n",
      "Epoch 22/50\n",
      "161/161 [==============================] - 1s 5ms/step - loss: 0.0038 - accuracy: 0.9992 - tp: 157.0000 - tn: 159918.0000 - fp: 28.0000 - fn: 100.0000 - precision: 0.8486 - recall: 0.6109 - auc: 0.9283 - val_loss: 0.1137 - val_accuracy: 0.9974 - val_tp: 45.0000 - val_tn: 53217.0000 - val_fp: 80.0000 - val_fn: 60.0000 - val_precision: 0.3600 - val_recall: 0.4286 - val_auc: 0.7818\n",
      "Epoch 23/50\n",
      "161/161 [==============================] - 1s 7ms/step - loss: 0.0038 - accuracy: 0.9992 - tp: 159.0000 - tn: 159918.0000 - fp: 28.0000 - fn: 98.0000 - precision: 0.8503 - recall: 0.6187 - auc: 0.9303 - val_loss: 0.1117 - val_accuracy: 0.9974 - val_tp: 45.0000 - val_tn: 53218.0000 - val_fp: 79.0000 - val_fn: 60.0000 - val_precision: 0.3629 - val_recall: 0.4286 - val_auc: 0.7865\n",
      "Epoch 24/50\n",
      "161/161 [==============================] - 2s 11ms/step - loss: 0.0037 - accuracy: 0.9992 - tp: 160.0000 - tn: 159921.0000 - fp: 25.0000 - fn: 97.0000 - precision: 0.8649 - recall: 0.6226 - auc: 0.9303 - val_loss: 0.1113 - val_accuracy: 0.9973 - val_tp: 46.0000 - val_tn: 53212.0000 - val_fp: 85.0000 - val_fn: 59.0000 - val_precision: 0.3511 - val_recall: 0.4381 - val_auc: 0.7865\n",
      "Epoch 25/50\n",
      "161/161 [==============================] - 1s 6ms/step - loss: 0.0037 - accuracy: 0.9992 - tp: 162.0000 - tn: 159918.0000 - fp: 28.0000 - fn: 95.0000 - precision: 0.8526 - recall: 0.6304 - auc: 0.9303 - val_loss: 0.1087 - val_accuracy: 0.9972 - val_tp: 48.0000 - val_tn: 53203.0000 - val_fp: 94.0000 - val_fn: 57.0000 - val_precision: 0.3380 - val_recall: 0.4571 - val_auc: 0.7909\n",
      "Epoch 26/50\n",
      "161/161 [==============================] - 1s 7ms/step - loss: 0.0037 - accuracy: 0.9992 - tp: 160.0000 - tn: 159918.0000 - fp: 28.0000 - fn: 97.0000 - precision: 0.8511 - recall: 0.6226 - auc: 0.9304 - val_loss: 0.1076 - val_accuracy: 0.9973 - val_tp: 46.0000 - val_tn: 53210.0000 - val_fp: 87.0000 - val_fn: 59.0000 - val_precision: 0.3459 - val_recall: 0.4381 - val_auc: 0.7910\n",
      "Epoch 27/50\n",
      "161/161 [==============================] - 1s 4ms/step - loss: 0.0037 - accuracy: 0.9992 - tp: 163.0000 - tn: 159919.0000 - fp: 27.0000 - fn: 94.0000 - precision: 0.8579 - recall: 0.6342 - auc: 0.9323 - val_loss: 0.1054 - val_accuracy: 0.9973 - val_tp: 46.0000 - val_tn: 53211.0000 - val_fp: 86.0000 - val_fn: 59.0000 - val_precision: 0.3485 - val_recall: 0.4381 - val_auc: 0.7907\n",
      "Epoch 28/50\n",
      "161/161 [==============================] - 1s 5ms/step - loss: 0.0036 - accuracy: 0.9992 - tp: 161.0000 - tn: 159920.0000 - fp: 26.0000 - fn: 96.0000 - precision: 0.8610 - recall: 0.6265 - auc: 0.9323 - val_loss: 0.1044 - val_accuracy: 0.9974 - val_tp: 46.0000 - val_tn: 53217.0000 - val_fp: 80.0000 - val_fn: 59.0000 - val_precision: 0.3651 - val_recall: 0.4381 - val_auc: 0.7860\n",
      "Epoch 29/50\n",
      "161/161 [==============================] - 1s 5ms/step - loss: 0.0036 - accuracy: 0.9993 - tp: 163.0000 - tn: 159920.0000 - fp: 26.0000 - fn: 94.0000 - precision: 0.8624 - recall: 0.6342 - auc: 0.9324 - val_loss: 0.1069 - val_accuracy: 0.9975 - val_tp: 47.0000 - val_tn: 53221.0000 - val_fp: 76.0000 - val_fn: 58.0000 - val_precision: 0.3821 - val_recall: 0.4476 - val_auc: 0.7909\n",
      "Epoch 30/50\n",
      "161/161 [==============================] - 1s 6ms/step - loss: 0.0036 - accuracy: 0.9992 - tp: 162.0000 - tn: 159920.0000 - fp: 26.0000 - fn: 95.0000 - precision: 0.8617 - recall: 0.6304 - auc: 0.9324 - val_loss: 0.1036 - val_accuracy: 0.9973 - val_tp: 49.0000 - val_tn: 53209.0000 - val_fp: 88.0000 - val_fn: 56.0000 - val_precision: 0.3577 - val_recall: 0.4667 - val_auc: 0.7913\n",
      "Epoch 31/50\n",
      "161/161 [==============================] - 1s 7ms/step - loss: 0.0036 - accuracy: 0.9993 - tp: 165.0000 - tn: 159918.0000 - fp: 28.0000 - fn: 92.0000 - precision: 0.8549 - recall: 0.6420 - auc: 0.9362 - val_loss: 0.1077 - val_accuracy: 0.9979 - val_tp: 45.0000 - val_tn: 53246.0000 - val_fp: 51.0000 - val_fn: 60.0000 - val_precision: 0.4688 - val_recall: 0.4286 - val_auc: 0.7867\n",
      "Epoch 32/50\n",
      "161/161 [==============================] - 1s 5ms/step - loss: 0.0035 - accuracy: 0.9993 - tp: 164.0000 - tn: 159922.0000 - fp: 24.0000 - fn: 93.0000 - precision: 0.8723 - recall: 0.6381 - auc: 0.9324 - val_loss: 0.1063 - val_accuracy: 0.9975 - val_tp: 48.0000 - val_tn: 53221.0000 - val_fp: 76.0000 - val_fn: 57.0000 - val_precision: 0.3871 - val_recall: 0.4571 - val_auc: 0.7867\n",
      "Epoch 33/50\n",
      "161/161 [==============================] - 1s 5ms/step - loss: 0.0035 - accuracy: 0.9993 - tp: 166.0000 - tn: 159917.0000 - fp: 29.0000 - fn: 91.0000 - precision: 0.8513 - recall: 0.6459 - auc: 0.9344 - val_loss: 0.1089 - val_accuracy: 0.9981 - val_tp: 48.0000 - val_tn: 53253.0000 - val_fp: 44.0000 - val_fn: 57.0000 - val_precision: 0.5217 - val_recall: 0.4571 - val_auc: 0.7823\n",
      "Epoch 34/50\n",
      "161/161 [==============================] - 1s 6ms/step - loss: 0.0035 - accuracy: 0.9993 - tp: 163.0000 - tn: 159921.0000 - fp: 25.0000 - fn: 94.0000 - precision: 0.8670 - recall: 0.6342 - auc: 0.9363 - val_loss: 0.1080 - val_accuracy: 0.9981 - val_tp: 48.0000 - val_tn: 53252.0000 - val_fp: 45.0000 - val_fn: 57.0000 - val_precision: 0.5161 - val_recall: 0.4571 - val_auc: 0.7869\n",
      "Epoch 35/50\n",
      "161/161 [==============================] - 1s 5ms/step - loss: 0.0035 - accuracy: 0.9993 - tp: 166.0000 - tn: 159917.0000 - fp: 29.0000 - fn: 91.0000 - precision: 0.8513 - recall: 0.6459 - auc: 0.9344 - val_loss: 0.1096 - val_accuracy: 0.9982 - val_tp: 44.0000 - val_tn: 53264.0000 - val_fp: 33.0000 - val_fn: 61.0000 - val_precision: 0.5714 - val_recall: 0.4190 - val_auc: 0.7777\n",
      "Epoch 36/50\n",
      "161/161 [==============================] - 1s 5ms/step - loss: 0.0035 - accuracy: 0.9992 - tp: 162.0000 - tn: 159919.0000 - fp: 27.0000 - fn: 95.0000 - precision: 0.8571 - recall: 0.6304 - auc: 0.9344 - val_loss: 0.1113 - val_accuracy: 0.9981 - val_tp: 47.0000 - val_tn: 53254.0000 - val_fp: 43.0000 - val_fn: 58.0000 - val_precision: 0.5222 - val_recall: 0.4476 - val_auc: 0.7824\n",
      "Epoch 37/50\n",
      "161/161 [==============================] - 1s 5ms/step - loss: 0.0034 - accuracy: 0.9993 - tp: 166.0000 - tn: 159918.0000 - fp: 28.0000 - fn: 91.0000 - precision: 0.8557 - recall: 0.6459 - auc: 0.9363 - val_loss: 0.1123 - val_accuracy: 0.9983 - val_tp: 47.0000 - val_tn: 53266.0000 - val_fp: 31.0000 - val_fn: 58.0000 - val_precision: 0.6026 - val_recall: 0.4476 - val_auc: 0.7780\n",
      "Epoch 38/50\n",
      "161/161 [==============================] - 1s 5ms/step - loss: 0.0034 - accuracy: 0.9993 - tp: 167.0000 - tn: 159920.0000 - fp: 26.0000 - fn: 90.0000 - precision: 0.8653 - recall: 0.6498 - auc: 0.9344 - val_loss: 0.1125 - val_accuracy: 0.9984 - val_tp: 47.0000 - val_tn: 53268.0000 - val_fp: 29.0000 - val_fn: 58.0000 - val_precision: 0.6184 - val_recall: 0.4476 - val_auc: 0.7779\n",
      "Epoch 39/50\n",
      "161/161 [==============================] - 1s 6ms/step - loss: 0.0034 - accuracy: 0.9993 - tp: 165.0000 - tn: 159920.0000 - fp: 26.0000 - fn: 92.0000 - precision: 0.8639 - recall: 0.6420 - auc: 0.9364 - val_loss: 0.1111 - val_accuracy: 0.9984 - val_tp: 47.0000 - val_tn: 53267.0000 - val_fp: 30.0000 - val_fn: 58.0000 - val_precision: 0.6104 - val_recall: 0.4476 - val_auc: 0.7776\n",
      "Epoch 40/50\n",
      "161/161 [==============================] - 1s 6ms/step - loss: 0.0034 - accuracy: 0.9993 - tp: 167.0000 - tn: 159921.0000 - fp: 25.0000 - fn: 90.0000 - precision: 0.8698 - recall: 0.6498 - auc: 0.9344 - val_loss: 0.1097 - val_accuracy: 0.9984 - val_tp: 47.0000 - val_tn: 53269.0000 - val_fp: 28.0000 - val_fn: 58.0000 - val_precision: 0.6267 - val_recall: 0.4476 - val_auc: 0.7776\n",
      "Epoch 41/50\n",
      "161/161 [==============================] - 1s 5ms/step - loss: 0.0034 - accuracy: 0.9993 - tp: 167.0000 - tn: 159923.0000 - fp: 23.0000 - fn: 90.0000 - precision: 0.8789 - recall: 0.6498 - auc: 0.9364 - val_loss: 0.1120 - val_accuracy: 0.9983 - val_tp: 47.0000 - val_tn: 53266.0000 - val_fp: 31.0000 - val_fn: 58.0000 - val_precision: 0.6026 - val_recall: 0.4476 - val_auc: 0.7779\n",
      "Epoch 42/50\n",
      "161/161 [==============================] - 1s 7ms/step - loss: 0.0033 - accuracy: 0.9993 - tp: 171.0000 - tn: 159922.0000 - fp: 24.0000 - fn: 86.0000 - precision: 0.8769 - recall: 0.6654 - auc: 0.9383 - val_loss: 0.1134 - val_accuracy: 0.9984 - val_tp: 47.0000 - val_tn: 53272.0000 - val_fp: 25.0000 - val_fn: 58.0000 - val_precision: 0.6528 - val_recall: 0.4476 - val_auc: 0.7733\n",
      "Epoch 43/50\n",
      "161/161 [==============================] - 1s 7ms/step - loss: 0.0034 - accuracy: 0.9993 - tp: 167.0000 - tn: 159922.0000 - fp: 24.0000 - fn: 90.0000 - precision: 0.8743 - recall: 0.6498 - auc: 0.9365 - val_loss: 0.1132 - val_accuracy: 0.9984 - val_tp: 48.0000 - val_tn: 53268.0000 - val_fp: 29.0000 - val_fn: 57.0000 - val_precision: 0.6234 - val_recall: 0.4571 - val_auc: 0.7778\n",
      "Epoch 44/50\n",
      "161/161 [==============================] - 1s 7ms/step - loss: 0.0033 - accuracy: 0.9993 - tp: 170.0000 - tn: 159921.0000 - fp: 25.0000 - fn: 87.0000 - precision: 0.8718 - recall: 0.6615 - auc: 0.9403 - val_loss: 0.1144 - val_accuracy: 0.9985 - val_tp: 48.0000 - val_tn: 53272.0000 - val_fp: 25.0000 - val_fn: 57.0000 - val_precision: 0.6575 - val_recall: 0.4571 - val_auc: 0.7778\n",
      "Epoch 45/50\n",
      "161/161 [==============================] - 1s 8ms/step - loss: 0.0033 - accuracy: 0.9993 - tp: 167.0000 - tn: 159921.0000 - fp: 25.0000 - fn: 90.0000 - precision: 0.8698 - recall: 0.6498 - auc: 0.9365 - val_loss: 0.1127 - val_accuracy: 0.9984 - val_tp: 48.0000 - val_tn: 53269.0000 - val_fp: 28.0000 - val_fn: 57.0000 - val_precision: 0.6316 - val_recall: 0.4571 - val_auc: 0.7775\n",
      "Epoch 46/50\n",
      "161/161 [==============================] - 1s 6ms/step - loss: 0.0033 - accuracy: 0.9993 - tp: 169.0000 - tn: 159921.0000 - fp: 25.0000 - fn: 88.0000 - precision: 0.8711 - recall: 0.6576 - auc: 0.9384 - val_loss: 0.1128 - val_accuracy: 0.9984 - val_tp: 48.0000 - val_tn: 53271.0000 - val_fp: 26.0000 - val_fn: 57.0000 - val_precision: 0.6486 - val_recall: 0.4571 - val_auc: 0.7775\n",
      "Epoch 47/50\n",
      "161/161 [==============================] - 1s 6ms/step - loss: 0.0033 - accuracy: 0.9993 - tp: 170.0000 - tn: 159919.0000 - fp: 27.0000 - fn: 87.0000 - precision: 0.8629 - recall: 0.6615 - auc: 0.9404 - val_loss: 0.1105 - val_accuracy: 0.9984 - val_tp: 49.0000 - val_tn: 53268.0000 - val_fp: 29.0000 - val_fn: 56.0000 - val_precision: 0.6282 - val_recall: 0.4667 - val_auc: 0.7863\n",
      "Epoch 48/50\n",
      "161/161 [==============================] - 1s 6ms/step - loss: 0.0033 - accuracy: 0.9993 - tp: 172.0000 - tn: 159922.0000 - fp: 24.0000 - fn: 85.0000 - precision: 0.8776 - recall: 0.6693 - auc: 0.9423 - val_loss: 0.1119 - val_accuracy: 0.9984 - val_tp: 48.0000 - val_tn: 53271.0000 - val_fp: 26.0000 - val_fn: 57.0000 - val_precision: 0.6486 - val_recall: 0.4571 - val_auc: 0.7817\n",
      "Epoch 49/50\n",
      "161/161 [==============================] - 1s 5ms/step - loss: 0.0033 - accuracy: 0.9993 - tp: 174.0000 - tn: 159921.0000 - fp: 25.0000 - fn: 83.0000 - precision: 0.8744 - recall: 0.6770 - auc: 0.9384 - val_loss: 0.1133 - val_accuracy: 0.9985 - val_tp: 47.0000 - val_tn: 53275.0000 - val_fp: 22.0000 - val_fn: 58.0000 - val_precision: 0.6812 - val_recall: 0.4476 - val_auc: 0.7773\n",
      "Epoch 50/50\n",
      "161/161 [==============================] - 1s 5ms/step - loss: 0.0032 - accuracy: 0.9993 - tp: 173.0000 - tn: 159921.0000 - fp: 25.0000 - fn: 84.0000 - precision: 0.8737 - recall: 0.6732 - auc: 0.9422 - val_loss: 0.1115 - val_accuracy: 0.9984 - val_tp: 48.0000 - val_tn: 53271.0000 - val_fp: 26.0000 - val_fn: 57.0000 - val_precision: 0.6486 - val_recall: 0.4571 - val_auc: 0.7813\n"
     ]
    }
   ],
   "source": [
    "# Training the model\n",
    "batch_size = 1000\n",
    "epochs = 50\n",
    "training_history = model.fit(\n",
    "    X_train,\n",
    "    y_train,\n",
    "    validation_data=(X_val, y_val),\n",
    "    epochs=epochs,\n",
    "    batch_size=batch_size,\n",
    "    verbose=1,\n",
    ")"
   ]
  },
  {
   "cell_type": "markdown",
   "metadata": {},
   "source": [
    "### Model Performance"
   ]
  },
  {
   "cell_type": "markdown",
   "metadata": {},
   "source": [
    "#### Checking Training History"
   ]
  },
  {
   "cell_type": "code",
   "execution_count": 15,
   "metadata": {},
   "outputs": [
    {
     "data": {
      "text/plain": [
       "<AxesSubplot:title={'center':'Loss'}, xlabel='Epoch'>"
      ]
     },
     "execution_count": 15,
     "metadata": {},
     "output_type": "execute_result"
    },
    {
     "data": {
      "image/png": "[encoded data removed]",
      "text/plain": [
       "<Figure size 640x480 with 1 Axes>"
      ]
     },
     "metadata": {},
     "output_type": "display_data"
    }
   ],
   "source": [
    "# Plotting loss\n",
    "loss_df = pd.DataFrame(\n",
    "    {\n",
    "        \"Epoch\": range(1, epochs + 1),\n",
    "        \"Train\": training_history.history[\"loss\"],\n",
    "        \"Val\": training_history.history[\"val_loss\"],\n",
    "    }\n",
    ")\n",
    "loss_df.set_index(\"Epoch\", inplace=True)\n",
    "loss_df.plot(title=\"Loss\")"
   ]
  },
  {
   "cell_type": "code",
   "execution_count": 16,
   "metadata": {},
   "outputs": [
    {
     "data": {
      "text/plain": [
       "<AxesSubplot:title={'center':'Accuracy'}, xlabel='Epoch'>"
      ]
     },
     "execution_count": 16,
     "metadata": {},
     "output_type": "execute_result"
    },
    {
     "data": {
      "image/png": "[encoded data removed]",
      "text/plain": [
       "<Figure size 640x480 with 1 Axes>"
      ]
     },
     "metadata": {},
     "output_type": "display_data"
    }
   ],
   "source": [
    "# Plotting accuracy\n",
    "accuracy_df = pd.DataFrame(\n",
    "    {\n",
    "        \"Epoch\": range(1, epochs + 1),\n",
    "        \"Train\": training_history.history[\"accuracy\"],\n",
    "        \"Val\": training_history.history[\"val_accuracy\"],\n",
    "    }\n",
    ")\n",
    "accuracy_df.set_index(\"Epoch\", inplace=True)\n",
    "accuracy_df.plot(title=\"Accuracy\")"
   ]
  },
  {
   "cell_type": "code",
   "execution_count": 17,
   "metadata": {},
   "outputs": [
    {
     "data": {
      "text/plain": [
       "<AxesSubplot:title={'center':'AUC'}, xlabel='Epoch'>"
      ]
     },
     "execution_count": 17,
     "metadata": {},
     "output_type": "execute_result"
    },
    {
     "data": {
      "image/png": "[encoded data removed]",
      "text/plain": [
       "<Figure size 640x480 with 1 Axes>"
      ]
     },
     "metadata": {},
     "output_type": "display_data"
    }
   ],
   "source": [
    "# Plotting AUC\n",
    "auc_df = pd.DataFrame(\n",
    "    {\n",
    "        \"Epoch\": range(1, epochs + 1),\n",
    "        \"Train\": training_history.history[\"auc\"],\n",
    "        \"Val\": training_history.history[\"val_auc\"],\n",
    "    }\n",
    ")\n",
    "auc_df.set_index(\"Epoch\", inplace=True)\n",
    "auc_df.plot(title=\"AUC\")"
   ]
  },
  {
   "cell_type": "markdown",
   "metadata": {},
   "source": [
    "#### Plotting the ROC Curve"
   ]
  },
  {
   "cell_type": "code",
   "execution_count": 18,
   "metadata": {},
   "outputs": [],
   "source": [
    "# Import the roc_curve and auc metrics from sklearn\n",
    "from sklearn.metrics import roc_curve, auc"
   ]
  },
  {
   "cell_type": "code",
   "execution_count": 19,
   "metadata": {},
   "outputs": [
    {
     "name": "stdout",
     "output_type": "stream",
     "text": [
      "161/161 [==============================] - 1s 5ms/step\n",
      "72/72 [==============================] - 1s 8ms/step\n"
     ]
    }
   ],
   "source": [
    "# Making predictions to feed the roc_curve module\n",
    "train_predictions = model.predict(X_train, batch_size=1000)\n",
    "test_predictions = model.predict(X_test, batch_size=1000)"
   ]
  },
  {
   "cell_type": "code",
   "execution_count": 20,
   "metadata": {},
   "outputs": [],
   "source": [
    "# Calculate the ROC curve and AUC for the training set\n",
    "fpr_train, tpr_train, thresholds_train = roc_curve(y_train, train_predictions)\n",
    "auc_train = auc(fpr_train, tpr_train)\n",
    "auc_train = round(auc_train, 4)\n",
    "\n",
    "# Calculate the ROC curve and AUC for the testing set\n",
    "fpr_test, tpr_test, thresholds_test = roc_curve(y_test, test_predictions)\n",
    "auc_test = auc(fpr_test, tpr_test)\n",
    "auc_test = round(auc_test, 4)"
   ]
  },
  {
   "cell_type": "code",
   "execution_count": 21,
   "metadata": {},
   "outputs": [],
   "source": [
    "# Create a DataFrame with the fpr and tpr results\n",
    "roc_df_train = pd.DataFrame({\"FPR Train\": fpr_train, \"TPR Train\": tpr_train,})\n",
    "\n",
    "roc_df_test = pd.DataFrame({\"FPR Test\": fpr_test, \"TPR Test\": tpr_test,})"
   ]
  },
  {
   "cell_type": "code",
   "execution_count": 28,
   "metadata": {},
   "outputs": [
    {
     "data": {
      "text/plain": [
       "<AxesSubplot:title={'center':'Test ROC Curve (AUC=0.7298)'}, xlabel='FPR Test'>"
      ]
     },
     "execution_count": 28,
     "metadata": {},
     "output_type": "execute_result"
    },
    {
     "data": {
      "image/png": "[encoded data removed]",
      "text/plain": [
       "<Figure size 640x480 with 1 Axes>"
      ]
     },
     "metadata": {},
     "output_type": "display_data"
    },
    {
     "data": {
      "image/png": "[encoded data removed]",
      "text/plain": [
       "<Figure size 640x480 with 1 Axes>"
      ]
     },
     "metadata": {},
     "output_type": "display_data"
    }
   ],
   "source": [
    "# Plotting the ROC Curves\n",
    "roc_df_train.plot(\n",
    "    x=\"FPR Train\",\n",
    "    y=\"TPR Train\",\n",
    "    xlim=([-0.05, 1.05]),\n",
    "    title=f\"Train ROC Curve (AUC={auc_train})\",\n",
    ")\n",
    "\n",
    "roc_df_test.plot(\n",
    "    x=\"FPR Test\",\n",
    "    y=\"TPR Test\",\n",
    "    color=\"red\",\n",
    "    style=\"--\",\n",
    "    xlim=([-0.05, 1.05]),\n",
    "    title=f\"Test ROC Curve (AUC={auc_test})\",\n",
    ")"
   ]
  },
  {
   "cell_type": "markdown",
   "metadata": {},
   "source": [
    "#### Evaluate the Model"
   ]
  },
  {
   "cell_type": "code",
   "execution_count": 23,
   "metadata": {},
   "outputs": [
    {
     "data": {
      "text/plain": [
       "{'loss': 0.11866914480924606,\n",
       " 'accuracy': 0.9985112547874451,\n",
       " 'tp': 58.0,\n",
       " 'tn': 71038.0,\n",
       " 'fp': 34.0,\n",
       " 'fn': 72.0,\n",
       " 'precision': 0.6304348111152649,\n",
       " 'recall': 0.446153849363327,\n",
       " 'auc': 0.7931825518608093}"
      ]
     },
     "metadata": {},
     "output_type": "display_data"
    }
   ],
   "source": [
    "# Evaluate the model\n",
    "scores = model.evaluate(X_test, y_test, verbose=0)\n",
    "\n",
    "# Define metrics dictionary\n",
    "metrics = {k: v for k, v in zip(model.metrics_names, scores)}\n",
    "\n",
    "# Display evaluation metrics results\n",
    "display(metrics)"
   ]
  },
  {
   "cell_type": "markdown",
   "metadata": {},
   "source": [
    "#### Confusion Matrix"
   ]
  },
  {
   "cell_type": "code",
   "execution_count": 24,
   "metadata": {},
   "outputs": [
    {
     "data": {
      "text/html": [
       "<div>\n",
       "<style scoped>\n",
       "    .dataframe tbody tr th:only-of-type {\n",
       "        vertical-align: middle;\n",
       "    }\n",
       "\n",
       "    .dataframe tbody tr th {\n",
       "        vertical-align: top;\n",
       "    }\n",
       "\n",
       "    .dataframe thead th {\n",
       "        text-align: right;\n",
       "    }\n",
       "</style>\n",
       "<table border=\"1\" class=\"dataframe\">\n",
       "  <thead>\n",
       "    <tr style=\"text-align: right;\">\n",
       "      <th>Predicted</th>\n",
       "      <th>Positive (1)</th>\n",
       "      <th>Negative (0)</th>\n",
       "    </tr>\n",
       "    <tr>\n",
       "      <th>Actual</th>\n",
       "      <th></th>\n",
       "      <th></th>\n",
       "    </tr>\n",
       "  </thead>\n",
       "  <tbody>\n",
       "    <tr>\n",
       "      <th>Positive(1)</th>\n",
       "      <td>TP=58.0</td>\n",
       "      <td>FN=34.0</td>\n",
       "    </tr>\n",
       "    <tr>\n",
       "      <th>Negative(0)</th>\n",
       "      <td>FP=72.0</td>\n",
       "      <td>TN=71038.0</td>\n",
       "    </tr>\n",
       "  </tbody>\n",
       "</table>\n",
       "</div>"
      ],
      "text/plain": [
       "Predicted   Positive (1) Negative (0)\n",
       "Actual                               \n",
       "Positive(1)      TP=58.0      FN=34.0\n",
       "Negative(0)      FP=72.0   TN=71038.0"
      ]
     },
     "execution_count": 24,
     "metadata": {},
     "output_type": "execute_result"
    }
   ],
   "source": [
    "# Define the confusion matrix data\n",
    "cm_df = pd.DataFrame(\n",
    "    {\n",
    "        \"Positive (1)\": [f\"TP={metrics['tp']}\", f\"FP={metrics['fn']}\"],\n",
    "        \"Negative (0)\": [f\"FN={metrics['fp']}\", f\"TN={metrics['tn']}\"],\n",
    "    },\n",
    "    index=[\"Positive(1)\", \"Negative(0)\"],\n",
    ")\n",
    "cm_df.index.name = \"Actual\"\n",
    "cm_df.columns.name = \"Predicted\"\n",
    "\n",
    "# Show the confusion matrix\n",
    "cm_df"
   ]
  },
  {
   "cell_type": "markdown",
   "metadata": {},
   "source": [
    "#### Classification Report"
   ]
  },
  {
   "cell_type": "code",
   "execution_count": 25,
   "metadata": {},
   "outputs": [
    {
     "name": "stdout",
     "output_type": "stream",
     "text": [
      "2226/2226 [==============================] - 9s 4ms/step\n",
      "              precision    recall  f1-score   support\n",
      "\n",
      "           0       1.00      1.00      1.00     71110\n",
      "           1       0.45      0.63      0.52        92\n",
      "\n",
      "    accuracy                           1.00     71202\n",
      "   macro avg       0.72      0.81      0.76     71202\n",
      "weighted avg       1.00      1.00      1.00     71202\n",
      "\n"
     ]
    }
   ],
   "source": [
    "# Import the classification_report method from sklearn\n",
    "from sklearn.metrics import classification_report\n",
    "\n",
    "# Predict classes using testing data\n",
    "y_predict_classes = (model.predict(X_test) > 0.5).astype(\"int32\")\n",
    "\n",
    "# Display classification report\n",
    "print(classification_report(y_predict_classes, y_test))"
   ]
  },
  {
   "cell_type": "code",
   "execution_count": null,
   "metadata": {},
   "outputs": [],
   "source": []
  }
 ],
 "metadata": {
  "file_extension": ".py",
  "kernelspec": {
   "display_name": "Python 3.7.15 ('mlenv')",
   "language": "python",
   "name": "python3"
  },
  "language_info": {
   "codemirror_mode": {
    "name": "ipython",
    "version": 3
   },
   "file_extension": ".py",
   "mimetype": "text/x-python",
   "name": "python",
   "nbconvert_exporter": "python",
   "pygments_lexer": "ipython3",
   "version": "3.7.15"
  },
  "mimetype": "text/x-python",
  "name": "python",
  "npconvert_exporter": "python",
  "pygments_lexer": "ipython3",
  "version": 3,
  "vscode": {
   "interpreter": {
    "hash": "450033cf19dd54ad3d30c8e8281e886ebd40313abd5cee9d0398a27fcccc0e94"
   }
  }
 },
 "nbformat": 4,
 "nbformat_minor": 4
}
