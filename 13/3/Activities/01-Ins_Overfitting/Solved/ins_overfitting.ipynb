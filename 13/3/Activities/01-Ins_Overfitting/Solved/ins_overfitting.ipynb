{
 "cells": [
  {
   "cell_type": "markdown",
   "id": "4104bbc9",
   "metadata": {},
   "source": [
    "# Overfitting"
   ]
  },
  {
   "cell_type": "code",
   "execution_count": 1,
   "id": "038c919a",
   "metadata": {},
   "outputs": [],
   "source": [
    "import pandas as pd\n",
    "import numpy as np"
   ]
  },
  {
   "cell_type": "code",
   "execution_count": 2,
   "id": "292c574b",
   "metadata": {},
   "outputs": [],
   "source": [
    "from keras.models import Sequential\n",
    "from keras.layers import Dense, Activation"
   ]
  },
  {
   "cell_type": "code",
   "execution_count": 3,
   "id": "322048df",
   "metadata": {},
   "outputs": [
    {
     "data": {
      "text/plain": [
       "Index(['EPS', 'forecasted_eps', 'noOfEsts', 'after_total_returns',\n",
       "       'before_total_returns'],\n",
       "      dtype='object')"
      ]
     },
     "execution_count": 3,
     "metadata": {},
     "output_type": "execute_result"
    }
   ],
   "source": [
    "df = pd.read_csv('../Resources/meet_or_beat.csv')\n",
    "df.keys()"
   ]
  },
  {
   "cell_type": "markdown",
   "id": "c8e6b8ab",
   "metadata": {},
   "source": [
    "### Preparing the Data"
   ]
  },
  {
   "cell_type": "code",
   "execution_count": 4,
   "id": "f5765905",
   "metadata": {},
   "outputs": [
    {
     "data": {
      "text/plain": [
       "2    14676\n",
       "1    14555\n",
       "5    14268\n",
       "4    14251\n",
       "3    14218\n",
       "Name: earnings_quantile, dtype: int64"
      ]
     },
     "execution_count": 4,
     "metadata": {},
     "output_type": "execute_result"
    }
   ],
   "source": [
    "# Use qcut to group earnings results into 5 buckets\n",
    "df['earnings_quantile'] = (pd.qcut(df['EPS'], q=5, labels=False))+1\n",
    "# Verify buckets are approximately balanced \n",
    "# (Slight imbalance from ties is OK)\n",
    "df['earnings_quantile'].value_counts()"
   ]
  },
  {
   "cell_type": "code",
   "execution_count": 5,
   "id": "e029a4ce",
   "metadata": {},
   "outputs": [],
   "source": [
    "# Save bucket (\"quantile\") value as the new  `y` variable\n",
    "y_quantile = df['earnings_quantile']"
   ]
  },
  {
   "cell_type": "code",
   "execution_count": 6,
   "id": "56854242",
   "metadata": {},
   "outputs": [],
   "source": [
    "# Save the unique count of categories for later use\n",
    "number_of_classes = len(y_quantile.unique())"
   ]
  },
  {
   "cell_type": "code",
   "execution_count": 7,
   "id": "b225898d",
   "metadata": {},
   "outputs": [
    {
     "data": {
      "text/plain": [
       "array([4, 2, 1, ..., 2, 1, 0], dtype=int64)"
      ]
     },
     "execution_count": 7,
     "metadata": {},
     "output_type": "execute_result"
    }
   ],
   "source": [
    "# Encode quantiles into labels\n",
    "from sklearn.preprocessing import LabelEncoder\n",
    "encoder = LabelEncoder()\n",
    "encoder.fit(y_quantile)\n",
    "encoded_y = encoder.transform(y_quantile)\n",
    "encoded_y"
   ]
  },
  {
   "cell_type": "code",
   "execution_count": 8,
   "id": "fa4a563f",
   "metadata": {},
   "outputs": [],
   "source": [
    "# Encode labels into categories\n",
    "from keras.utils.np_utils import to_categorical\n",
    "y_categorical = to_categorical(encoded_y, num_classes=number_of_classes)"
   ]
  },
  {
   "cell_type": "code",
   "execution_count": 9,
   "id": "f1219ca4",
   "metadata": {},
   "outputs": [
    {
     "data": {
      "text/html": [
       "<div>\n",
       "<style scoped>\n",
       "    .dataframe tbody tr th:only-of-type {\n",
       "        vertical-align: middle;\n",
       "    }\n",
       "\n",
       "    .dataframe tbody tr th {\n",
       "        vertical-align: top;\n",
       "    }\n",
       "\n",
       "    .dataframe thead th {\n",
       "        text-align: right;\n",
       "    }\n",
       "</style>\n",
       "<table border=\"1\" class=\"dataframe\">\n",
       "  <thead>\n",
       "    <tr style=\"text-align: right;\">\n",
       "      <th></th>\n",
       "      <th>forecasted_eps</th>\n",
       "      <th>before_total_returns</th>\n",
       "      <th>noOfEsts</th>\n",
       "    </tr>\n",
       "  </thead>\n",
       "  <tbody>\n",
       "    <tr>\n",
       "      <th>0</th>\n",
       "      <td>1.67</td>\n",
       "      <td>0.018585</td>\n",
       "      <td>11.0</td>\n",
       "    </tr>\n",
       "    <tr>\n",
       "      <th>1</th>\n",
       "      <td>0.19</td>\n",
       "      <td>-0.000510</td>\n",
       "      <td>6.0</td>\n",
       "    </tr>\n",
       "    <tr>\n",
       "      <th>2</th>\n",
       "      <td>0.14</td>\n",
       "      <td>-0.046104</td>\n",
       "      <td>4.0</td>\n",
       "    </tr>\n",
       "  </tbody>\n",
       "</table>\n",
       "</div>"
      ],
      "text/plain": [
       "   forecasted_eps  before_total_returns  noOfEsts\n",
       "0            1.67              0.018585      11.0\n",
       "1            0.19             -0.000510       6.0\n",
       "2            0.14             -0.046104       4.0"
      ]
     },
     "execution_count": 9,
     "metadata": {},
     "output_type": "execute_result"
    }
   ],
   "source": [
    "# Specify X (predictor) variables\n",
    "X = df[['forecasted_eps',\n",
    "              'before_total_returns','noOfEsts']]\n",
    "X.head(3)"
   ]
  },
  {
   "cell_type": "code",
   "execution_count": 10,
   "id": "09f6d2b3",
   "metadata": {},
   "outputs": [],
   "source": [
    "# Split into training and testing windows\n",
    "from sklearn.model_selection import train_test_split\n",
    "X_train, X_test, y_train, y_test = train_test_split(X, y_categorical, random_state=1)"
   ]
  },
  {
   "cell_type": "code",
   "execution_count": 11,
   "id": "047e581e",
   "metadata": {},
   "outputs": [
    {
     "data": {
      "text/plain": [
       "array([[0., 0., 0., 0., 1.],\n",
       "       [0., 0., 0., 1., 0.],\n",
       "       [0., 0., 0., 0., 1.],\n",
       "       ...,\n",
       "       [0., 0., 1., 0., 0.],\n",
       "       [0., 0., 1., 0., 0.],\n",
       "       [0., 0., 0., 1., 0.]], dtype=float32)"
      ]
     },
     "execution_count": 11,
     "metadata": {},
     "output_type": "execute_result"
    }
   ],
   "source": [
    "# Preview the `y_train` values\n",
    "y_train"
   ]
  },
  {
   "cell_type": "code",
   "execution_count": 12,
   "id": "d8a8314d",
   "metadata": {},
   "outputs": [
    {
     "data": {
      "text/plain": [
       "3"
      ]
     },
     "execution_count": 12,
     "metadata": {},
     "output_type": "execute_result"
    }
   ],
   "source": [
    "# Save the count of unique predictor variables for use in model\n",
    "number_of_predictors = len(X.columns)\n",
    "len(X.columns)"
   ]
  },
  {
   "cell_type": "markdown",
   "id": "a1c124ca",
   "metadata": {},
   "source": [
    "### Building the Model"
   ]
  },
  {
   "cell_type": "code",
   "execution_count": 13,
   "id": "88fff3da",
   "metadata": {},
   "outputs": [],
   "source": [
    "# Import the `Dropout` layer\n",
    "from keras.layers import Dropout\n",
    "# Import regularizers\n",
    "from keras.regularizers import l1, l2"
   ]
  },
  {
   "cell_type": "code",
   "execution_count": 14,
   "id": "d3f0702b",
   "metadata": {},
   "outputs": [],
   "source": [
    "# Build the Model\n",
    "model = Sequential()\n",
    "# Add a dense layer (as before)\n",
    "model.add(Dense(10, input_dim=number_of_predictors, activation='relu'))\n",
    "# Now add a dropout layer\n",
    "model.add(Dropout(.2,input_shape=(10,)))\n",
    "# Add regularization to another dense layer\n",
    "model.add(Dense(5, activation='relu', kernel_regularizer=l2(0.01), bias_regularizer=l2(0.01)))"
   ]
  },
  {
   "cell_type": "code",
   "execution_count": 15,
   "id": "2e188acc",
   "metadata": {},
   "outputs": [],
   "source": [
    "# Add the final output layer\n",
    "# (Set the # of possible outputs equal to the number classes)\n",
    "model.add(Dense(number_of_classes, activation='softmax'))"
   ]
  },
  {
   "cell_type": "code",
   "execution_count": 16,
   "id": "234f97d9",
   "metadata": {},
   "outputs": [],
   "source": [
    "# Compile the model\n",
    "model.compile(loss=\"categorical_crossentropy\", \n",
    "              optimizer= \"adam\", \n",
    "              metrics=['categorical_accuracy'])\n",
    "\n",
    "#for binary classification, we use loss=\"binary_crossentropy\"  and metrics=['accuracy']\n",
    "#input use linear regression\n"
   ]
  },
  {
   "cell_type": "code",
   "execution_count": 17,
   "id": "fb552948",
   "metadata": {},
   "outputs": [
    {
     "name": "stdout",
     "output_type": "stream",
     "text": [
      "Model: \"sequential\"\n",
      "_________________________________________________________________\n",
      " Layer (type)                Output Shape              Param #   \n",
      "=================================================================\n",
      " dense (Dense)               (None, 10)                40        \n",
      "                                                                 \n",
      " dropout (Dropout)           (None, 10)                0         \n",
      "                                                                 \n",
      " dense_1 (Dense)             (None, 5)                 55        \n",
      "                                                                 \n",
      " dense_2 (Dense)             (None, 5)                 30        \n",
      "                                                                 \n",
      "=================================================================\n",
      "Total params: 125\n",
      "Trainable params: 125\n",
      "Non-trainable params: 0\n",
      "_________________________________________________________________\n"
     ]
    }
   ],
   "source": [
    "# Summarise the model\n",
    "model.summary()"
   ]
  },
  {
   "cell_type": "code",
   "execution_count": 18,
   "id": "0cd4bbee",
   "metadata": {},
   "outputs": [
    {
     "name": "stdout",
     "output_type": "stream",
     "text": [
      "Epoch 1/50\n",
      "44/44 [==============================] - 3s 15ms/step - loss: 1.9014 - categorical_accuracy: 0.1378 - val_loss: 1.7383 - val_categorical_accuracy: 0.0854\n",
      "Epoch 2/50\n",
      "44/44 [==============================] - 0s 5ms/step - loss: 1.7960 - categorical_accuracy: 0.1410 - val_loss: 1.6727 - val_categorical_accuracy: 0.2146\n",
      "Epoch 3/50\n",
      "44/44 [==============================] - 0s 9ms/step - loss: 1.7160 - categorical_accuracy: 0.1969 - val_loss: 1.6630 - val_categorical_accuracy: 0.2052\n",
      "Epoch 4/50\n",
      "44/44 [==============================] - 1s 12ms/step - loss: 1.7211 - categorical_accuracy: 0.2041 - val_loss: 1.6509 - val_categorical_accuracy: 0.2041\n",
      "Epoch 5/50\n",
      "44/44 [==============================] - 0s 8ms/step - loss: 1.6970 - categorical_accuracy: 0.2048 - val_loss: 1.6394 - val_categorical_accuracy: 0.2052\n",
      "Epoch 6/50\n",
      "44/44 [==============================] - 0s 9ms/step - loss: 1.6860 - categorical_accuracy: 0.2135 - val_loss: 1.6256 - val_categorical_accuracy: 0.2074\n",
      "Epoch 7/50\n",
      "44/44 [==============================] - 0s 10ms/step - loss: 1.6525 - categorical_accuracy: 0.2346 - val_loss: 1.5988 - val_categorical_accuracy: 0.2219\n",
      "Epoch 8/50\n",
      "44/44 [==============================] - 0s 10ms/step - loss: 1.5830 - categorical_accuracy: 0.2704 - val_loss: 1.5243 - val_categorical_accuracy: 0.2575\n",
      "Epoch 9/50\n",
      "44/44 [==============================] - 0s 6ms/step - loss: 1.5194 - categorical_accuracy: 0.3407 - val_loss: 1.4037 - val_categorical_accuracy: 0.5504\n",
      "Epoch 10/50\n",
      "44/44 [==============================] - 0s 6ms/step - loss: 1.4183 - categorical_accuracy: 0.4359 - val_loss: 1.2908 - val_categorical_accuracy: 0.5936\n",
      "Epoch 11/50\n",
      "44/44 [==============================] - 0s 6ms/step - loss: 1.3246 - categorical_accuracy: 0.4709 - val_loss: 1.2078 - val_categorical_accuracy: 0.6875\n",
      "Epoch 12/50\n",
      "44/44 [==============================] - 0s 8ms/step - loss: 1.2669 - categorical_accuracy: 0.5146 - val_loss: 1.1376 - val_categorical_accuracy: 0.7391\n",
      "Epoch 13/50\n",
      "44/44 [==============================] - 0s 6ms/step - loss: 1.1970 - categorical_accuracy: 0.5524 - val_loss: 1.0863 - val_categorical_accuracy: 0.7564\n",
      "Epoch 14/50\n",
      "44/44 [==============================] - 0s 9ms/step - loss: 1.1641 - categorical_accuracy: 0.5720 - val_loss: 1.0420 - val_categorical_accuracy: 0.7608\n",
      "Epoch 15/50\n",
      "44/44 [==============================] - 0s 9ms/step - loss: 1.1244 - categorical_accuracy: 0.5955 - val_loss: 1.0084 - val_categorical_accuracy: 0.7811\n",
      "Epoch 16/50\n",
      "44/44 [==============================] - 0s 5ms/step - loss: 1.0903 - categorical_accuracy: 0.6074 - val_loss: 0.9834 - val_categorical_accuracy: 0.7872\n",
      "Epoch 17/50\n",
      "44/44 [==============================] - 0s 11ms/step - loss: 1.0622 - categorical_accuracy: 0.6209 - val_loss: 0.9579 - val_categorical_accuracy: 0.7938\n",
      "Epoch 18/50\n",
      "44/44 [==============================] - 0s 10ms/step - loss: 1.0444 - categorical_accuracy: 0.6334 - val_loss: 0.9394 - val_categorical_accuracy: 0.8006\n",
      "Epoch 19/50\n",
      "44/44 [==============================] - 0s 9ms/step - loss: 1.0201 - categorical_accuracy: 0.6472 - val_loss: 0.9182 - val_categorical_accuracy: 0.8027\n",
      "Epoch 20/50\n",
      "44/44 [==============================] - 1s 12ms/step - loss: 1.0038 - categorical_accuracy: 0.6614 - val_loss: 0.9016 - val_categorical_accuracy: 0.8072\n",
      "Epoch 21/50\n",
      "44/44 [==============================] - 0s 6ms/step - loss: 0.9906 - categorical_accuracy: 0.6694 - val_loss: 0.8879 - val_categorical_accuracy: 0.8050\n",
      "Epoch 22/50\n",
      "44/44 [==============================] - 0s 5ms/step - loss: 0.9784 - categorical_accuracy: 0.6794 - val_loss: 0.8751 - val_categorical_accuracy: 0.8046\n",
      "Epoch 23/50\n",
      "44/44 [==============================] - 0s 8ms/step - loss: 0.9639 - categorical_accuracy: 0.6868 - val_loss: 0.8619 - val_categorical_accuracy: 0.8034\n",
      "Epoch 24/50\n",
      "44/44 [==============================] - 0s 7ms/step - loss: 0.9542 - categorical_accuracy: 0.6927 - val_loss: 0.8509 - val_categorical_accuracy: 0.8041\n",
      "Epoch 25/50\n",
      "44/44 [==============================] - 0s 11ms/step - loss: 0.9452 - categorical_accuracy: 0.6957 - val_loss: 0.8413 - val_categorical_accuracy: 0.8090\n",
      "Epoch 26/50\n",
      "44/44 [==============================] - 0s 11ms/step - loss: 0.9342 - categorical_accuracy: 0.7009 - val_loss: 0.8301 - val_categorical_accuracy: 0.8111\n",
      "Epoch 27/50\n",
      "44/44 [==============================] - 0s 9ms/step - loss: 0.9186 - categorical_accuracy: 0.7052 - val_loss: 0.8201 - val_categorical_accuracy: 0.8095\n",
      "Epoch 28/50\n",
      "44/44 [==============================] - 0s 11ms/step - loss: 0.9147 - categorical_accuracy: 0.7110 - val_loss: 0.8106 - val_categorical_accuracy: 0.8128\n",
      "Epoch 29/50\n",
      "44/44 [==============================] - 0s 11ms/step - loss: 0.9058 - categorical_accuracy: 0.7152 - val_loss: 0.8027 - val_categorical_accuracy: 0.8103\n",
      "Epoch 30/50\n",
      "44/44 [==============================] - 1s 13ms/step - loss: 0.8986 - categorical_accuracy: 0.7169 - val_loss: 0.7944 - val_categorical_accuracy: 0.8134\n",
      "Epoch 31/50\n",
      "44/44 [==============================] - 0s 11ms/step - loss: 0.8912 - categorical_accuracy: 0.7185 - val_loss: 0.7852 - val_categorical_accuracy: 0.8141\n",
      "Epoch 32/50\n",
      "44/44 [==============================] - 0s 6ms/step - loss: 0.8804 - categorical_accuracy: 0.7238 - val_loss: 0.7799 - val_categorical_accuracy: 0.8126\n",
      "Epoch 33/50\n",
      "44/44 [==============================] - 0s 5ms/step - loss: 0.8749 - categorical_accuracy: 0.7246 - val_loss: 0.7720 - val_categorical_accuracy: 0.8139\n",
      "Epoch 34/50\n",
      "44/44 [==============================] - 0s 10ms/step - loss: 0.8682 - categorical_accuracy: 0.7289 - val_loss: 0.7645 - val_categorical_accuracy: 0.8145\n",
      "Epoch 35/50\n",
      "44/44 [==============================] - 0s 7ms/step - loss: 0.8603 - categorical_accuracy: 0.7354 - val_loss: 0.7589 - val_categorical_accuracy: 0.8141\n",
      "Epoch 36/50\n",
      "44/44 [==============================] - 0s 6ms/step - loss: 0.8543 - categorical_accuracy: 0.7330 - val_loss: 0.7518 - val_categorical_accuracy: 0.8132\n",
      "Epoch 37/50\n",
      "44/44 [==============================] - 0s 6ms/step - loss: 0.8495 - categorical_accuracy: 0.7343 - val_loss: 0.7446 - val_categorical_accuracy: 0.8147\n",
      "Epoch 38/50\n",
      "44/44 [==============================] - 0s 10ms/step - loss: 0.8450 - categorical_accuracy: 0.7355 - val_loss: 0.7421 - val_categorical_accuracy: 0.8147\n",
      "Epoch 39/50\n",
      "44/44 [==============================] - 0s 6ms/step - loss: 0.8415 - categorical_accuracy: 0.7386 - val_loss: 0.7352 - val_categorical_accuracy: 0.8153\n",
      "Epoch 40/50\n",
      "44/44 [==============================] - 0s 6ms/step - loss: 0.8346 - categorical_accuracy: 0.7375 - val_loss: 0.7305 - val_categorical_accuracy: 0.8156\n",
      "Epoch 41/50\n",
      "44/44 [==============================] - 0s 6ms/step - loss: 0.8293 - categorical_accuracy: 0.7414 - val_loss: 0.7271 - val_categorical_accuracy: 0.8157\n",
      "Epoch 42/50\n",
      "44/44 [==============================] - 0s 8ms/step - loss: 0.8206 - categorical_accuracy: 0.7403 - val_loss: 0.7219 - val_categorical_accuracy: 0.8151\n",
      "Epoch 43/50\n",
      "44/44 [==============================] - 0s 8ms/step - loss: 0.8213 - categorical_accuracy: 0.7453 - val_loss: 0.7185 - val_categorical_accuracy: 0.8166\n",
      "Epoch 44/50\n",
      "44/44 [==============================] - 0s 11ms/step - loss: 0.8199 - categorical_accuracy: 0.7453 - val_loss: 0.7155 - val_categorical_accuracy: 0.8129\n",
      "Epoch 45/50\n",
      "44/44 [==============================] - 0s 7ms/step - loss: 0.8101 - categorical_accuracy: 0.7498 - val_loss: 0.7088 - val_categorical_accuracy: 0.8116\n",
      "Epoch 46/50\n",
      "44/44 [==============================] - 0s 10ms/step - loss: 0.8104 - categorical_accuracy: 0.7494 - val_loss: 0.7059 - val_categorical_accuracy: 0.8183\n",
      "Epoch 47/50\n",
      "44/44 [==============================] - 0s 10ms/step - loss: 0.8016 - categorical_accuracy: 0.7520 - val_loss: 0.7019 - val_categorical_accuracy: 0.8160\n",
      "Epoch 48/50\n",
      "44/44 [==============================] - 1s 13ms/step - loss: 0.7999 - categorical_accuracy: 0.7519 - val_loss: 0.6974 - val_categorical_accuracy: 0.8164\n",
      "Epoch 49/50\n",
      "44/44 [==============================] - 1s 16ms/step - loss: 0.7963 - categorical_accuracy: 0.7529 - val_loss: 0.6953 - val_categorical_accuracy: 0.8184\n",
      "Epoch 50/50\n",
      "44/44 [==============================] - 1s 11ms/step - loss: 0.7952 - categorical_accuracy: 0.7532 - val_loss: 0.6930 - val_categorical_accuracy: 0.8162\n"
     ]
    },
    {
     "data": {
      "text/plain": [
       "<keras.callbacks.History at 0x26a5dfb2608>"
      ]
     },
     "execution_count": 18,
     "metadata": {},
     "output_type": "execute_result"
    }
   ],
   "source": [
    "# Add in validation loss to select the number of epochs\n",
    "# Fit the model\n",
    "number_of_epochs = 50\n",
    "model.fit(X_train,y_train, \n",
    "                    epochs=number_of_epochs,\n",
    "                    batch_size=1000,\n",
    "                      validation_split=0.2,\n",
    "                    shuffle=True)"
   ]
  },
  {
   "cell_type": "code",
   "execution_count": 19,
   "id": "53b0063a",
   "metadata": {},
   "outputs": [
    {
     "data": {
      "text/plain": [
       "dict_keys(['loss', 'categorical_accuracy', 'val_loss', 'val_categorical_accuracy'])"
      ]
     },
     "execution_count": 19,
     "metadata": {},
     "output_type": "execute_result"
    }
   ],
   "source": [
    "# Save model history across epochs\n",
    "model_history = model.history.history\n",
    "model_history.keys()"
   ]
  },
  {
   "cell_type": "code",
   "execution_count": 20,
   "id": "2124d070",
   "metadata": {},
   "outputs": [
    {
     "data": {
      "text/plain": [
       "[0.1377721130847931,\n",
       " 0.1409911960363388,\n",
       " 0.1968967169523239,\n",
       " 0.2040991187095642,\n",
       " 0.20484019815921783,\n",
       " 0.21352477371692657,\n",
       " 0.23457619547843933,\n",
       " 0.27044928073883057,\n",
       " 0.340736448764801,\n",
       " 0.4359194040298462,\n",
       " 0.47091245651245117,\n",
       " 0.5146363973617554,\n",
       " 0.5524085164070129,\n",
       " 0.571954607963562,\n",
       " 0.595460832118988,\n",
       " 0.6073876619338989,\n",
       " 0.6209356188774109,\n",
       " 0.6333719491958618,\n",
       " 0.6471977829933167,\n",
       " 0.6614173054695129,\n",
       " 0.6694071292877197,\n",
       " 0.6793885827064514,\n",
       " 0.6868225932121277,\n",
       " 0.692704975605011,\n",
       " 0.6956924796104431,\n",
       " 0.7009031772613525,\n",
       " 0.7052339315414429,\n",
       " 0.71097731590271,\n",
       " 0.7152385115623474,\n",
       " 0.716905951499939,\n",
       " 0.7185039520263672,\n",
       " 0.7238073348999023,\n",
       " 0.7245715856552124,\n",
       " 0.7288559675216675,\n",
       " 0.7353867292404175,\n",
       " 0.733024537563324,\n",
       " 0.7342519760131836,\n",
       " 0.7355025410652161,\n",
       " 0.7386058568954468,\n",
       " 0.7375405430793762,\n",
       " 0.7414080500602722,\n",
       " 0.7403427362442017,\n",
       " 0.7452524304389954,\n",
       " 0.7453219294548035,\n",
       " 0.7497684359550476,\n",
       " 0.7493515610694885,\n",
       " 0.7520148158073425,\n",
       " 0.7519221901893616,\n",
       " 0.752918004989624,\n",
       " 0.7532422542572021]"
      ]
     },
     "execution_count": 20,
     "metadata": {},
     "output_type": "execute_result"
    }
   ],
   "source": [
    "# View `categorical_accuracy` for the training dataset\n",
    "model_history['categorical_accuracy']"
   ]
  },
  {
   "cell_type": "code",
   "execution_count": 21,
   "id": "3ef4fda4",
   "metadata": {},
   "outputs": [
    {
     "data": {
      "text/plain": [
       "<AxesSubplot:title={'center':'Performance Across Training and Validation'}>"
      ]
     },
     "execution_count": 21,
     "metadata": {},
     "output_type": "execute_result"
    },
    {
     "data": {
      "image/png": "[encoded data removed]",
      "text/plain": [
       "<Figure size 640x480 with 1 Axes>"
      ]
     },
     "metadata": {},
     "output_type": "display_data"
    }
   ],
   "source": [
    "# Save accuracy for training and validation set across epochs\n",
    "training_results = pd.DataFrame(index=range(1,number_of_epochs+1))\n",
    "training_results['Training'] = model_history['categorical_accuracy']\n",
    "training_results['Validation'] = model_history['val_categorical_accuracy']\n",
    "training_results.plot(title = 'Performance Across Training and Validation')"
   ]
  }
 ],
 "metadata": {
  "kernelspec": {
   "display_name": "Python 3.7.15 ('mlenv')",
   "language": "python",
   "name": "python3"
  },
  "language_info": {
   "codemirror_mode": {
    "name": "ipython",
    "version": 3
   },
   "file_extension": ".py",
   "mimetype": "text/x-python",
   "name": "python",
   "nbconvert_exporter": "python",
   "pygments_lexer": "ipython3",
   "version": "3.7.15"
  },
  "vscode": {
   "interpreter": {
    "hash": "450033cf19dd54ad3d30c8e8281e886ebd40313abd5cee9d0398a27fcccc0e94"
   }
  }
 },
 "nbformat": 4,
 "nbformat_minor": 5
}
