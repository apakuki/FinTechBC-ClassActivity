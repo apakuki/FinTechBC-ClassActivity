{
 "cells": [
  {
   "cell_type": "markdown",
   "id": "4104bbc9",
   "metadata": {},
   "source": [
    "# Overfitting"
   ]
  },
  {
   "cell_type": "code",
   "execution_count": 1,
   "id": "038c919a",
   "metadata": {},
   "outputs": [],
   "source": [
    "import pandas as pd\n",
    "import numpy as np"
   ]
  },
  {
   "cell_type": "code",
   "execution_count": 2,
   "id": "292c574b",
   "metadata": {},
   "outputs": [],
   "source": [
    "from keras.models import Sequential\n",
    "from keras.layers import Dense, Activation"
   ]
  },
  {
   "cell_type": "code",
   "execution_count": 3,
   "id": "322048df",
   "metadata": {},
   "outputs": [
    {
     "data": {
      "text/plain": [
       "Index(['EPS', 'forecasted_eps', 'noOfEsts', 'after_total_returns',\n",
       "       'before_total_returns'],\n",
       "      dtype='object')"
      ]
     },
     "execution_count": 3,
     "metadata": {},
     "output_type": "execute_result"
    }
   ],
   "source": [
    "df = pd.read_csv('../Resources/meet_or_beat.csv')\n",
    "df.keys()"
   ]
  },
  {
   "cell_type": "code",
   "execution_count": 4,
   "id": "9b982879",
   "metadata": {},
   "outputs": [
    {
     "data": {
      "text/html": [
       "<div>\n",
       "<style scoped>\n",
       "    .dataframe tbody tr th:only-of-type {\n",
       "        vertical-align: middle;\n",
       "    }\n",
       "\n",
       "    .dataframe tbody tr th {\n",
       "        vertical-align: top;\n",
       "    }\n",
       "\n",
       "    .dataframe thead th {\n",
       "        text-align: right;\n",
       "    }\n",
       "</style>\n",
       "<table border=\"1\" class=\"dataframe\">\n",
       "  <thead>\n",
       "    <tr style=\"text-align: right;\">\n",
       "      <th></th>\n",
       "      <th>EPS</th>\n",
       "      <th>forecasted_eps</th>\n",
       "      <th>noOfEsts</th>\n",
       "      <th>after_total_returns</th>\n",
       "      <th>before_total_returns</th>\n",
       "    </tr>\n",
       "  </thead>\n",
       "  <tbody>\n",
       "    <tr>\n",
       "      <th>0</th>\n",
       "      <td>2.01</td>\n",
       "      <td>1.67</td>\n",
       "      <td>11.0</td>\n",
       "      <td>0.051444</td>\n",
       "      <td>0.018585</td>\n",
       "    </tr>\n",
       "    <tr>\n",
       "      <th>1</th>\n",
       "      <td>0.17</td>\n",
       "      <td>0.19</td>\n",
       "      <td>6.0</td>\n",
       "      <td>0.112955</td>\n",
       "      <td>-0.000510</td>\n",
       "    </tr>\n",
       "    <tr>\n",
       "      <th>2</th>\n",
       "      <td>-0.07</td>\n",
       "      <td>0.14</td>\n",
       "      <td>4.0</td>\n",
       "      <td>0.077167</td>\n",
       "      <td>-0.046104</td>\n",
       "    </tr>\n",
       "    <tr>\n",
       "      <th>3</th>\n",
       "      <td>0.48</td>\n",
       "      <td>0.51</td>\n",
       "      <td>8.0</td>\n",
       "      <td>-0.006130</td>\n",
       "      <td>-0.004899</td>\n",
       "    </tr>\n",
       "    <tr>\n",
       "      <th>4</th>\n",
       "      <td>-0.24</td>\n",
       "      <td>-0.27</td>\n",
       "      <td>9.0</td>\n",
       "      <td>0.089762</td>\n",
       "      <td>-0.025466</td>\n",
       "    </tr>\n",
       "  </tbody>\n",
       "</table>\n",
       "</div>"
      ],
      "text/plain": [
       "    EPS  forecasted_eps  noOfEsts  after_total_returns  before_total_returns\n",
       "0  2.01            1.67      11.0             0.051444              0.018585\n",
       "1  0.17            0.19       6.0             0.112955             -0.000510\n",
       "2 -0.07            0.14       4.0             0.077167             -0.046104\n",
       "3  0.48            0.51       8.0            -0.006130             -0.004899\n",
       "4 -0.24           -0.27       9.0             0.089762             -0.025466"
      ]
     },
     "execution_count": 4,
     "metadata": {},
     "output_type": "execute_result"
    }
   ],
   "source": [
    "df.head()"
   ]
  },
  {
   "cell_type": "markdown",
   "id": "c8e6b8ab",
   "metadata": {},
   "source": [
    "### Preparing the Data"
   ]
  },
  {
   "cell_type": "code",
   "execution_count": 5,
   "id": "7f12a832",
   "metadata": {},
   "outputs": [
    {
     "data": {
      "text/plain": [
       "2    14676\n",
       "1    14555\n",
       "5    14268\n",
       "4    14251\n",
       "3    14218\n",
       "Name: charges_quantile, dtype: int64"
      ]
     },
     "execution_count": 5,
     "metadata": {},
     "output_type": "execute_result"
    }
   ],
   "source": [
    "# Use qcut to group charges results into 5 buckets\n",
    "df['charges_quantile'] = (pd.qcut(df['EPS'], q=5, labels=False))+1\n",
    "# Verify buckets are approximately balanced \n",
    "# (Slight imbalance from ties is OK)\n",
    "df['charges_quantile'].value_counts()"
   ]
  },
  {
   "cell_type": "code",
   "execution_count": 6,
   "id": "5ef6dad0",
   "metadata": {},
   "outputs": [],
   "source": [
    "# Save bucket (\"quantile\") value as the new  `y` variable\n",
    "y_quantile = df['charges_quantile']"
   ]
  },
  {
   "cell_type": "code",
   "execution_count": 7,
   "id": "09248537",
   "metadata": {},
   "outputs": [],
   "source": [
    "# Save the unique count of categories for later use\n",
    "number_of_classes = len(y_quantile.unique())"
   ]
  },
  {
   "cell_type": "code",
   "execution_count": 8,
   "id": "f93a8b04",
   "metadata": {},
   "outputs": [
    {
     "data": {
      "text/plain": [
       "array([4, 2, 1, ..., 2, 1, 0], dtype=int64)"
      ]
     },
     "execution_count": 8,
     "metadata": {},
     "output_type": "execute_result"
    }
   ],
   "source": [
    "# Encode quantiles into labels\n",
    "from sklearn.preprocessing import LabelEncoder\n",
    "encoder = LabelEncoder()\n",
    "encoder.fit(y_quantile)\n",
    "encoded_y = encoder.transform(y_quantile)\n",
    "encoded_y"
   ]
  },
  {
   "cell_type": "code",
   "execution_count": 9,
   "id": "a040e98a",
   "metadata": {},
   "outputs": [],
   "source": [
    "# Encode labels into categories\n",
    "from keras.utils.np_utils import to_categorical\n",
    "y_categorical = to_categorical(encoded_y, num_classes=number_of_classes)"
   ]
  },
  {
   "cell_type": "code",
   "execution_count": 10,
   "id": "1ebf92f3",
   "metadata": {},
   "outputs": [
    {
     "data": {
      "text/html": [
       "<div>\n",
       "<style scoped>\n",
       "    .dataframe tbody tr th:only-of-type {\n",
       "        vertical-align: middle;\n",
       "    }\n",
       "\n",
       "    .dataframe tbody tr th {\n",
       "        vertical-align: top;\n",
       "    }\n",
       "\n",
       "    .dataframe thead th {\n",
       "        text-align: right;\n",
       "    }\n",
       "</style>\n",
       "<table border=\"1\" class=\"dataframe\">\n",
       "  <thead>\n",
       "    <tr style=\"text-align: right;\">\n",
       "      <th></th>\n",
       "      <th>forecasted_eps</th>\n",
       "      <th>before_total_returns</th>\n",
       "      <th>noOfEsts</th>\n",
       "    </tr>\n",
       "  </thead>\n",
       "  <tbody>\n",
       "    <tr>\n",
       "      <th>0</th>\n",
       "      <td>1.67</td>\n",
       "      <td>0.018585</td>\n",
       "      <td>11.0</td>\n",
       "    </tr>\n",
       "    <tr>\n",
       "      <th>1</th>\n",
       "      <td>0.19</td>\n",
       "      <td>-0.000510</td>\n",
       "      <td>6.0</td>\n",
       "    </tr>\n",
       "    <tr>\n",
       "      <th>2</th>\n",
       "      <td>0.14</td>\n",
       "      <td>-0.046104</td>\n",
       "      <td>4.0</td>\n",
       "    </tr>\n",
       "  </tbody>\n",
       "</table>\n",
       "</div>"
      ],
      "text/plain": [
       "   forecasted_eps  before_total_returns  noOfEsts\n",
       "0            1.67              0.018585      11.0\n",
       "1            0.19             -0.000510       6.0\n",
       "2            0.14             -0.046104       4.0"
      ]
     },
     "execution_count": 10,
     "metadata": {},
     "output_type": "execute_result"
    }
   ],
   "source": [
    "# Specify X (predictor) variables\n",
    "X = df[['forecasted_eps',\n",
    "              'before_total_returns','noOfEsts']]\n",
    "X.head(3)"
   ]
  },
  {
   "cell_type": "code",
   "execution_count": 11,
   "id": "58706164",
   "metadata": {},
   "outputs": [],
   "source": [
    "# Split into training and testing windows\n",
    "from sklearn.model_selection import train_test_split\n",
    "X_train, X_test, y_train, y_test = train_test_split(X, y_categorical, random_state=1)"
   ]
  },
  {
   "cell_type": "code",
   "execution_count": 12,
   "id": "b8867e26",
   "metadata": {},
   "outputs": [
    {
     "data": {
      "text/plain": [
       "array([[0., 0., 0., 0., 1.],\n",
       "       [0., 0., 0., 1., 0.],\n",
       "       [0., 0., 0., 0., 1.],\n",
       "       ...,\n",
       "       [0., 0., 1., 0., 0.],\n",
       "       [0., 0., 1., 0., 0.],\n",
       "       [0., 0., 0., 1., 0.]], dtype=float32)"
      ]
     },
     "execution_count": 12,
     "metadata": {},
     "output_type": "execute_result"
    }
   ],
   "source": [
    "# Preview the `y_train` values\n",
    "y_train"
   ]
  },
  {
   "cell_type": "code",
   "execution_count": null,
   "id": "2c3fe200",
   "metadata": {},
   "outputs": [],
   "source": []
  },
  {
   "cell_type": "markdown",
   "id": "a1c124ca",
   "metadata": {},
   "source": [
    "### Building the Model"
   ]
  },
  {
   "cell_type": "code",
   "execution_count": null,
   "id": "530b8154",
   "metadata": {},
   "outputs": [],
   "source": [
    "#for binary classification, we use loss=\"binary_crossentropy\"  and metrics=['accuracy']\n",
    "# Import the `Dropout` layer\n",
    "from keras.layers import Dropout\n",
    "# Import regularizers\n",
    "from keras.regularizers import l1, l2"
   ]
  },
  {
   "cell_type": "code",
   "execution_count": null,
   "id": "8c9e5e76",
   "metadata": {},
   "outputs": [],
   "source": [
    "# Build the Model\n",
    "model = Sequential()\n",
    "# Add a dense layer (as before)\n",
    "model.add(Dense(10, input_dim=number_of_predictors, activation='relu'))\n",
    "# Now add a dropout layer\n",
    "model.add(Dropout(.2,input_shape=(10,)))\n",
    "# Add regularization to another dense layer\n",
    "model.add(Dense(5, activation='relu', kernel_regularizer=l2(0.01), bias_regularizer=l2(0.01)))"
   ]
  },
  {
   "cell_type": "code",
   "execution_count": null,
   "id": "38dfa571",
   "metadata": {},
   "outputs": [],
   "source": [
    "# Add the final output layer\n",
    "# (Set the # of possible outputs equal to the number classes)\n",
    "model.add(Dense(number_of_classes, activation='softmax'))"
   ]
  }
 ],
 "metadata": {
  "kernelspec": {
   "display_name": "Python 3.7.15 ('mlenv')",
   "language": "python",
   "name": "python3"
  },
  "language_info": {
   "codemirror_mode": {
    "name": "ipython",
    "version": 3
   },
   "file_extension": ".py",
   "mimetype": "text/x-python",
   "name": "python",
   "nbconvert_exporter": "python",
   "pygments_lexer": "ipython3",
   "version": "3.7.15"
  },
  "vscode": {
   "interpreter": {
    "hash": "450033cf19dd54ad3d30c8e8281e886ebd40313abd5cee9d0398a27fcccc0e94"
   }
  }
 },
 "nbformat": 4,
 "nbformat_minor": 5
}
