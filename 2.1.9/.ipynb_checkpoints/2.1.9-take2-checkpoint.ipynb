{
 "cells": [
  {
   "cell_type": "code",
   "execution_count": 2,
   "id": "681310f4-bd72-420c-83d0-936a5e8f03ce",
   "metadata": {},
   "outputs": [
    {
     "name": "stdout",
     "output_type": "stream",
     "text": [
      "Give me a R!\n",
      "R!\n",
      "Give me a A!\n",
      "A!\n",
      "Give me a B!\n",
      "B!\n",
      "Give me a B!\n",
      "B!\n",
      "Give me a I!\n",
      "I!\n",
      "Give me a T!\n",
      "T!\n",
      "Give me a O!\n",
      "O!\n",
      "Give me a H!\n",
      "H!\n",
      "Give me a S!\n",
      "S!\n",
      "\n",
      "Now what does that spell??!!\n",
      "RABBITOHS!\n",
      "Woohoo!! Go RABBITOHS!!!\n",
      "*\\O/**\\O/**\\O/*\n",
      "ヘ( ^o^)ノ＼(^_^ )\n"
     ]
    }
   ],
   "source": [
    "cheer = \"RABBITOHS\"\n",
    "\n",
    "cheer_symbol = \"*\\O/*\"\n",
    "cheer_symbol_2 = \"ヘ( ^o^)ノ＼(^_^ )\"\n",
    "\n",
    "for x in cheer:\n",
    "    print(\"Give me a \\\"\" + x +\"\\\"!\")\n",
    "    print(x + \"!\")\n",
    "    \n",
    "print(\"\\nNow what does that spell??!!\")\n",
    "print(cheer + \"!\\nWoohoo!! Go \" + cheer + \"!!!\")\n",
    "print(cheer_symbol * 3)\n",
    "print(cheer_symbol_2)\n"
   ]
  },
  {
   "cell_type": "code",
   "execution_count": null,
   "id": "f27e5b42-63c3-44e9-8c12-dc05e06522ff",
   "metadata": {},
   "outputs": [],
   "source": []
  }
 ],
 "metadata": {
  "kernelspec": {
   "display_name": "Python 3 (ipykernel)",
   "language": "python",
   "name": "python3"
  },
  "language_info": {
   "codemirror_mode": {
    "name": "ipython",
    "version": 3
   },
   "file_extension": ".py",
   "mimetype": "text/x-python",
   "name": "python",
   "nbconvert_exporter": "python",
   "pygments_lexer": "ipython3",
   "version": "3.9.12"
  }
 },
 "nbformat": 4,
 "nbformat_minor": 5
}
