{
 "cells": [
  {
   "cell_type": "code",
   "execution_count": 4,
   "id": "293352bd-7239-457c-a710-d97dff93710c",
   "metadata": {},
   "outputs": [
    {
     "name": "stdout",
     "output_type": "stream",
     "text": [
      "Give me a R!\n",
      "R!\n",
      "Give me a A!\n",
      "A!\n",
      "Give me a B!\n",
      "B!\n",
      "Give me a B!\n",
      "B!\n",
      "Give me a I!\n",
      "I!\n",
      "Give me a T!\n",
      "T!\n",
      "Give me a O!\n",
      "O!\n",
      "Give me a H!\n",
      "H!\n",
      "Give me a S!\n",
      "S!\n",
      "\n",
      "What does that spell?!\n",
      "RABBITOHS!\n",
      "Woohoo! Go RABBITOHS!\n",
      "*\\O/**\\O/**\\O/*\n",
      "ヘ( ^o^)ノ＼(^_^ )\n"
     ]
    }
   ],
   "source": [
    "# Create a variable named cheer and give it a word to cheer (i.e. Python or FinTech)\n",
    "\n",
    "cheer = \"RABBITOHS\"\n",
    "\n",
    "# Below strings can be used to add fun\n",
    "cheer_symbol = \"*\\O/*\"\n",
    "cheer_symbol_2 = \"ヘ( ^o^)ノ＼(^_^ )\"\n",
    "\n",
    "# Loop through string and print each letter with a cheer\n",
    "\n",
    "for x in cheer:\n",
    "    print(\"Give me a \" + x + \"!\")\n",
    "    print(x + \"!\") \n",
    "    \n",
    "# Print excitement to screen\n",
    "print(\"\\nWhat does that spell?!\")\n",
    "print(cheer + \"!\\nWoohoo! Go \" + cheer + \"!\")\n",
    "print(cheer_symbol * 3)\n",
    "print(cheer_symbol_2)\n"
   ]
  },
  {
   "cell_type": "code",
   "execution_count": null,
   "id": "24943a51-dc13-4bed-9635-49abc10df5a6",
   "metadata": {},
   "outputs": [],
   "source": []
  }
 ],
 "metadata": {
  "kernelspec": {
   "display_name": "Python 3 (ipykernel)",
   "language": "python",
   "name": "python3"
  },
  "language_info": {
   "codemirror_mode": {
    "name": "ipython",
    "version": 3
   },
   "file_extension": ".py",
   "mimetype": "text/x-python",
   "name": "python",
   "nbconvert_exporter": "python",
   "pygments_lexer": "ipython3",
   "version": "3.9.12"
  }
 },
 "nbformat": 4,
 "nbformat_minor": 5
}
