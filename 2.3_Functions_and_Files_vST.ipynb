{
 "cells": [
  {
   "cell_type": "markdown",
   "id": "11ba4878",
   "metadata": {},
   "source": [
    "01-Ins_Refresher"
   ]
  },
  {
   "cell_type": "code",
   "execution_count": 1,
   "id": "337a15d2",
   "metadata": {},
   "outputs": [],
   "source": [
    "# Variables are reserved memory allocations that are used to store information that can be referenced and manipulated later."
   ]
  },
  {
   "cell_type": "code",
   "execution_count": 2,
   "id": "871a33bc",
   "metadata": {},
   "outputs": [],
   "source": [
    "# Variables\n",
    "# Creates a variable with a string \"Frankfurter\"\n",
    "title = \"Frankfurter\"\n",
    "years = 23\n",
    "hourly_wage = 65.40\n",
    "expert_status = True"
   ]
  },
  {
   "cell_type": "code",
   "execution_count": 3,
   "id": "6d16fe74",
   "metadata": {},
   "outputs": [],
   "source": [
    "# Conditionals are if-else statements that make true or false comparisons that determine corresponding actions for either scenario."
   ]
  },
  {
   "cell_type": "code",
   "execution_count": 4,
   "id": "59f40167",
   "metadata": {},
   "outputs": [
    {
     "name": "stdout",
     "output_type": "stream",
     "text": [
      "x is equal to 1\n"
     ]
    }
   ],
   "source": [
    "# Conditionals\n",
    "# Declare variables and values for evaluation\n",
    "x = 1\n",
    "y = 10\n",
    "\n",
    "# Checks if one value is equal to another\n",
    "if x == 1:\n",
    "  print(\"x is equal to 1\")"
   ]
  },
  {
   "cell_type": "code",
   "execution_count": 5,
   "id": "e37557ab",
   "metadata": {},
   "outputs": [],
   "source": [
    "# Lists are mutable (changeable), ordered data structures that hold data of a single type."
   ]
  },
  {
   "cell_type": "code",
   "execution_count": 6,
   "id": "d8de6231",
   "metadata": {},
   "outputs": [
    {
     "name": "stdout",
     "output_type": "stream",
     "text": [
      "Creating a list of Pokemon...\n",
      "['Pikachu', 'Charizard', 'Bulbasaur', 'Garydos', 'Dragonite', 'Onyx']\n",
      "0\n",
      "1\n",
      "2\n",
      "3\n",
      "4\n"
     ]
    }
   ],
   "source": [
    "# Lists\n",
    "# Create a list of Pokemon\n",
    "print(\"Creating a list of Pokemon...\")\n",
    "pokemon = [\"Pikachu\", \"Charizard\", \"Bulbasaur\", \"Garydos\", \"Dragonite\", \"Onyx\"]\n",
    "print(pokemon)\n",
    "\n",
    "# Loop over list\n",
    "# Loop through a range of numbers (0 through 4)\n",
    "for x in range(5):\n",
    "  print(x)\n"
   ]
  },
  {
   "cell_type": "code",
   "execution_count": 7,
   "id": "504ae449",
   "metadata": {},
   "outputs": [],
   "source": [
    "# Dicts are mutable (changeable), unordered data structures that hold key-value pairs of potentially varying data types."
   ]
  },
  {
   "cell_type": "code",
   "execution_count": 8,
   "id": "63ed9e5e",
   "metadata": {
    "scrolled": true
   },
   "outputs": [
    {
     "name": "stdout",
     "output_type": "stream",
     "text": [
      "{'title': 'Trading Log', '03-18-2019': -224, '03-19-2019': 352, '03-20-2019': 252, '03-21-2019': 354, '03-22-2019': -544, '03-23-2019': -650, '03-24-2019': 56, '03-25-2019': 123, '03-26-2019': -43, '03-27-2019': 254, '03-28-2019': 325, '03-29-2019': -123, '03-30-2019': 47, '03-31-2019': 321, '04-01-2019': 123, '04-02-2019': 133, '04-03-2019': -151, '04-04-2019': 613, '04-05-2019': 232, '04-06-2019': -311}\n"
     ]
    }
   ],
   "source": [
    "# Dicts\n",
    "# Initialize a dictionary\n",
    "trading_pnl = {\n",
    "      \"title\": \"Trading Log\",\n",
    "      \"03-18-2019\": -224,\n",
    "      \"03-19-2019\": 352,\n",
    "      \"03-20-2019\": 252,\n",
    "      \"03-21-2019\": 354,\n",
    "      \"03-22-2019\": -544,\n",
    "      \"03-23-2019\": -650,\n",
    "      \"03-24-2019\": 56,\n",
    "      \"03-25-2019\": 123,\n",
    "      \"03-26-2019\": -43,\n",
    "      \"03-27-2019\": 254,\n",
    "      \"03-28-2019\": 325,\n",
    "      \"03-29-2019\": -123,\n",
    "      \"03-30-2019\": 47,\n",
    "      \"03-31-2019\": 321,\n",
    "      \"04-01-2019\": 123,\n",
    "      \"04-02-2019\": 133,\n",
    "      \"04-03-2019\": -151,\n",
    "      \"04-04-2019\": 613,\n",
    "      \"04-05-2019\": 232,\n",
    "      \"04-06-2019\": -311\n",
    "  }\n",
    "\n",
    "print(trading_pnl)\n"
   ]
  },
  {
   "cell_type": "code",
   "execution_count": 9,
   "id": "33cc8634",
   "metadata": {},
   "outputs": [],
   "source": [
    "# How do you traverse, or access, nested objects?\n",
    "\n",
    "## Specify the index for each level of iteration."
   ]
  },
  {
   "cell_type": "code",
   "execution_count": 10,
   "id": "08a3b5e7",
   "metadata": {},
   "outputs": [
    {
     "name": "stdout",
     "output_type": "stream",
     "text": [
      "CEO of Berkshire Hathaway\n"
     ]
    }
   ],
   "source": [
    "# Traverse/access nested objects\n",
    "# List of Dicts\n",
    "ceo_nested_dict = [\n",
    "  {\n",
    "      \"name\": \"Warren Buffet\",\n",
    "      \"age\": 88,\n",
    "      \"occupation\": \"CEO of Berkshire Hathaway\"\n",
    "  },\n",
    "  {\n",
    "      \"name\": \"Jeff Bezos\",\n",
    "      \"age\": 55,\n",
    "      \"occupation\": \"CEO of Amazon\"\n",
    "  },\n",
    "  {\n",
    "      \"name\": \"Harry Markowitz\",\n",
    "      \"age\": 91,\n",
    "      \"occupation\": \"Professor of Finance\"\n",
    "  }\n",
    "]\n",
    "\n",
    "print(ceo_nested_dict[0]['occupation'])"
   ]
  },
  {
   "cell_type": "code",
   "execution_count": 11,
   "id": "cb8cc3e0",
   "metadata": {},
   "outputs": [],
   "source": [
    "# For loops are blocks of code that allow you to repeat a process a fixed number of times."
   ]
  },
  {
   "cell_type": "code",
   "execution_count": 12,
   "id": "6eebe338",
   "metadata": {},
   "outputs": [
    {
     "name": "stdout",
     "output_type": "stream",
     "text": [
      "0\n",
      "1\n",
      "2\n",
      "3\n",
      "4\n"
     ]
    }
   ],
   "source": [
    "# Loop through a range of numbers (0 through 4)\n",
    "for x in range(5):\n",
    "    print(x)"
   ]
  },
  {
   "cell_type": "code",
   "execution_count": 13,
   "id": "02bc0f7d",
   "metadata": {},
   "outputs": [],
   "source": [
    "# Functions are callable blocks of reusable code that perform an action."
   ]
  },
  {
   "cell_type": "code",
   "execution_count": 14,
   "id": "08c705a6",
   "metadata": {},
   "outputs": [
    {
     "name": "stdout",
     "output_type": "stream",
     "text": [
      "SBUX is booming right now!\n"
     ]
    }
   ],
   "source": [
    "# Define a function\n",
    "# Define a main function that accepts a string argument\n",
    "def main(stock_ticker):\n",
    "  print(stock_ticker + \" is booming right now!\")\n",
    "\n",
    "stock_ticker = \"SBUX\"\n",
    "main(stock_ticker)"
   ]
  },
  {
   "cell_type": "code",
   "execution_count": 15,
   "id": "d86252f6",
   "metadata": {},
   "outputs": [
    {
     "name": "stdout",
     "output_type": "stream",
     "text": [
      "Market Capitalization: 94588216000.0\n",
      "Data type of market_cap variable is: <class 'float'>\n"
     ]
    }
   ],
   "source": [
    "\"\"\"\n",
    "Using a function, implement Market Cap calculation\n",
    "\"\"\"\n",
    "# cap is declared locally to calculate_market_cap(), cap cannot be accessed outside the function.\n",
    "# cap must be returned if it is to be used outside of calculate_market_cap().\n",
    "# market_price and number_of_shares are declared gloablly\n",
    "# Function names should follow the snake_case naming convention.\n",
    "# Function bodies should not include more than 40–50 lines of code. Code longer than 40–50 lines should be decoupled and split into different functions.\n",
    "\n",
    "def calculate_market_cap(market_price, number_of_shares):\n",
    "    cap = market_price * number_of_shares\n",
    "\n",
    "    # Output market_cap value\n",
    "    return cap\n",
    "\n",
    "\"\"\"\n",
    "Capture function output as variable\n",
    "\"\"\"\n",
    "#\n",
    "market_price = 76.06\n",
    "number_of_shares = 1243600000\n",
    "\n",
    "# Call calculate_market_cap() function and capture output as market_cap\n",
    "market_cap = calculate_market_cap(market_price, number_of_shares)\n",
    "print(f\"Market Capitalization: {market_cap}\")\n",
    "print(f\"Data type of market_cap variable is: {type(market_cap)}\")"
   ]
  },
  {
   "cell_type": "code",
   "execution_count": null,
   "id": "024ab3cc",
   "metadata": {},
   "outputs": [],
   "source": []
  },
  {
   "cell_type": "markdown",
   "id": "1dab52d7",
   "metadata": {},
   "source": [
    "03-Ins_Time_Value_of_Money"
   ]
  },
  {
   "cell_type": "code",
   "execution_count": 16,
   "id": "e19d1d23",
   "metadata": {},
   "outputs": [
    {
     "name": "stdout",
     "output_type": "stream",
     "text": [
      "The future value of $10000 at an interest rate of 0.1 compounded 1 time(s) every year over 3 years is $13310.0\n"
     ]
    }
   ],
   "source": [
    "def calculate_future_value(present_value, interest_rate, compounding_periods, years):\n",
    "    \"\"\"\n",
    "    Calculates the future value of money given the present_value, interest rate, compounding period, and number of years.\n",
    "\n",
    "    Args:\n",
    "        present_value (float): The present value\n",
    "        interest_rate (float): The interest rate\n",
    "        periods (int): The compounding period\n",
    "        years (int): The number of years\n",
    "\n",
    "    Returns:\n",
    "        The future value of money.\n",
    "\n",
    "    \"\"\"\n",
    "\n",
    "    future_value = present_value * ((1 + (interest_rate / compounding_periods))**(compounding_periods * years))\n",
    "    future_value_formatted = round(future_value, 2)\n",
    "\n",
    "    return future_value_formatted\n",
    "\n",
    "# Set the values\n",
    "present_value = 10000\n",
    "interest_rate = .1\n",
    "compounding_periods = 1\n",
    "years = 3\n",
    "\n",
    "# Call the calculate_future_value() function\n",
    "calculated_future_value = calculate_future_value(present_value, interest_rate, compounding_periods, years)\n",
    "\n",
    "# Print out the future_value result\n",
    "print(f\"The future value of ${present_value} at an interest rate of {interest_rate} compounded {compounding_periods} time(s) every year over {years} years is ${calculated_future_value}\")\n"
   ]
  },
  {
   "cell_type": "code",
   "execution_count": 17,
   "id": "4cd4889b",
   "metadata": {},
   "outputs": [
    {
     "name": "stdout",
     "output_type": "stream",
     "text": [
      "The future value of $10000 at an interest rate of 0.1 compounded 4 time(s) every year over 3 years is $13448.89\n"
     ]
    }
   ],
   "source": [
    "# compounding Q\n",
    "present_value = 10000\n",
    "interest_rate = .1\n",
    "compounding_periods = 4\n",
    "years = 3\n",
    "\n",
    "# Call the calculate_future_value() function\n",
    "calculated_future_value = calculate_future_value(present_value, interest_rate, compounding_periods, years)\n",
    "\n",
    "# Print out the future_value result\n",
    "print(f\"The future value of ${present_value} at an interest rate of {interest_rate} compounded {compounding_periods} time(s) every year over {years} years is ${calculated_future_value}\")"
   ]
  },
  {
   "cell_type": "code",
   "execution_count": 18,
   "id": "b0f2eb4b",
   "metadata": {},
   "outputs": [
    {
     "name": "stdout",
     "output_type": "stream",
     "text": [
      "The future value of $10000 at an interest rate of 0.1 compounded 12 time(s) every year over 3 years is $13481.82\n"
     ]
    }
   ],
   "source": [
    "# compounding M\n",
    "present_value = 10000\n",
    "interest_rate = .1\n",
    "compounding_periods = 12\n",
    "years = 3\n",
    "\n",
    "# Call the calculate_future_value() function\n",
    "calculated_future_value = calculate_future_value(present_value, interest_rate, compounding_periods, years)\n",
    "\n",
    "# Print out the future_value result\n",
    "print(f\"The future value of ${present_value} at an interest rate of {interest_rate} compounded {compounding_periods} time(s) every year over {years} years is ${calculated_future_value}\")"
   ]
  },
  {
   "cell_type": "code",
   "execution_count": 19,
   "id": "db2a78c3",
   "metadata": {},
   "outputs": [
    {
     "name": "stdout",
     "output_type": "stream",
     "text": [
      "The future value of $10000 at an interest rate of 0.1 compounded 365 time(s) every year over 3 years is $13498.03\n"
     ]
    }
   ],
   "source": [
    "# compounding D\n",
    "present_value = 10000\n",
    "interest_rate = .1\n",
    "compounding_periods = 365\n",
    "years = 3\n",
    "\n",
    "# Call the calculate_future_value() function\n",
    "calculated_future_value = calculate_future_value(present_value, interest_rate, compounding_periods, years)\n",
    "\n",
    "# Print out the future_value result\n",
    "print(f\"The future value of ${present_value} at an interest rate of {interest_rate} compounded {compounding_periods} time(s) every year over {years} years is ${calculated_future_value}\")"
   ]
  },
  {
   "cell_type": "markdown",
   "id": "d2663d49",
   "metadata": {},
   "source": [
    "Time Value of Money: Other Considerations"
   ]
  },
  {
   "cell_type": "code",
   "execution_count": 20,
   "id": "259dea6a",
   "metadata": {},
   "outputs": [
    {
     "name": "stdout",
     "output_type": "stream",
     "text": [
      "The present value of $15000 at an interest rate of 0.1 compounded 1 time(s) every year over 1 years is $13636.36\n"
     ]
    }
   ],
   "source": [
    "def calculate_present_value(future_value, interest_rate, compounding_periods, years):\n",
    "   \n",
    "    present_value =  future_value/(((1 + (interest_rate / compounding_periods))**(compounding_periods * years)))\n",
    "    present_value_formatted = round(present_value, 2)\n",
    "\n",
    "    return present_value_formatted\n",
    "\n",
    "# Set the values\n",
    "future_value = 15000\n",
    "interest_rate = .1\n",
    "compounding_periods = 1\n",
    "years = 1\n",
    "\n",
    "# Call the calculate_future_value() function\n",
    "calculated_present_value = calculate_present_value(future_value, interest_rate, compounding_periods, years)\n",
    "\n",
    "# Print out the future_value result\n",
    "print(f\"The present value of ${future_value} at an interest rate of {interest_rate} compounded {compounding_periods} time(s) every year over {years} years is ${calculated_present_value}\")"
   ]
  },
  {
   "cell_type": "code",
   "execution_count": 21,
   "id": "8212e2ee",
   "metadata": {},
   "outputs": [
    {
     "name": "stdout",
     "output_type": "stream",
     "text": [
      "13636.36\n"
     ]
    }
   ],
   "source": [
    "print(calculated_present_value)"
   ]
  },
  {
   "cell_type": "markdown",
   "id": "70ba0a40",
   "metadata": {},
   "source": [
    "05-Ins_Imports"
   ]
  },
  {
   "cell_type": "markdown",
   "id": "0662b224",
   "metadata": {},
   "source": [
    "05.1 functions"
   ]
  },
  {
   "cell_type": "code",
   "execution_count": 22,
   "id": "445abd77",
   "metadata": {},
   "outputs": [],
   "source": [
    "def print_hello():\n",
    "    print(\"hello!\")\n",
    "\n",
    "def print_goodbye():\n",
    "    print(\"goodbye!\")"
   ]
  },
  {
   "cell_type": "markdown",
   "id": "711b440a",
   "metadata": {},
   "source": [
    "05.2 imports"
   ]
  },
  {
   "cell_type": "markdown",
   "id": "1cbf8c18",
   "metadata": {},
   "source": [
    "Imports allow developers to plug in preexisting libraries to their own programs. Imports allow developers to share and use code that others have written."
   ]
  },
  {
   "cell_type": "markdown",
   "id": "74570889",
   "metadata": {},
   "source": [
    "Imports provide a way to \"stand on the shoulders of giants\" and leverage existing tools and libraries to build more sophisticated programs. Instead of building everything from scratch each time, you can use tools that have been built by other brilliant people to enhance your own code and build even greater programs!"
   ]
  },
  {
   "cell_type": "code",
   "execution_count": 23,
   "id": "b645499f",
   "metadata": {},
   "outputs": [
    {
     "ename": "ModuleNotFoundError",
     "evalue": "No module named 'functions'",
     "output_type": "error",
     "traceback": [
      "\u001b[0;31m---------------------------------------------------------------------------\u001b[0m",
      "\u001b[0;31mModuleNotFoundError\u001b[0m                       Traceback (most recent call last)",
      "\u001b[1;32m/Users/kuki/Documents/dev/FinTech_Bootcamp/FinTechBC-ClassActivity/2.3_Functions_and_Files_vST.ipynb Cell 32\u001b[0m in \u001b[0;36m<cell line: 3>\u001b[0;34m()\u001b[0m\n\u001b[1;32m      <a href='vscode-notebook-cell:/Users/kuki/Documents/dev/FinTech_Bootcamp/FinTechBC-ClassActivity/2.3_Functions_and_Files_vST.ipynb#ch0000031?line=0'>1</a>\u001b[0m \u001b[39m# Call the print_hello() function via a reference to\u001b[39;00m\n\u001b[1;32m      <a href='vscode-notebook-cell:/Users/kuki/Documents/dev/FinTech_Bootcamp/FinTechBC-ClassActivity/2.3_Functions_and_Files_vST.ipynb#ch0000031?line=1'>2</a>\u001b[0m \u001b[39m# the imported module functions.py\u001b[39;00m\n\u001b[0;32m----> <a href='vscode-notebook-cell:/Users/kuki/Documents/dev/FinTech_Bootcamp/FinTechBC-ClassActivity/2.3_Functions_and_Files_vST.ipynb#ch0000031?line=2'>3</a>\u001b[0m \u001b[39mimport\u001b[39;00m \u001b[39mfunctions\u001b[39;00m\n\u001b[1;32m      <a href='vscode-notebook-cell:/Users/kuki/Documents/dev/FinTech_Bootcamp/FinTechBC-ClassActivity/2.3_Functions_and_Files_vST.ipynb#ch0000031?line=3'>4</a>\u001b[0m functions\u001b[39m.\u001b[39mprint_hello()\n",
      "\u001b[0;31mModuleNotFoundError\u001b[0m: No module named 'functions'"
     ]
    }
   ],
   "source": [
    "# Call the print_hello() function via a reference to\n",
    "# the imported module functions.py\n",
    "import functions\n",
    "functions.print_hello()"
   ]
  },
  {
   "cell_type": "code",
   "execution_count": null,
   "id": "ffe01bc8",
   "metadata": {},
   "outputs": [],
   "source": [
    "# Call the print_hello() function imported directly from functions.py\n",
    "from functions import print_hello\n",
    "print_hello()"
   ]
  },
  {
   "cell_type": "markdown",
   "id": "793ec20f",
   "metadata": {},
   "source": [
    "NumPy is a Python library that provides fast input/output, or I/O, on multidimensional or nested array objects. Among other things, NumPy can be used as a scientific computing or financial analysis tool.\n",
    "\n",
    "A Numpy offshoot library applicable to fintech is called numpy-financial. The built-in NPV function from the NumPy Financial library makes calculating NPV values simple so that you don't have to reinvent the wheel.\n",
    "\n",
    "if NumPy Financial not installed - using pip install numpy-financial."
   ]
  },
  {
   "cell_type": "code",
   "execution_count": null,
   "id": "e8d6d520",
   "metadata": {},
   "outputs": [],
   "source": [
    "# Import the NumPy library\n",
    "import numpy\n",
    "\n",
    "# Import the NumPy Financial library\n",
    "import numpy_financial as npf\n",
    "\n",
    "# Initialize variables\n",
    "interest_rate = .1\n",
    "cash_flows = [-1000, 400, 400, 400, 400]\n",
    "\n",
    "#Call the NPV function from the NumPy Financial library\n",
    "net_present_value = npf.npv(interest_rate, cash_flows)\n",
    "print(f\"NPV = {net_present_value}\")"
   ]
  },
  {
   "cell_type": "markdown",
   "id": "5dc5037d",
   "metadata": {},
   "source": [
    "07-Ins_File_IO"
   ]
  },
  {
   "cell_type": "markdown",
   "id": "ba7377bb",
   "metadata": {},
   "source": [
    "07.1 file_io.py"
   ]
  },
  {
   "cell_type": "code",
   "execution_count": null,
   "id": "1810db5f",
   "metadata": {},
   "outputs": [],
   "source": [
    "from pathlib import Path"
   ]
  },
  {
   "cell_type": "markdown",
   "id": "822c4f4c",
   "metadata": {},
   "source": [
    "Absolute Path:\n",
    "\n",
    "An absolute path is the fully qualified path to a specified file, while a relative path takes into account the current working directory of the executing program."
   ]
  },
  {
   "cell_type": "code",
   "execution_count": null,
   "id": "96f6016c",
   "metadata": {},
   "outputs": [
    {
     "name": "stdout",
     "output_type": "stream",
     "text": [
      "This is an output file.\n",
      "Hey what up\n"
     ]
    }
   ],
   "source": [
    "# Absolute path to the file\n",
    "absolute_filepath = Path(\"/Users/siyao/output.txt\")\n",
    "\n",
    "with open(absolute_filepath, 'r') as file:\n",
    "    print(file.read())"
   ]
  },
  {
   "cell_type": "markdown",
   "id": "c6fe0563",
   "metadata": {},
   "source": [
    "Relative Path:"
   ]
  },
  {
   "cell_type": "code",
   "execution_count": null,
   "id": "276dbee6",
   "metadata": {},
   "outputs": [
    {
     "name": "stdout",
     "output_type": "stream",
     "text": [
      "Current Working Directory: C:\\Users\\siyao\n",
      "\n"
     ]
    }
   ],
   "source": [
    "# Current working directory is \"/Users/trilogyed/Desktop/File_IO/\"\n",
    "cwd = Path.cwd()\n",
    "print(f\"Current Working Directory: {cwd}\")\n",
    "print()"
   ]
  },
  {
   "cell_type": "code",
   "execution_count": null,
   "id": "f6ba0362",
   "metadata": {},
   "outputs": [
    {
     "name": "stdout",
     "output_type": "stream",
     "text": [
      "This is an output file.\n",
      "This is an output file.\n",
      "Hey what up\n"
     ]
    }
   ],
   "source": [
    "# Relative path to the file, equivalent to \"{cwd}/Resources/file.txt\"\n",
    "relative_filepath = Path(\"output.txt\")\n",
    "\n",
    "with open(relative_filepath, 'r') as file:\n",
    "    print(file.read())\n",
    "    \n",
    "    line_num = 1\n",
    "    for line in file:\n",
    "        print(f\"line {line_num}: {line}\")\n",
    "        line_num += 1"
   ]
  },
  {
   "cell_type": "code",
   "execution_count": null,
   "id": "355a01e6",
   "metadata": {},
   "outputs": [
    {
     "name": "stdout",
     "output_type": "stream",
     "text": [
      "line 1: This is an output file.\n",
      "\n",
      "line 2: This is an output file.\n",
      "\n",
      "line 3: Hey what up\n"
     ]
    }
   ],
   "source": [
    "  # Parse and print the file line by line. The print statement adds an\n",
    "    # extra line break to each line in the output.\n",
    "file1 = open(relative_filepath, 'r')\n",
    "Lines = file1.readlines()\n",
    "line_num = 1\n",
    "for line in Lines:\n",
    "        print(f\"line {line_num}: {line}\")\n",
    "        line_num += 1"
   ]
  },
  {
   "cell_type": "code",
   "execution_count": null,
   "id": "c7262bd8",
   "metadata": {},
   "outputs": [],
   "source": [
    "# Set the output file path\n",
    "output_path = Path(\"output.txt\")\n",
    "\n",
    "# Open the output_path as a file object in \"write\" mode ('w')\n",
    "# Write a header line and write the contents of 'text' to the file\n",
    "with open(output_path, 'w') as file:\n",
    "    file.write(\"This is an output file.\\n\")\n",
    "    file.write(\"Hey what up\")"
   ]
  },
  {
   "cell_type": "markdown",
   "id": "f5b7319c",
   "metadata": {},
   "source": [
    "09-Ins_CSV_Reader"
   ]
  },
  {
   "cell_type": "code",
   "execution_count": null,
   "id": "6474607a",
   "metadata": {},
   "outputs": [],
   "source": [
    "# Import the pathlib and csv library\n",
    "from pathlib import Path\n",
    "import csv\n",
    "\n",
    "# Set the file path\n",
    "csvpath = Path(\"accounting.csv\")"
   ]
  },
  {
   "cell_type": "code",
   "execution_count": null,
   "id": "017985c1",
   "metadata": {},
   "outputs": [],
   "source": [
    "# Initialize variable to hold salaries\n",
    "salaries = []\n",
    "\n",
    "# Initialize line_num variable\n",
    "line_num = 0"
   ]
  },
  {
   "cell_type": "code",
   "execution_count": null,
   "id": "9444ed40",
   "metadata": {},
   "outputs": [
    {
     "name": "stdout",
     "output_type": "stream",
     "text": [
      "<class '_io.TextIOWrapper'>\n",
      "<class '_csv.reader'>\n",
      "['First Name', 'Last Name', 'SSN', 'Salary'] <---- HEADER\n",
      "['Tina', 'Fleming', '619-16-7988', '75000']\n",
      "['Erica', 'Shah', '164-51-7615', '40000']\n",
      "['Paula', 'Ortiz', '051-83-3290', '120000']\n",
      "['James', 'Hendricks', '776-83-2884', '90000']\n",
      "['Lauren', 'King', '197-94-2398', '60000']\n",
      "['David', 'Cowan', '252-92-1832', '35000']\n",
      "['Andrew', 'Burton', '296-23-6842', '150000']\n",
      "['Julian', 'Baker', '337-40-7543', '75000']\n",
      "['Scott', 'Castro', '399-46-5595', '50000']\n",
      "['Billy', 'Rodriguez', '014-18-2503', '65000']\n",
      "['Darrell', 'Leblanc', '005-82-7918', '40000']\n",
      "['David', 'Hammond', '561-17-6312', '90000']\n"
     ]
    }
   ],
   "source": [
    "# Open the input path as a file object\n",
    "with open(csvpath, 'r') as csvfile:\n",
    "\n",
    "    # Print the datatype of the file object\n",
    "    print(type(csvfile))\n",
    "\n",
    "    # Pass in the csv file to the csv.reader() function\n",
    "    # (with ',' as the delmiter/separator) and return the csvreader object\n",
    "    csvreader = csv.reader(csvfile, delimiter=',')\n",
    "    # Print the datatype of the csvreader\n",
    "    print(type(csvreader))\n",
    "\n",
    "    # Go to the next row from the start of the file\n",
    "    # (which is often the first row/header) and iterate line_num by 1\n",
    "    header = next(csvreader)\n",
    "    line_num += 1\n",
    "    # Print the header\n",
    "    print(f\"{header} <---- HEADER\")\n",
    "\n",
    "    # Read each row of data after the header\n",
    "    for row in csvreader:\n",
    "        # Print the row\n",
    "        print(row)\n",
    "        # Set salary variable equal to the value in the 4th column of each row\n",
    "        salary = int(row[3])\n",
    "        # Append the row salary value to the list of salaries\n",
    "        salaries.append(salary)\n"
   ]
  },
  {
   "cell_type": "code",
   "execution_count": null,
   "id": "fca1aa55",
   "metadata": {},
   "outputs": [
    {
     "name": "stdout",
     "output_type": "stream",
     "text": [
      "150000 35000 74166.67\n"
     ]
    }
   ],
   "source": [
    "# Initialize metric variables\n",
    "max_salary = 0\n",
    "min_salary = 0\n",
    "avg_salary = 0\n",
    "total_salary = 0\n",
    "count_salary = 0\n",
    "\n",
    "# Calculate the max, mean, and average of the list of salaries\n",
    "for salary in salaries:\n",
    "\n",
    "    # Sum the total and count variables\n",
    "    total_salary += salary\n",
    "    count_salary += 1\n",
    "\n",
    "    # Logic to determine min and max salaries\n",
    "    if min_salary == 0:\n",
    "        min_salary = salary\n",
    "    elif salary > max_salary:\n",
    "        max_salary = salary\n",
    "    elif salary < min_salary:\n",
    "        min_salary = salary\n",
    "\n",
    "# Calculate the average salary, round to the nearest 2 decimal places\n",
    "avg_salary = round(total_salary / count_salary, 2)\n",
    "\n",
    "# Print the metrics\n",
    "print(max_salary, min_salary, avg_salary)"
   ]
  },
  {
   "cell_type": "code",
   "execution_count": null,
   "id": "17277a98",
   "metadata": {},
   "outputs": [],
   "source": [
    "# Set the output header\n",
    "header = [\"Max_Salary\", \"Min_Salary\", \"Avg_Salary\"]\n",
    "# Create a list of metrics\n",
    "metrics = [max_salary, min_salary, avg_salary]\n",
    "\n",
    "# Set the output file path\n",
    "output_path = Path('output.csv')\n",
    "\n",
    "# Open the output path as a file object\n",
    "with open(output_path, 'w') as csvfile:\n",
    "    # Set the file object as a csvwriter object\n",
    "    csvwriter = csv.writer(csvfile, delimiter=',')\n",
    "    # Write the header to the output file\n",
    "    csvwriter.writerow(header)\n",
    "    # Write the list of metrics to the output file\n",
    "    csvwriter.writerow(metrics)"
   ]
  },
  {
   "cell_type": "code",
   "execution_count": null,
   "id": "6696f5f5",
   "metadata": {},
   "outputs": [],
   "source": []
  }
 ],
 "metadata": {
  "kernelspec": {
   "display_name": "Python 3.9.12 ('base')",
   "language": "python",
   "name": "python3"
  },
  "language_info": {
   "codemirror_mode": {
    "name": "ipython",
    "version": 3
   },
   "file_extension": ".py",
   "mimetype": "text/x-python",
   "name": "python",
   "nbconvert_exporter": "python",
   "pygments_lexer": "ipython3",
   "version": "3.9.12"
  },
  "vscode": {
   "interpreter": {
    "hash": "c456f17b63525dd1fcde487470240e1db655d3530ed545682dd82e8dd325ec4c"
   }
  }
 },
 "nbformat": 4,
 "nbformat_minor": 5
}
