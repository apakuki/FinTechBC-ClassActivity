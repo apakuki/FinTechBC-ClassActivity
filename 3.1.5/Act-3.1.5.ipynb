{
 "cells": [
  {
   "cell_type": "code",
   "execution_count": 3,
   "metadata": {},
   "outputs": [
    {
     "name": "stdout",
     "output_type": "stream",
     "text": [
      "Hello kuki\n"
     ]
    }
   ],
   "source": [
    "# Declare a variable `welcome_name` as an input with a string of \"Welcome to the sandwich shop, what do I call you? \".\n",
    "\n",
    "welcome_name = input(\"Welcome to the sandwich shop, what do I call you? \")\n",
    "\n",
    "# Then print the string \"Hello\" concatenated with the variable `welcome_name`.\n",
    "\n",
    "print(\"Hello \" + welcome_name)\n",
    "\n",
    "# Declare a variable `question_sandwich` as an input with a string of \"Are you here for a sandwich? (Y/N) \".\n",
    "\n",
    "question_sandwich = input(\"Are you here for a sandwich? (Y/N) \")\n",
    "\n",
    "if (question_sandwich == \"Y\") or (question_sandwich == \"y\"):\n",
    "        \n",
    "# If `question_sandwich` is equal to \"Y\" or \"y\" declare a variable `food_prompt` as an input with a string of \"What kind of sandwich would you like?\".\n",
    "    food_prompt = input(\"What kind of sandwich would you like?\")\n",
    "elif (question_sandwich == \"N\") or (question_sandwich == \"n\"):\n",
    "    print(\"If you don't want a sandwich what are you here for?!\")\n",
    "else:\n",
    "    print(\"You did not write Y or N!\")\n",
    "# Then print a string of \"Please wait 10 min for your \" concatenated with the variable `food_prompt`.\n",
    "# Else If `question_sandwich` is \"N\" or \"n\", print a string of \"If you don't want a sandwich what are you here for?!\".\n",
    "# Else print a string of \"You did not write Y or N!\"\n",
    "\n",
    "\n"
   ]
  },
  {
   "cell_type": "code",
   "execution_count": null,
   "metadata": {},
   "outputs": [],
   "source": []
  }
 ],
 "metadata": {
  "kernelspec": {
   "display_name": "Python 3.9.12 ('base')",
   "language": "python",
   "name": "python3"
  },
  "language_info": {
   "codemirror_mode": {
    "name": "ipython",
    "version": 3
   },
   "file_extension": ".py",
   "mimetype": "text/x-python",
   "name": "python",
   "nbconvert_exporter": "python",
   "pygments_lexer": "ipython3",
   "version": "3.9.12"
  },
  "orig_nbformat": 4,
  "vscode": {
   "interpreter": {
    "hash": "c456f17b63525dd1fcde487470240e1db655d3530ed545682dd82e8dd325ec4c"
   }
  }
 },
 "nbformat": 4,
 "nbformat_minor": 2
}
