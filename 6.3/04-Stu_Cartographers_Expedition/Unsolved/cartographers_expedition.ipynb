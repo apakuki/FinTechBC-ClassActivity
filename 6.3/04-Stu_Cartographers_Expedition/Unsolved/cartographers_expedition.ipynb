{
 "cells": [
  {
   "cell_type": "markdown",
   "metadata": {},
   "source": [
    "# A Cartographers Expedition"
   ]
  },
  {
   "cell_type": "markdown",
   "metadata": {},
   "source": [
    "## Import the required libraries and dependencies"
   ]
  },
  {
   "cell_type": "code",
   "execution_count": 3,
   "metadata": {},
   "outputs": [],
   "source": [
    "import pandas as pd\n",
    "import os\n",
    "from pathlib import Path\n",
    "import hvplot.pandas"
   ]
  },
  {
   "cell_type": "markdown",
   "metadata": {},
   "source": [
    "### Step 1: Read in the `nyc_excursion_plans.csv` file into a Pandas DataFrame. Drop any rows that contain missing data or NaN values."
   ]
  },
  {
   "cell_type": "code",
   "execution_count": 5,
   "metadata": {},
   "outputs": [
    {
     "data": {
      "text/html": [
       "<div>\n",
       "<style scoped>\n",
       "    .dataframe tbody tr th:only-of-type {\n",
       "        vertical-align: middle;\n",
       "    }\n",
       "\n",
       "    .dataframe tbody tr th {\n",
       "        vertical-align: top;\n",
       "    }\n",
       "\n",
       "    .dataframe thead th {\n",
       "        text-align: right;\n",
       "    }\n",
       "</style>\n",
       "<table border=\"1\" class=\"dataframe\">\n",
       "  <thead>\n",
       "    <tr style=\"text-align: right;\">\n",
       "      <th></th>\n",
       "      <th>Id</th>\n",
       "      <th>Longitude</th>\n",
       "      <th>Latitude</th>\n",
       "      <th>Name</th>\n",
       "      <th>PlaceType</th>\n",
       "      <th>Borough</th>\n",
       "    </tr>\n",
       "  </thead>\n",
       "  <tbody>\n",
       "    <tr>\n",
       "      <th>0</th>\n",
       "      <td>90</td>\n",
       "      <td>-73.888958</td>\n",
       "      <td>40.896210</td>\n",
       "      <td>Van Cortlandt Park</td>\n",
       "      <td>Park</td>\n",
       "      <td>Bronx</td>\n",
       "    </tr>\n",
       "    <tr>\n",
       "      <th>1</th>\n",
       "      <td>95</td>\n",
       "      <td>-73.871651</td>\n",
       "      <td>40.889879</td>\n",
       "      <td>Woodlawn Cemetery</td>\n",
       "      <td>Cemetery</td>\n",
       "      <td>Bronx</td>\n",
       "    </tr>\n",
       "    <tr>\n",
       "      <th>2</th>\n",
       "      <td>81</td>\n",
       "      <td>-73.838642</td>\n",
       "      <td>40.886965</td>\n",
       "      <td>Seton Falls Park</td>\n",
       "      <td>Park</td>\n",
       "      <td>Bronx</td>\n",
       "    </tr>\n",
       "    <tr>\n",
       "      <th>3</th>\n",
       "      <td>69</td>\n",
       "      <td>-73.809802</td>\n",
       "      <td>40.877986</td>\n",
       "      <td>Pelham Bay Park</td>\n",
       "      <td>Park</td>\n",
       "      <td>Bronx</td>\n",
       "    </tr>\n",
       "    <tr>\n",
       "      <th>4</th>\n",
       "      <td>8</td>\n",
       "      <td>-73.878308</td>\n",
       "      <td>40.864424</td>\n",
       "      <td>Botanical Garden</td>\n",
       "      <td>Garden</td>\n",
       "      <td>Bronx</td>\n",
       "    </tr>\n",
       "  </tbody>\n",
       "</table>\n",
       "</div>"
      ],
      "text/plain": [
       "   Id  Longitude   Latitude                Name PlaceType Borough\n",
       "0  90 -73.888958  40.896210  Van Cortlandt Park      Park   Bronx\n",
       "1  95 -73.871651  40.889879   Woodlawn Cemetery  Cemetery   Bronx\n",
       "2  81 -73.838642  40.886965    Seton Falls Park      Park   Bronx\n",
       "3  69 -73.809802  40.877986     Pelham Bay Park      Park   Bronx\n",
       "4   8 -73.878308  40.864424    Botanical Garden    Garden   Bronx"
      ]
     },
     "execution_count": 5,
     "metadata": {},
     "output_type": "execute_result"
    }
   ],
   "source": [
    "# Read the the ny_places_interest.csv file into a DataFrame\n",
    "\n",
    "\n",
    "csvpath = Path(\"../Resources/nyc_excursion_plans.csv\")\n",
    "places_of_interest = pd.read_csv(csvpath)\n",
    "\n",
    "# Review the DataFrame\n",
    "# YOUR CODE HERE\n",
    "\n",
    "places_of_interest.head()"
   ]
  },
  {
   "cell_type": "code",
   "execution_count": 8,
   "metadata": {},
   "outputs": [
    {
     "name": "stdout",
     "output_type": "stream",
     "text": [
      "<class 'pandas.core.frame.DataFrame'>\n",
      "Int64Index: 92 entries, 0 to 95\n",
      "Data columns (total 6 columns):\n",
      " #   Column     Non-Null Count  Dtype  \n",
      "---  ------     --------------  -----  \n",
      " 0   Id         92 non-null     int64  \n",
      " 1   Longitude  92 non-null     float64\n",
      " 2   Latitude   92 non-null     float64\n",
      " 3   Name       92 non-null     object \n",
      " 4   PlaceType  92 non-null     object \n",
      " 5   Borough    92 non-null     object \n",
      "dtypes: float64(2), int64(1), object(3)\n",
      "memory usage: 5.0+ KB\n"
     ]
    }
   ],
   "source": [
    "places_of_interest.dropna(inplace=True)\n",
    "places_of_interest.info()"
   ]
  },
  {
   "cell_type": "markdown",
   "metadata": {},
   "source": [
    "### Step 2: Slice the DataFrame to include the arrival airport and first location. Plot the arriving airport and the first location"
   ]
  },
  {
   "cell_type": "code",
   "execution_count": null,
   "metadata": {},
   "outputs": [],
   "source": [
    "# Create a DataFrame with the arriving Airport and the first location you will visit\n",
    "#arrival_and_first_location = # YOUR CODE HERE\n",
    "\n",
    "# Plot the arriving airport and the first location\n",
    "# Set size = 300 to make the points easier to see on the map\n",
    "#first_route = # YOUR CODE HERE\n",
    "\n",
    "# Show the plot\n",
    "# YOUR CODE HERE\n"
   ]
  },
  {
   "cell_type": "markdown",
   "metadata": {},
   "source": [
    "### Step 3: Plot the route between your first, second and third locations."
   ]
  },
  {
   "cell_type": "code",
   "execution_count": null,
   "metadata": {},
   "outputs": [],
   "source": [
    "# Plot the route between the first second and third locations\n",
    "first_second_third_locations = # YOUR CODE HERE\n",
    "\n",
    "# Create the plot including your first, second and third locations\n",
    "# Set size = 300 to make the points easier to see on the map\n",
    "second_route = # YOUR CODE HERE\n",
    "\n",
    "# Show the Plot\n",
    "# YOUR CODE HERE"
   ]
  },
  {
   "cell_type": "markdown",
   "metadata": {},
   "source": [
    "### Step 4: Plot the route between your third, fourth, and fifth locations."
   ]
  },
  {
   "cell_type": "code",
   "execution_count": null,
   "metadata": {},
   "outputs": [],
   "source": [
    "## Step 5: Plot the route between your third, fourth, and fifth locations.\n",
    "third_fourth_fifth_locations = # YOUR CODE HERE\n",
    "\n",
    "# Create the plot including your third, fourth and fifth locations\n",
    "# Set size = 300 to make the points easier to see on the map\n",
    "third_route = # YOUR CODE HERE\n",
    "\n",
    "# Show the Plot\n",
    "# YOUR CODE HERE"
   ]
  },
  {
   "cell_type": "markdown",
   "metadata": {},
   "source": [
    "### Step 5: Plot all the stops in your excursion"
   ]
  },
  {
   "cell_type": "code",
   "execution_count": null,
   "metadata": {},
   "outputs": [],
   "source": [
    "# Plot the course for all of the stops in your excursion, including the airport\n",
    "all_stops = # YOUR CODE HERE\n",
    "\n",
    "# Create the plot that shows all of your stops\n",
    "plot_all_stops = # YOUR CODE HERE\n",
    "\n",
    "# Show the plot\n",
    "# YOUR CODE HERE"
   ]
  },
  {
   "cell_type": "markdown",
   "metadata": {},
   "source": [
    "**Question:** Given the location of the stops on your excursion, what is the order in which you should visit them to get you back to the airport most efficiently?\n",
    "\n",
    "**Answer:** # YOUR ANSWER HERE"
   ]
  },
  {
   "cell_type": "code",
   "execution_count": null,
   "metadata": {},
   "outputs": [],
   "source": []
  }
 ],
 "metadata": {
  "kernelspec": {
   "display_name": "Python 3.7.13 ('dev')",
   "language": "python",
   "name": "python3"
  },
  "language_info": {
   "codemirror_mode": {
    "name": "ipython",
    "version": 3
   },
   "file_extension": ".py",
   "mimetype": "text/x-python",
   "name": "python",
   "nbconvert_exporter": "python",
   "pygments_lexer": "ipython3",
   "version": "3.7.13"
  },
  "vscode": {
   "interpreter": {
    "hash": "3886ce0d94370bf4fffa63e4ccb4f5d640a56791ded40000fd32f9b4b0dc8f0c"
   }
  }
 },
 "nbformat": 4,
 "nbformat_minor": 4
}
