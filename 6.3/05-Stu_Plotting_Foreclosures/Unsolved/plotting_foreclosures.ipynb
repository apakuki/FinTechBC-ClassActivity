{
 "cells": [
  {
   "cell_type": "markdown",
   "metadata": {},
   "source": [
    "# Plotting Foreclosures"
   ]
  },
  {
   "cell_type": "code",
   "execution_count": null,
   "metadata": {},
   "outputs": [],
   "source": [
    "# Import the the required libraries and dependencies\n",
    "import pandas as pd\n",
    "import os\n",
    "from pathlib import Path\n",
    "import hvplot.pandas"
   ]
  },
  {
   "cell_type": "markdown",
   "metadata": {},
   "source": [
    "### Step 1: Using the `read_csv` function and the Path module, read \"2018_Registered_Foreclosure_Properties.csv\" from the `Resources` folder, and create the `la_foreclosures_2018` DataFrame."
   ]
  },
  {
   "cell_type": "code",
   "execution_count": null,
   "metadata": {},
   "outputs": [],
   "source": [
    "# Using the read_csv file and Path module, read in the \n",
    "# \"2018_Registered_Foreclosure_Properties.csv\" file and create the DataFrame\n",
    "\n",
    "# YOUR CODE HERE\n",
    "\n",
    "\n",
    "# Review the first and last five rows of the DataFrame\n",
    "display(# YOUR CODE HERE)\n",
    "display(# YOUR CODE HERE)"
   ]
  },
  {
   "cell_type": "markdown",
   "metadata": {},
   "source": [
    "### Step 2: Review the code that creates the `most_foreclosures_df` DataFrame from the `la_foreclosures_2018` DataFrame. The starter file provides this code. Be sure to run this cell as you work through the next steps."
   ]
  },
  {
   "cell_type": "code",
   "execution_count": null,
   "metadata": {},
   "outputs": [],
   "source": [
    "# A list of the lenders that are to be included in the analysis.\n",
    "lenders = [\n",
    "    \"Ocwen Loan Servicing, LLC\",\n",
    "    \"Wells Fargo Bank N.A.\",\n",
    "    \"JP Morgan Chase NA\",\n",
    "    \"Nationstar Mortgage LLC\",\n",
    "]\n",
    "\n",
    "# Using the Python `isin` function, create a subset of the original DataFrame that includes\n",
    "# only the \"Lenders\" that are in the \"lenders\" list.\n",
    "most_foreclosures_df = la_foreclosures_2018[la_foreclosures_2018[\"Lender\"].isin(lenders)]\n",
    "\n",
    "# Review the first five rows of the resulting DataFrame\n",
    "most_foreclosures_df.head()"
   ]
  },
  {
   "cell_type": "markdown",
   "metadata": {},
   "source": [
    "### Step 3: Use the `points` function to plot the data from the `most_foreclosures_df` DataFrame."
   ]
  },
  {
   "cell_type": "code",
   "execution_count": null,
   "metadata": {},
   "outputs": [],
   "source": [
    "# Create the plot based on the most_foreclosures_df DataFrame.\n",
    "# The color parameter should be based on Lender\n",
    "\n",
    "# YOUR CODE HERE"
   ]
  },
  {
   "cell_type": "markdown",
   "metadata": {},
   "source": [
    "### Step 4: Use the `points` function to create a second plot from the `most_foreclosures_df` DataFrame. "
   ]
  },
  {
   "cell_type": "code",
   "execution_count": null,
   "metadata": {},
   "outputs": [],
   "source": [
    "# Create the plot based on the most_foreclosures_df DataFrame.\n",
    "# The color parameter should be based on Property Type\n",
    "\n",
    "# YOUR CODE HERE"
   ]
  },
  {
   "cell_type": "markdown",
   "metadata": {},
   "source": [
    "### Step 5: Use the `points` function to create a third plot from the `most_foreclosures_df` DataFrame. "
   ]
  },
  {
   "cell_type": "code",
   "execution_count": null,
   "metadata": {},
   "outputs": [],
   "source": [
    "# Create the plot based on the most_foreclosures_df DataFrame.\n",
    "# The color parameter should be based on Council District\n",
    "\n",
    "# YOUR CODE HERE"
   ]
  },
  {
   "cell_type": "markdown",
   "metadata": {},
   "source": [
    "## Step 6: Answer the following questions: "
   ]
  },
  {
   "cell_type": "markdown",
   "metadata": {},
   "source": [
    "**Questions:** After reviewing the visualisations, what insights can you gain about the foreclosures in Los Angeles in 2018? Which lender owns the most foreclosed properties? Do the lenders tend to focus on one area or council district in the city or are their properties evenly distributed throughout the region?\n",
    "\n",
    "**Answers:** # YOUR ANSWER HERE"
   ]
  },
  {
   "cell_type": "code",
   "execution_count": null,
   "metadata": {},
   "outputs": [],
   "source": []
  }
 ],
 "metadata": {
  "kernelspec": {
   "display_name": "Python 3 (ipykernel)",
   "language": "python",
   "name": "python3"
  },
  "language_info": {
   "codemirror_mode": {
    "name": "ipython",
    "version": 3
   },
   "file_extension": ".py",
   "mimetype": "text/x-python",
   "name": "python",
   "nbconvert_exporter": "python",
   "pygments_lexer": "ipython3",
   "version": "3.7.11"
  }
 },
 "nbformat": 4,
 "nbformat_minor": 4
}
