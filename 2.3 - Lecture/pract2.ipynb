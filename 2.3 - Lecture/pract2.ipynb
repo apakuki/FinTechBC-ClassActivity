{
 "cells": [
  {
   "cell_type": "code",
   "execution_count": 1,
   "metadata": {},
   "outputs": [
    {
     "name": "stdout",
     "output_type": "stream",
     "text": [
      "The first entry in employees_nested_list is: ['Warren Buffet', 88, 'CEO of Berkshire Hathaway']\n",
      "Warren Buffet is 88 years old, serving as CEO of Berkshire Hathaway.\n"
     ]
    }
   ],
   "source": [
    "# # List\n",
    "# ceo_list = [\"Warren\", \"Jack\", \"Harry\"]\n",
    "# # List of Lists\n",
    "# ceo_nested_list = [\n",
    "#  [\"Warren Buffet\", 88, \"CEO of Berkshire Hathaway\"],\n",
    "#  [\"Jeff Bezos\", 55, \"CEO of Amazon\"],\n",
    "#  [\"Harry Markowitz\", 91, \"Professor of Finance\"]\n",
    "# ]\n",
    "# # Retrieve first entry of ceo_nested_list\n",
    "# first_entry = ceo_nested_list[0]\n",
    "# # Retrieve name of first entry\n",
    "# first_entry_name = ceo_nested_list[0][0]\n",
    "# # Retrieve age of first entry\n",
    "# first_entry_age = ceo_nested_list[0][1]\n",
    "# # Retrieve occupation of first entry\n",
    "# first_entry_occupation = ceo_nested_list[0][2]\n",
    "# # Print results to screen\n",
    "# print(\"The first entry in employees_nested_list is:\", first_entry)\n",
    "# print(f\"{first_entry_name} is {first_entry_age} years old, serving as {first_entry_occupation}.\")"
   ]
  },
  {
   "cell_type": "code",
   "execution_count": 4,
   "metadata": {},
   "outputs": [
    {
     "name": "stdout",
     "output_type": "stream",
     "text": [
      "First entry: ['Warren Buffet', 88, 'CEO of Berkshire Hathaway']\n"
     ]
    }
   ],
   "source": [
    "ceo_list = [\n",
    "    [\"Warren Buffet\", 88, \"CEO of Berkshire Hathaway\"],\n",
    "    [\"Jeff Bezos\", 55, \"CEO of Amazon\"],\n",
    "    [\"Harry Markowitz\", 91, \"Professor of Finance\"]\n",
    "]\n",
    "\n",
    "first_entry = ceo_list[0]\n",
    "\n",
    "print(f\"First entry: {first_entry}\")\n",
    "\n"
   ]
  }
 ],
 "metadata": {
  "kernelspec": {
   "display_name": "Python 3.9.12 ('base')",
   "language": "python",
   "name": "python3"
  },
  "language_info": {
   "codemirror_mode": {
    "name": "ipython",
    "version": 3
   },
   "file_extension": ".py",
   "mimetype": "text/x-python",
   "name": "python",
   "nbconvert_exporter": "python",
   "pygments_lexer": "ipython3",
   "version": "3.9.12"
  },
  "orig_nbformat": 4,
  "vscode": {
   "interpreter": {
    "hash": "d4d68224527b6b9d9ea572ebc6ad527e87508523c6b7ee66fd189961f97d3b40"
   }
  }
 },
 "nbformat": 4,
 "nbformat_minor": 2
}
