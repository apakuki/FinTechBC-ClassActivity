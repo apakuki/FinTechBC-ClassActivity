{
 "cells": [
  {
   "cell_type": "code",
   "execution_count": 1,
   "metadata": {},
   "outputs": [
    {
     "name": "stdout",
     "output_type": "stream",
     "text": [
      "My list of groceries:\n",
      "['water', 'butter', 'eggs', 'apples', 'cinnamon', 'sugar', 'milk']\n",
      "\n",
      "What are my first two items on the list?\n",
      "['water', 'butter']\n",
      "\n"
     ]
    }
   ],
   "source": [
    "# -*- coding: utf-8 -*-\n",
    "\"\"\"\n",
    "Student Do: Grocery List.\n",
    "\n",
    "This script showcases basic operations of Python Lists to help Mike\n",
    "organize his grocery shopping list.\n",
    "\"\"\"\n",
    "\n",
    "# Create a list of groceries\n",
    "print(\"My list of groceries:\")\n",
    "groceries = [\"water\", \"butter\", \"eggs\", \"apples\", \"cinnamon\", \"sugar\", \"milk\"]\n",
    "print(groceries)\n",
    "print()\n",
    "\n",
    "# Find the first two items on the list\n",
    "print(\"What are my first two items on the list?\")\n",
    "print(groceries[:2])\n",
    "print()\n"
   ]
  },
  {
   "cell_type": "code",
   "execution_count": null,
   "metadata": {},
   "outputs": [],
   "source": [
    "print(groceries[])"
   ]
  }
 ],
 "metadata": {
  "kernelspec": {
   "display_name": "Python 3.9.12 ('base')",
   "language": "python",
   "name": "python3"
  },
  "language_info": {
   "codemirror_mode": {
    "name": "ipython",
    "version": 3
   },
   "file_extension": ".py",
   "mimetype": "text/x-python",
   "name": "python",
   "nbconvert_exporter": "python",
   "pygments_lexer": "ipython3",
   "version": "3.9.12"
  },
  "orig_nbformat": 4,
  "vscode": {
   "interpreter": {
    "hash": "d4d68224527b6b9d9ea572ebc6ad527e87508523c6b7ee66fd189961f97d3b40"
   }
  }
 },
 "nbformat": 4,
 "nbformat_minor": 2
}
