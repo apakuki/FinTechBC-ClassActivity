{
 "cells": [
  {
   "cell_type": "code",
   "execution_count": 1,
   "metadata": {},
   "outputs": [
    {
     "name": "stderr",
     "output_type": "stream",
     "text": [
      "c:\\Users\\P630461\\Anaconda3\\envs\\blkchain\\lib\\site-packages\\eth_tester\\backends\\__init__.py:31: UserWarning: Ethereum Tester: No backend was explicitely set, and no *full* backends were available.  Falling back to the `MockBackend` which does not support all EVM functionality.  Please refer to the `eth-tester` documentation for information on what backends are available and how to set them.\n",
      "  \"Ethereum Tester: No backend was explicitely set, and no *full* \"\n"
     ]
    }
   ],
   "source": [
    "# Import the Web3 library\n",
    "from web3 import Web3\n",
    "\n",
    "# Import the RPC Provider\n",
    "from web3 import EthereumTesterProvider\n",
    "\n",
    "#Create instance\n",
    "w3 = Web3()\n",
    "\n",
    "#Create instance for provider\n",
    "provider = EthereumTesterProvider()\n",
    "\n",
    "\n",
    "#Create instance of Web3 to include provider\n",
    "w3 = Web3(provider)\n",
    "\n"
   ]
  },
  {
   "cell_type": "code",
   "execution_count": 2,
   "metadata": {},
   "outputs": [
    {
     "name": "stderr",
     "output_type": "stream",
     "text": [
      "c:\\Users\\P630461\\Anaconda3\\envs\\blkchain\\lib\\site-packages\\web3\\method.py:212: DeprecationWarning: getBlock is deprecated in favor of get_block\n",
      "  category=DeprecationWarning,\n"
     ]
    },
    {
     "data": {
      "text/plain": [
       "AttributeDict({'number': 0,\n",
       " 'parentHash': HexBytes('0x0000000000000000000000000000000000000000000000000000000000000000'),\n",
       " 'nonce': HexBytes('0x000000000000002a'),\n",
       " 'sha3Uncles': HexBytes('0x1dcc4de8dec75d7aab85b567b6ccd41ad312451b948a7413f0a142fd40d49347'),\n",
       " 'logs_bloom': 0,\n",
       " 'transactionsRoot': HexBytes('0x56e81f171bcc55a6ff8345e692c0f86e5b48e01b996cadc001622fb5e363b421'),\n",
       " 'receipts_root': '0x56e81f171bcc55a6ff8345e692c0f86e5b48e01b996cadc001622fb5e363b421',\n",
       " 'stateRoot': HexBytes('0x56e81f171bcc55a6ff8345e692c0f86e5b48e01b996cadc001622fb5e363b421'),\n",
       " 'miner': '0x0000000000000000000000000000000000000000',\n",
       " 'difficulty': 131072,\n",
       " 'totalDifficulty': 131072,\n",
       " 'size': 0,\n",
       " 'extraData': HexBytes('0x0000000000000000000000000000000000000000000000000000000000000000'),\n",
       " 'gasLimit': 3141592,\n",
       " 'gasUsed': 0,\n",
       " 'timestamp': 1674468715,\n",
       " 'transactions': [],\n",
       " 'uncles': [],\n",
       " 'hash': HexBytes('0xa8322ac5e990679383cbe3ff4eaa7fe17a40e68a842c53b6fe1c7823f2fc8a4e')})"
      ]
     },
     "execution_count": 2,
     "metadata": {},
     "output_type": "execute_result"
    }
   ],
   "source": [
    "w3.eth.getBlock('latest')\n"
   ]
  }
 ],
 "metadata": {
  "kernelspec": {
   "display_name": "blkchain",
   "language": "python",
   "name": "python3"
  },
  "language_info": {
   "codemirror_mode": {
    "name": "ipython",
    "version": 3
   },
   "file_extension": ".py",
   "mimetype": "text/x-python",
   "name": "python",
   "nbconvert_exporter": "python",
   "pygments_lexer": "ipython3",
   "version": "3.7.15"
  },
  "orig_nbformat": 2,
  "vscode": {
   "interpreter": {
    "hash": "49cb51529e0f102bd0a89837118d560860eee110710ece8c37d5463e24912541"
   }
  }
 },
 "nbformat": 4,
 "nbformat_minor": 2
}
