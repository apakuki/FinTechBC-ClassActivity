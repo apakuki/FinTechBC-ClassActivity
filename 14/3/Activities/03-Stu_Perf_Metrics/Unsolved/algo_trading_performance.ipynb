{
 "cells": [
  {
   "cell_type": "markdown",
   "metadata": {},
   "source": [
    "# Evaluating Algorithmic Strategy Performance\n",
    "\n",
    "In this activity, you will be utilizing the performance metrics you've learned in order to analyze the benefits and tradeoffs of various algorithmic strategy investments.\n",
    "\n",
    "## Instructions\n",
    "\n",
    "#### Read in the Data\n",
    "* Using the Jupyter notebook included in the unsolved folder, import the [data on daily returns to various algorithmic strategies.](../Resources/algo_returns.csv)\n",
    "\n",
    "* This starter code reads in the following datasets:\n",
    "  * `option_algos.csv`: Daily returns to an algorithmic option strategy on three stocks.\n",
    "  * `option_trades.csv`: The number of trades each day for the three option strategies.\n",
    "  * `equity_algos.csv`: Daily returns to an algorithmic equity strategy on three stocks.\n",
    "  * `equity_trades.csv`: The number of trades each day for the three equity strategies.\n",
    "\n",
    "#### Plotting Performance\n",
    "\n",
    "* Plot non-compounded returns (`cumsum`) to the three option strategies.\n",
    "\n",
    "* Plot compounded returns (1+`cumprod`) to the three equity strategies.\n",
    "\n",
    "#### Adding Transaction Costs\n",
    "\n",
    "* Create a variable called `cost_per_trade`, setting it at 0.001 (0.10% per trade).\n",
    "\n",
    "* Using the `equity_trades` DataFrame, calculate the daily trade costs for each equity in the `equity_trades` DataFrame.\n",
    "\n",
    "* Create a new DataFrame called `equity_returns_after_cost`, which subtracts daily trade costs from the `equity_returns` DataFrame.\n",
    "\n",
    "* Then, create a new variable called `cost_per_trade`, this time setting it at 0.005 (0.50% per trade). Similarly, create a `option_returns_after_cost` DataFrame, which takes the daily option returns, and subtracts out daily `cost_per_trade` for the options.\n",
    "\n",
    "#### Plot Performance After Transaction Costs\n",
    "\n",
    "* Using 1+`cumprod`, calculate and plot cumulative performance of the `equity_returns_after_cost`.\n",
    "\n",
    "* Using `cumsum`, calculate the total performance of the option returns `option_returns_after_cost`.\n",
    "\n",
    "#### Calculate Sharpe Ratios\n",
    "\n",
    "* Using the returns **after transaction costs**, calculate the Sharpe Ratio for each strategy\n",
    "  * Calculate the Sharpe Ratios for both equity and option strategies.\n",
    "\n",
    "#### Calculate Weekly Returns\n",
    "\n",
    "* Use groupby on the equity returns (after transaction costs) and calculate total (`sum`) weekly returns. Use `describe` to display the best and worst weeks for trading.\n",
    "\n",
    "* Do the same groupby approach, this time looking at weekly option trading returns."
   ]
  },
  {
   "cell_type": "code",
   "execution_count": 1,
   "metadata": {},
   "outputs": [],
   "source": [
    "# Import\n",
    "import pandas as pd\n",
    "import numpy as np\n",
    "from pathlib import Path\n",
    "\n",
    "# Setting these options will allow for reviewing more of the DataFrames\n",
    "pd.set_option('display.max_rows', 500)\n",
    "pd.set_option('display.max_columns', 500)\n",
    "pd.set_option('display.width', 300)"
   ]
  },
  {
   "cell_type": "markdown",
   "metadata": {},
   "source": [
    "## Read in the Data"
   ]
  },
  {
   "cell_type": "code",
   "execution_count": 2,
   "metadata": {},
   "outputs": [
    {
     "data": {
      "text/html": [
       "<div>\n",
       "<style scoped>\n",
       "    .dataframe tbody tr th:only-of-type {\n",
       "        vertical-align: middle;\n",
       "    }\n",
       "\n",
       "    .dataframe tbody tr th {\n",
       "        vertical-align: top;\n",
       "    }\n",
       "\n",
       "    .dataframe thead th {\n",
       "        text-align: right;\n",
       "    }\n",
       "</style>\n",
       "<table border=\"1\" class=\"dataframe\">\n",
       "  <thead>\n",
       "    <tr style=\"text-align: right;\">\n",
       "      <th></th>\n",
       "      <th>ANTM</th>\n",
       "      <th>SPY</th>\n",
       "      <th>EWJ</th>\n",
       "    </tr>\n",
       "    <tr>\n",
       "      <th>date</th>\n",
       "      <th></th>\n",
       "      <th></th>\n",
       "      <th></th>\n",
       "    </tr>\n",
       "  </thead>\n",
       "  <tbody>\n",
       "    <tr>\n",
       "      <th>2014-01-02</th>\n",
       "      <td>-0.045557</td>\n",
       "      <td>0.027186</td>\n",
       "      <td>0.118055</td>\n",
       "    </tr>\n",
       "    <tr>\n",
       "      <th>2014-01-03</th>\n",
       "      <td>-0.009778</td>\n",
       "      <td>-0.023939</td>\n",
       "      <td>-0.082041</td>\n",
       "    </tr>\n",
       "    <tr>\n",
       "      <th>2014-01-06</th>\n",
       "      <td>-0.026384</td>\n",
       "      <td>-0.027252</td>\n",
       "      <td>0.047106</td>\n",
       "    </tr>\n",
       "    <tr>\n",
       "      <th>2014-01-07</th>\n",
       "      <td>0.003609</td>\n",
       "      <td>0.123126</td>\n",
       "      <td>-0.051264</td>\n",
       "    </tr>\n",
       "    <tr>\n",
       "      <th>2014-01-08</th>\n",
       "      <td>0.016776</td>\n",
       "      <td>-0.053629</td>\n",
       "      <td>-0.024076</td>\n",
       "    </tr>\n",
       "  </tbody>\n",
       "</table>\n",
       "</div>"
      ],
      "text/plain": [
       "                ANTM       SPY       EWJ\n",
       "date                                    \n",
       "2014-01-02 -0.045557  0.027186  0.118055\n",
       "2014-01-03 -0.009778 -0.023939 -0.082041\n",
       "2014-01-06 -0.026384 -0.027252  0.047106\n",
       "2014-01-07  0.003609  0.123126 -0.051264\n",
       "2014-01-08  0.016776 -0.053629 -0.024076"
      ]
     },
     "execution_count": 2,
     "metadata": {},
     "output_type": "execute_result"
    }
   ],
   "source": [
    "# Read CSV file from the resources folder into a Pandas DataFrame\n",
    "# Set the date as the DateTimeIndex\n",
    "option_returns = pd.read_csv(\n",
    "    Path(\"../Resources/option_algos.csv\"),\n",
    "    index_col = \"date\", \n",
    "    parse_dates = True, \n",
    "    infer_datetime_format = True\n",
    ")\n",
    "# Review the DataFrame\n",
    "option_returns.head()"
   ]
  },
  {
   "cell_type": "code",
   "execution_count": 3,
   "metadata": {},
   "outputs": [
    {
     "data": {
      "text/html": [
       "<div>\n",
       "<style scoped>\n",
       "    .dataframe tbody tr th:only-of-type {\n",
       "        vertical-align: middle;\n",
       "    }\n",
       "\n",
       "    .dataframe tbody tr th {\n",
       "        vertical-align: top;\n",
       "    }\n",
       "\n",
       "    .dataframe thead th {\n",
       "        text-align: right;\n",
       "    }\n",
       "</style>\n",
       "<table border=\"1\" class=\"dataframe\">\n",
       "  <thead>\n",
       "    <tr style=\"text-align: right;\">\n",
       "      <th></th>\n",
       "      <th>ANTM</th>\n",
       "      <th>SPY</th>\n",
       "      <th>EWJ</th>\n",
       "    </tr>\n",
       "    <tr>\n",
       "      <th>date</th>\n",
       "      <th></th>\n",
       "      <th></th>\n",
       "      <th></th>\n",
       "    </tr>\n",
       "  </thead>\n",
       "  <tbody>\n",
       "    <tr>\n",
       "      <th>2014-01-02</th>\n",
       "      <td>0.0</td>\n",
       "      <td>0.0</td>\n",
       "      <td>0.0</td>\n",
       "    </tr>\n",
       "    <tr>\n",
       "      <th>2014-01-03</th>\n",
       "      <td>0.0</td>\n",
       "      <td>0.0</td>\n",
       "      <td>0.0</td>\n",
       "    </tr>\n",
       "    <tr>\n",
       "      <th>2014-01-06</th>\n",
       "      <td>0.0</td>\n",
       "      <td>0.0</td>\n",
       "      <td>0.0</td>\n",
       "    </tr>\n",
       "    <tr>\n",
       "      <th>2014-01-07</th>\n",
       "      <td>0.0</td>\n",
       "      <td>0.0</td>\n",
       "      <td>0.0</td>\n",
       "    </tr>\n",
       "    <tr>\n",
       "      <th>2014-01-08</th>\n",
       "      <td>0.0</td>\n",
       "      <td>2.0</td>\n",
       "      <td>0.0</td>\n",
       "    </tr>\n",
       "  </tbody>\n",
       "</table>\n",
       "</div>"
      ],
      "text/plain": [
       "            ANTM  SPY  EWJ\n",
       "date                      \n",
       "2014-01-02   0.0  0.0  0.0\n",
       "2014-01-03   0.0  0.0  0.0\n",
       "2014-01-06   0.0  0.0  0.0\n",
       "2014-01-07   0.0  0.0  0.0\n",
       "2014-01-08   0.0  2.0  0.0"
      ]
     },
     "execution_count": 3,
     "metadata": {},
     "output_type": "execute_result"
    }
   ],
   "source": [
    "# Read CSV file from the resources folder into a Pandas DataFrame\n",
    "# Set the date as the DateTimeIndex\n",
    "option_trades = pd.read_csv(\n",
    "    Path(\"../Resources/option_trades.csv\"),\n",
    "    index_col = \"date\", \n",
    "    parse_dates = True, \n",
    "    infer_datetime_format = True\n",
    ")\n",
    "\n",
    "# Review the DataFrame\n",
    "option_trades.head()"
   ]
  },
  {
   "cell_type": "code",
   "execution_count": 4,
   "metadata": {},
   "outputs": [
    {
     "data": {
      "text/html": [
       "<div>\n",
       "<style scoped>\n",
       "    .dataframe tbody tr th:only-of-type {\n",
       "        vertical-align: middle;\n",
       "    }\n",
       "\n",
       "    .dataframe tbody tr th {\n",
       "        vertical-align: top;\n",
       "    }\n",
       "\n",
       "    .dataframe thead th {\n",
       "        text-align: right;\n",
       "    }\n",
       "</style>\n",
       "<table border=\"1\" class=\"dataframe\">\n",
       "  <thead>\n",
       "    <tr style=\"text-align: right;\">\n",
       "      <th></th>\n",
       "      <th>ANTM</th>\n",
       "      <th>SPY</th>\n",
       "      <th>EWJ</th>\n",
       "    </tr>\n",
       "    <tr>\n",
       "      <th>date</th>\n",
       "      <th></th>\n",
       "      <th></th>\n",
       "      <th></th>\n",
       "    </tr>\n",
       "  </thead>\n",
       "  <tbody>\n",
       "    <tr>\n",
       "      <th>2014-01-02</th>\n",
       "      <td>-0.011942</td>\n",
       "      <td>-0.005984</td>\n",
       "      <td>-0.011659</td>\n",
       "    </tr>\n",
       "    <tr>\n",
       "      <th>2014-01-03</th>\n",
       "      <td>0.004855</td>\n",
       "      <td>0.000461</td>\n",
       "      <td>0.000584</td>\n",
       "    </tr>\n",
       "    <tr>\n",
       "      <th>2014-01-06</th>\n",
       "      <td>0.008953</td>\n",
       "      <td>0.002594</td>\n",
       "      <td>0.002586</td>\n",
       "    </tr>\n",
       "    <tr>\n",
       "      <th>2014-01-07</th>\n",
       "      <td>-0.011833</td>\n",
       "      <td>-0.004394</td>\n",
       "      <td>-0.004182</td>\n",
       "    </tr>\n",
       "    <tr>\n",
       "      <th>2014-01-08</th>\n",
       "      <td>-0.008566</td>\n",
       "      <td>-0.000095</td>\n",
       "      <td>-0.002623</td>\n",
       "    </tr>\n",
       "  </tbody>\n",
       "</table>\n",
       "</div>"
      ],
      "text/plain": [
       "                ANTM       SPY       EWJ\n",
       "date                                    \n",
       "2014-01-02 -0.011942 -0.005984 -0.011659\n",
       "2014-01-03  0.004855  0.000461  0.000584\n",
       "2014-01-06  0.008953  0.002594  0.002586\n",
       "2014-01-07 -0.011833 -0.004394 -0.004182\n",
       "2014-01-08 -0.008566 -0.000095 -0.002623"
      ]
     },
     "execution_count": 4,
     "metadata": {},
     "output_type": "execute_result"
    }
   ],
   "source": [
    "# Read CSV file from the resources folder into a Pandas DataFrame\n",
    "# Set the date as the DateTimeIndex\n",
    "equity_returns = pd.read_csv(\n",
    "    Path(\"../Resources/equity_algos.csv\"),\n",
    "    index_col = \"date\", \n",
    "    parse_dates = True, \n",
    "    infer_datetime_format = True\n",
    ")\n",
    "\n",
    "# Review the DataFrame\n",
    "equity_returns.head()"
   ]
  },
  {
   "cell_type": "code",
   "execution_count": 5,
   "metadata": {},
   "outputs": [
    {
     "data": {
      "text/html": [
       "<div>\n",
       "<style scoped>\n",
       "    .dataframe tbody tr th:only-of-type {\n",
       "        vertical-align: middle;\n",
       "    }\n",
       "\n",
       "    .dataframe tbody tr th {\n",
       "        vertical-align: top;\n",
       "    }\n",
       "\n",
       "    .dataframe thead th {\n",
       "        text-align: right;\n",
       "    }\n",
       "</style>\n",
       "<table border=\"1\" class=\"dataframe\">\n",
       "  <thead>\n",
       "    <tr style=\"text-align: right;\">\n",
       "      <th></th>\n",
       "      <th>ANTM</th>\n",
       "      <th>SPY</th>\n",
       "      <th>EWJ</th>\n",
       "    </tr>\n",
       "    <tr>\n",
       "      <th>date</th>\n",
       "      <th></th>\n",
       "      <th></th>\n",
       "      <th></th>\n",
       "    </tr>\n",
       "  </thead>\n",
       "  <tbody>\n",
       "    <tr>\n",
       "      <th>2014-01-02</th>\n",
       "      <td>1</td>\n",
       "      <td>1.0</td>\n",
       "      <td>1</td>\n",
       "    </tr>\n",
       "    <tr>\n",
       "      <th>2014-01-03</th>\n",
       "      <td>0</td>\n",
       "      <td>0.0</td>\n",
       "      <td>0</td>\n",
       "    </tr>\n",
       "    <tr>\n",
       "      <th>2014-01-06</th>\n",
       "      <td>0</td>\n",
       "      <td>0.0</td>\n",
       "      <td>0</td>\n",
       "    </tr>\n",
       "    <tr>\n",
       "      <th>2014-01-07</th>\n",
       "      <td>0</td>\n",
       "      <td>1.0</td>\n",
       "      <td>0</td>\n",
       "    </tr>\n",
       "    <tr>\n",
       "      <th>2014-01-08</th>\n",
       "      <td>1</td>\n",
       "      <td>0.0</td>\n",
       "      <td>1</td>\n",
       "    </tr>\n",
       "  </tbody>\n",
       "</table>\n",
       "</div>"
      ],
      "text/plain": [
       "            ANTM  SPY  EWJ\n",
       "date                      \n",
       "2014-01-02     1  1.0    1\n",
       "2014-01-03     0  0.0    0\n",
       "2014-01-06     0  0.0    0\n",
       "2014-01-07     0  1.0    0\n",
       "2014-01-08     1  0.0    1"
      ]
     },
     "execution_count": 5,
     "metadata": {},
     "output_type": "execute_result"
    }
   ],
   "source": [
    "# Read CSV file from the resources folder into a Pandas DataFrame\n",
    "# Set the date as the DateTimeIndex\n",
    "equity_trades = pd.read_csv(\n",
    "    Path(\"../Resources/equity_trades.csv\"),\n",
    "    index_col = \"date\", \n",
    "    parse_dates = True, \n",
    "    infer_datetime_format = True\n",
    ")\n",
    "\n",
    "# Review the DataFrame\n",
    "equity_trades.head()"
   ]
  },
  {
   "cell_type": "markdown",
   "metadata": {},
   "source": [
    "### Plotting Performance"
   ]
  },
  {
   "cell_type": "code",
   "execution_count": 6,
   "metadata": {},
   "outputs": [
    {
     "data": {
      "text/plain": [
       "<AxesSubplot:xlabel='date'>"
      ]
     },
     "execution_count": 6,
     "metadata": {},
     "output_type": "execute_result"
    },
    {
     "data": {
      "image/png": "[encoded data removed]",
      "text/plain": [
       "<Figure size 640x480 with 1 Axes>"
      ]
     },
     "metadata": {},
     "output_type": "display_data"
    }
   ],
   "source": [
    "# Plot non-compounded returns (`cumsum`) to the three option strategies.\n",
    "# YOUR CODE HERE!\n",
    "option_returns.cumsum().plot()"
   ]
  },
  {
   "cell_type": "code",
   "execution_count": 7,
   "metadata": {},
   "outputs": [
    {
     "data": {
      "text/plain": [
       "<AxesSubplot:xlabel='date'>"
      ]
     },
     "execution_count": 7,
     "metadata": {},
     "output_type": "execute_result"
    },
    {
     "data": {
      "image/png": "[encoded data removed]",
      "text/plain": [
       "<Figure size 640x480 with 1 Axes>"
      ]
     },
     "metadata": {},
     "output_type": "display_data"
    }
   ],
   "source": [
    "# Plot compounded returns (1+`cumprod`) to the three equity strategies.\n",
    "# YOUR CODE HERE!\n",
    "equity_returns.plot()"
   ]
  },
  {
   "cell_type": "markdown",
   "metadata": {},
   "source": [
    "### Adding Transaction Costs"
   ]
  },
  {
   "cell_type": "code",
   "execution_count": 8,
   "metadata": {},
   "outputs": [
    {
     "data": {
      "text/html": [
       "<div>\n",
       "<style scoped>\n",
       "    .dataframe tbody tr th:only-of-type {\n",
       "        vertical-align: middle;\n",
       "    }\n",
       "\n",
       "    .dataframe tbody tr th {\n",
       "        vertical-align: top;\n",
       "    }\n",
       "\n",
       "    .dataframe thead th {\n",
       "        text-align: right;\n",
       "    }\n",
       "</style>\n",
       "<table border=\"1\" class=\"dataframe\">\n",
       "  <thead>\n",
       "    <tr style=\"text-align: right;\">\n",
       "      <th></th>\n",
       "      <th>ANTM</th>\n",
       "      <th>SPY</th>\n",
       "      <th>EWJ</th>\n",
       "    </tr>\n",
       "    <tr>\n",
       "      <th>date</th>\n",
       "      <th></th>\n",
       "      <th></th>\n",
       "      <th></th>\n",
       "    </tr>\n",
       "  </thead>\n",
       "  <tbody>\n",
       "    <tr>\n",
       "      <th>2014-01-02</th>\n",
       "      <td>0.001</td>\n",
       "      <td>0.001</td>\n",
       "      <td>0.001</td>\n",
       "    </tr>\n",
       "    <tr>\n",
       "      <th>2014-01-03</th>\n",
       "      <td>0.000</td>\n",
       "      <td>0.000</td>\n",
       "      <td>0.000</td>\n",
       "    </tr>\n",
       "  </tbody>\n",
       "</table>\n",
       "</div>"
      ],
      "text/plain": [
       "             ANTM    SPY    EWJ\n",
       "date                           \n",
       "2014-01-02  0.001  0.001  0.001\n",
       "2014-01-03  0.000  0.000  0.000"
      ]
     },
     "execution_count": 8,
     "metadata": {},
     "output_type": "execute_result"
    }
   ],
   "source": [
    "# Create a variable called `cost_per_trade`, setting it at 0.001 (0.10% per trade).\n",
    "cost_per_trade = # YOUR CODE HERE!\n",
    "\n",
    "# Using the `equity_trades` DataFrame, calculate the daily trade costs \n",
    "# for each equity in the `equity_algos` DataFrame.\n",
    "daily_trade_costs_equity = # YOUR CODE HERE!"
   ]
  },
  {
   "cell_type": "code",
   "execution_count": 9,
   "metadata": {},
   "outputs": [
    {
     "data": {
      "text/html": [
       "<div>\n",
       "<style scoped>\n",
       "    .dataframe tbody tr th:only-of-type {\n",
       "        vertical-align: middle;\n",
       "    }\n",
       "\n",
       "    .dataframe tbody tr th {\n",
       "        vertical-align: top;\n",
       "    }\n",
       "\n",
       "    .dataframe thead th {\n",
       "        text-align: right;\n",
       "    }\n",
       "</style>\n",
       "<table border=\"1\" class=\"dataframe\">\n",
       "  <thead>\n",
       "    <tr style=\"text-align: right;\">\n",
       "      <th></th>\n",
       "      <th>ANTM</th>\n",
       "      <th>SPY</th>\n",
       "      <th>EWJ</th>\n",
       "    </tr>\n",
       "    <tr>\n",
       "      <th>date</th>\n",
       "      <th></th>\n",
       "      <th></th>\n",
       "      <th></th>\n",
       "    </tr>\n",
       "  </thead>\n",
       "  <tbody>\n",
       "    <tr>\n",
       "      <th>2014-01-02</th>\n",
       "      <td>-0.012942</td>\n",
       "      <td>-0.006984</td>\n",
       "      <td>-0.012659</td>\n",
       "    </tr>\n",
       "    <tr>\n",
       "      <th>2014-01-03</th>\n",
       "      <td>0.004855</td>\n",
       "      <td>0.000461</td>\n",
       "      <td>0.000584</td>\n",
       "    </tr>\n",
       "    <tr>\n",
       "      <th>2014-01-06</th>\n",
       "      <td>0.008953</td>\n",
       "      <td>0.002594</td>\n",
       "      <td>0.002586</td>\n",
       "    </tr>\n",
       "    <tr>\n",
       "      <th>2014-01-07</th>\n",
       "      <td>-0.011833</td>\n",
       "      <td>-0.005394</td>\n",
       "      <td>-0.004182</td>\n",
       "    </tr>\n",
       "    <tr>\n",
       "      <th>2014-01-08</th>\n",
       "      <td>-0.009566</td>\n",
       "      <td>-0.000095</td>\n",
       "      <td>-0.003623</td>\n",
       "    </tr>\n",
       "  </tbody>\n",
       "</table>\n",
       "</div>"
      ],
      "text/plain": [
       "                ANTM       SPY       EWJ\n",
       "date                                    \n",
       "2014-01-02 -0.012942 -0.006984 -0.012659\n",
       "2014-01-03  0.004855  0.000461  0.000584\n",
       "2014-01-06  0.008953  0.002594  0.002586\n",
       "2014-01-07 -0.011833 -0.005394 -0.004182\n",
       "2014-01-08 -0.009566 -0.000095 -0.003623"
      ]
     },
     "execution_count": 9,
     "metadata": {},
     "output_type": "execute_result"
    }
   ],
   "source": [
    "# Create a new DataFrame called `equity_returns_after_cost`\n",
    "# This should subtract daily trade costs from daily `equity_algos` returns.\n",
    "equity_returns_after_cost = # YOUR CODE HERE!\n",
    "equity_returns_after_cost.head()"
   ]
  },
  {
   "cell_type": "code",
   "execution_count": 10,
   "metadata": {},
   "outputs": [
    {
     "data": {
      "text/html": [
       "<div>\n",
       "<style scoped>\n",
       "    .dataframe tbody tr th:only-of-type {\n",
       "        vertical-align: middle;\n",
       "    }\n",
       "\n",
       "    .dataframe tbody tr th {\n",
       "        vertical-align: top;\n",
       "    }\n",
       "\n",
       "    .dataframe thead th {\n",
       "        text-align: right;\n",
       "    }\n",
       "</style>\n",
       "<table border=\"1\" class=\"dataframe\">\n",
       "  <thead>\n",
       "    <tr style=\"text-align: right;\">\n",
       "      <th></th>\n",
       "      <th>ANTM</th>\n",
       "      <th>SPY</th>\n",
       "      <th>EWJ</th>\n",
       "    </tr>\n",
       "    <tr>\n",
       "      <th>date</th>\n",
       "      <th></th>\n",
       "      <th></th>\n",
       "      <th></th>\n",
       "    </tr>\n",
       "  </thead>\n",
       "  <tbody>\n",
       "    <tr>\n",
       "      <th>2021-03-11</th>\n",
       "      <td>0.01</td>\n",
       "      <td>0.01</td>\n",
       "      <td>0.01</td>\n",
       "    </tr>\n",
       "    <tr>\n",
       "      <th>2021-03-12</th>\n",
       "      <td>0.00</td>\n",
       "      <td>0.00</td>\n",
       "      <td>0.00</td>\n",
       "    </tr>\n",
       "    <tr>\n",
       "      <th>2021-03-15</th>\n",
       "      <td>0.00</td>\n",
       "      <td>0.00</td>\n",
       "      <td>0.00</td>\n",
       "    </tr>\n",
       "    <tr>\n",
       "      <th>2021-03-16</th>\n",
       "      <td>0.00</td>\n",
       "      <td>0.00</td>\n",
       "      <td>0.00</td>\n",
       "    </tr>\n",
       "    <tr>\n",
       "      <th>2021-03-17</th>\n",
       "      <td>0.00</td>\n",
       "      <td>0.00</td>\n",
       "      <td>0.00</td>\n",
       "    </tr>\n",
       "    <tr>\n",
       "      <th>2021-03-18</th>\n",
       "      <td>0.00</td>\n",
       "      <td>0.00</td>\n",
       "      <td>0.00</td>\n",
       "    </tr>\n",
       "  </tbody>\n",
       "</table>\n",
       "</div>"
      ],
      "text/plain": [
       "            ANTM   SPY   EWJ\n",
       "date                        \n",
       "2021-03-11  0.01  0.01  0.01\n",
       "2021-03-12  0.00  0.00  0.00\n",
       "2021-03-15  0.00  0.00  0.00\n",
       "2021-03-16  0.00  0.00  0.00\n",
       "2021-03-17  0.00  0.00  0.00\n",
       "2021-03-18  0.00  0.00  0.00"
      ]
     },
     "execution_count": 10,
     "metadata": {},
     "output_type": "execute_result"
    }
   ],
   "source": [
    "# Create a new variable called cost_per_trade, this time setting it at 0.005 (0.50% per trade)\n",
    "cost_per_trade = # YOUR CODE HERE!\n",
    "# Calculate daily trade costs for options\n",
    "daily_trade_costs_options = # YOUR CODE HERE!\n",
    "daily_trade_costs_options.tail(6)"
   ]
  },
  {
   "cell_type": "code",
   "execution_count": 11,
   "metadata": {},
   "outputs": [
    {
     "data": {
      "text/html": [
       "<div>\n",
       "<style scoped>\n",
       "    .dataframe tbody tr th:only-of-type {\n",
       "        vertical-align: middle;\n",
       "    }\n",
       "\n",
       "    .dataframe tbody tr th {\n",
       "        vertical-align: top;\n",
       "    }\n",
       "\n",
       "    .dataframe thead th {\n",
       "        text-align: right;\n",
       "    }\n",
       "</style>\n",
       "<table border=\"1\" class=\"dataframe\">\n",
       "  <thead>\n",
       "    <tr style=\"text-align: right;\">\n",
       "      <th></th>\n",
       "      <th>ANTM</th>\n",
       "      <th>SPY</th>\n",
       "      <th>EWJ</th>\n",
       "    </tr>\n",
       "    <tr>\n",
       "      <th>date</th>\n",
       "      <th></th>\n",
       "      <th></th>\n",
       "      <th></th>\n",
       "    </tr>\n",
       "  </thead>\n",
       "  <tbody>\n",
       "    <tr>\n",
       "      <th>2014-01-02</th>\n",
       "      <td>-0.045557</td>\n",
       "      <td>0.027186</td>\n",
       "      <td>0.118055</td>\n",
       "    </tr>\n",
       "    <tr>\n",
       "      <th>2014-01-03</th>\n",
       "      <td>-0.009778</td>\n",
       "      <td>-0.023939</td>\n",
       "      <td>-0.082041</td>\n",
       "    </tr>\n",
       "    <tr>\n",
       "      <th>2014-01-06</th>\n",
       "      <td>-0.026384</td>\n",
       "      <td>-0.027252</td>\n",
       "      <td>0.047106</td>\n",
       "    </tr>\n",
       "    <tr>\n",
       "      <th>2014-01-07</th>\n",
       "      <td>0.003609</td>\n",
       "      <td>0.123126</td>\n",
       "      <td>-0.051264</td>\n",
       "    </tr>\n",
       "    <tr>\n",
       "      <th>2014-01-08</th>\n",
       "      <td>0.016776</td>\n",
       "      <td>-0.063629</td>\n",
       "      <td>-0.024076</td>\n",
       "    </tr>\n",
       "  </tbody>\n",
       "</table>\n",
       "</div>"
      ],
      "text/plain": [
       "                ANTM       SPY       EWJ\n",
       "date                                    \n",
       "2014-01-02 -0.045557  0.027186  0.118055\n",
       "2014-01-03 -0.009778 -0.023939 -0.082041\n",
       "2014-01-06 -0.026384 -0.027252  0.047106\n",
       "2014-01-07  0.003609  0.123126 -0.051264\n",
       "2014-01-08  0.016776 -0.063629 -0.024076"
      ]
     },
     "execution_count": 11,
     "metadata": {},
     "output_type": "execute_result"
    }
   ],
   "source": [
    "# Create a option_returns_after_cost DataFrame that calculates after cost option returns\n",
    "option_returns_after_cost = # YOUR CODE HERE!\n",
    "option_returns_after_cost.head()"
   ]
  },
  {
   "cell_type": "markdown",
   "metadata": {},
   "source": [
    "### Plot Performance After Transaction Costs"
   ]
  },
  {
   "cell_type": "code",
   "execution_count": 12,
   "metadata": {},
   "outputs": [
    {
     "data": {
      "text/plain": [
       "<AxesSubplot:xlabel='date'>"
      ]
     },
     "execution_count": 12,
     "metadata": {},
     "output_type": "execute_result"
    },
    {
     "data": {
      "image/png": "[encoded data removed]",
      "text/plain": [
       "<Figure size 432x288 with 1 Axes>"
      ]
     },
     "metadata": {
      "needs_background": "light"
     },
     "output_type": "display_data"
    }
   ],
   "source": [
    "# Plot cumulative performance of after costs equity returns\n",
    "# YOUR CODE HERE!"
   ]
  },
  {
   "cell_type": "code",
   "execution_count": 13,
   "metadata": {},
   "outputs": [
    {
     "data": {
      "text/plain": [
       "<AxesSubplot:xlabel='date'>"
      ]
     },
     "execution_count": 13,
     "metadata": {},
     "output_type": "execute_result"
    },
    {
     "data": {
      "image/png": "[encoded data removed]",
      "text/plain": [
       "<Figure size 432x288 with 1 Axes>"
      ]
     },
     "metadata": {
      "needs_background": "light"
     },
     "output_type": "display_data"
    }
   ],
   "source": [
    "# Plot total performance of the option returns\n",
    "# YOUR CODE HERE!"
   ]
  },
  {
   "cell_type": "markdown",
   "metadata": {},
   "source": [
    "### Calculate Sharpe Ratios\n",
    "\n",
    "Using the returns **after transaction costs**, calculate the Sharpe Ratio for each strategy.\n",
    "\n",
    "Calculate the Sharpes for both equity and option strategies. "
   ]
  },
  {
   "cell_type": "code",
   "execution_count": 14,
   "metadata": {},
   "outputs": [
    {
     "data": {
      "text/plain": [
       "ANTM    0.802410\n",
       "SPY     0.487163\n",
       "EWJ     0.052008\n",
       "dtype: float64"
      ]
     },
     "execution_count": 14,
     "metadata": {},
     "output_type": "execute_result"
    }
   ],
   "source": [
    "# Using the returns after transaction costs, calculate the Sharpe Ratio for each equity strategy\n",
    "# YOUR CODE HERE!"
   ]
  },
  {
   "cell_type": "code",
   "execution_count": 15,
   "metadata": {},
   "outputs": [
    {
     "data": {
      "text/plain": [
       "ANTM    0.686211\n",
       "SPY     1.146813\n",
       "EWJ     0.715246\n",
       "dtype: float64"
      ]
     },
     "execution_count": 15,
     "metadata": {},
     "output_type": "execute_result"
    }
   ],
   "source": [
    "# Using the returns after transaction costs, calculate the Sharpe Ratio for each option strategy\n",
    "# YOUR CODE HERE!"
   ]
  },
  {
   "cell_type": "markdown",
   "metadata": {},
   "source": [
    "### Calculate Weekly Returns"
   ]
  },
  {
   "cell_type": "code",
   "execution_count": 16,
   "metadata": {},
   "outputs": [
    {
     "data": {
      "text/html": [
       "<div>\n",
       "<style scoped>\n",
       "    .dataframe tbody tr th:only-of-type {\n",
       "        vertical-align: middle;\n",
       "    }\n",
       "\n",
       "    .dataframe tbody tr th {\n",
       "        vertical-align: top;\n",
       "    }\n",
       "\n",
       "    .dataframe thead th {\n",
       "        text-align: right;\n",
       "    }\n",
       "</style>\n",
       "<table border=\"1\" class=\"dataframe\">\n",
       "  <thead>\n",
       "    <tr style=\"text-align: right;\">\n",
       "      <th></th>\n",
       "      <th></th>\n",
       "      <th>ANTM</th>\n",
       "      <th>SPY</th>\n",
       "      <th>EWJ</th>\n",
       "    </tr>\n",
       "    <tr>\n",
       "      <th>year</th>\n",
       "      <th>week</th>\n",
       "      <th></th>\n",
       "      <th></th>\n",
       "      <th></th>\n",
       "    </tr>\n",
       "  </thead>\n",
       "  <tbody>\n",
       "    <tr>\n",
       "      <th rowspan=\"2\" valign=\"top\">2014</th>\n",
       "      <th>1</th>\n",
       "      <td>-0.008087</td>\n",
       "      <td>-0.006523</td>\n",
       "      <td>-0.012075</td>\n",
       "    </tr>\n",
       "    <tr>\n",
       "      <th>2</th>\n",
       "      <td>-0.009608</td>\n",
       "      <td>-0.001933</td>\n",
       "      <td>-0.016878</td>\n",
       "    </tr>\n",
       "  </tbody>\n",
       "</table>\n",
       "</div>"
      ],
      "text/plain": [
       "               ANTM       SPY       EWJ\n",
       "year week                              \n",
       "2014 1    -0.008087 -0.006523 -0.012075\n",
       "     2    -0.009608 -0.001933 -0.016878"
      ]
     },
     "execution_count": 16,
     "metadata": {},
     "output_type": "execute_result"
    }
   ],
   "source": [
    "# Use `groupby` to calculate total weekly equity returns\n",
    "weekly_returns = # YOUR CODE HERE!\n",
    "weekly_returns.head(2)"
   ]
  },
  {
   "cell_type": "code",
   "execution_count": 17,
   "metadata": {},
   "outputs": [
    {
     "data": {
      "text/html": [
       "<div>\n",
       "<style scoped>\n",
       "    .dataframe tbody tr th:only-of-type {\n",
       "        vertical-align: middle;\n",
       "    }\n",
       "\n",
       "    .dataframe tbody tr th {\n",
       "        vertical-align: top;\n",
       "    }\n",
       "\n",
       "    .dataframe thead th {\n",
       "        text-align: right;\n",
       "    }\n",
       "</style>\n",
       "<table border=\"1\" class=\"dataframe\">\n",
       "  <thead>\n",
       "    <tr style=\"text-align: right;\">\n",
       "      <th></th>\n",
       "      <th>ANTM</th>\n",
       "      <th>SPY</th>\n",
       "      <th>EWJ</th>\n",
       "    </tr>\n",
       "  </thead>\n",
       "  <tbody>\n",
       "    <tr>\n",
       "      <th>count</th>\n",
       "      <td>377.000000</td>\n",
       "      <td>377.000000</td>\n",
       "      <td>377.000000</td>\n",
       "    </tr>\n",
       "    <tr>\n",
       "      <th>mean</th>\n",
       "      <td>0.004072</td>\n",
       "      <td>0.001369</td>\n",
       "      <td>0.000162</td>\n",
       "    </tr>\n",
       "    <tr>\n",
       "      <th>std</th>\n",
       "      <td>0.035805</td>\n",
       "      <td>0.020892</td>\n",
       "      <td>0.022410</td>\n",
       "    </tr>\n",
       "    <tr>\n",
       "      <th>min</th>\n",
       "      <td>-0.107364</td>\n",
       "      <td>-0.083146</td>\n",
       "      <td>-0.083029</td>\n",
       "    </tr>\n",
       "    <tr>\n",
       "      <th>25%</th>\n",
       "      <td>-0.013876</td>\n",
       "      <td>-0.009199</td>\n",
       "      <td>-0.013135</td>\n",
       "    </tr>\n",
       "    <tr>\n",
       "      <th>50%</th>\n",
       "      <td>0.001735</td>\n",
       "      <td>0.000059</td>\n",
       "      <td>-0.001190</td>\n",
       "    </tr>\n",
       "    <tr>\n",
       "      <th>75%</th>\n",
       "      <td>0.021308</td>\n",
       "      <td>0.011252</td>\n",
       "      <td>0.011057</td>\n",
       "    </tr>\n",
       "    <tr>\n",
       "      <th>max</th>\n",
       "      <td>0.241821</td>\n",
       "      <td>0.135955</td>\n",
       "      <td>0.136079</td>\n",
       "    </tr>\n",
       "  </tbody>\n",
       "</table>\n",
       "</div>"
      ],
      "text/plain": [
       "             ANTM         SPY         EWJ\n",
       "count  377.000000  377.000000  377.000000\n",
       "mean     0.004072    0.001369    0.000162\n",
       "std      0.035805    0.020892    0.022410\n",
       "min     -0.107364   -0.083146   -0.083029\n",
       "25%     -0.013876   -0.009199   -0.013135\n",
       "50%      0.001735    0.000059   -0.001190\n",
       "75%      0.021308    0.011252    0.011057\n",
       "max      0.241821    0.135955    0.136079"
      ]
     },
     "execution_count": 17,
     "metadata": {},
     "output_type": "execute_result"
    }
   ],
   "source": [
    "# Use `describe` to calculate the best and worst weeks for equity returns.\n",
    "# YOUR CODE HERE!"
   ]
  },
  {
   "cell_type": "code",
   "execution_count": 18,
   "metadata": {},
   "outputs": [
    {
     "data": {
      "text/html": [
       "<div>\n",
       "<style scoped>\n",
       "    .dataframe tbody tr th:only-of-type {\n",
       "        vertical-align: middle;\n",
       "    }\n",
       "\n",
       "    .dataframe tbody tr th {\n",
       "        vertical-align: top;\n",
       "    }\n",
       "\n",
       "    .dataframe thead th {\n",
       "        text-align: right;\n",
       "    }\n",
       "</style>\n",
       "<table border=\"1\" class=\"dataframe\">\n",
       "  <thead>\n",
       "    <tr style=\"text-align: right;\">\n",
       "      <th></th>\n",
       "      <th></th>\n",
       "      <th>ANTM</th>\n",
       "      <th>SPY</th>\n",
       "      <th>EWJ</th>\n",
       "    </tr>\n",
       "    <tr>\n",
       "      <th>year</th>\n",
       "      <th>week</th>\n",
       "      <th></th>\n",
       "      <th></th>\n",
       "      <th></th>\n",
       "    </tr>\n",
       "  </thead>\n",
       "  <tbody>\n",
       "    <tr>\n",
       "      <th rowspan=\"2\" valign=\"top\">2014</th>\n",
       "      <th>1</th>\n",
       "      <td>-0.055335</td>\n",
       "      <td>0.003246</td>\n",
       "      <td>0.036014</td>\n",
       "    </tr>\n",
       "    <tr>\n",
       "      <th>2</th>\n",
       "      <td>-0.017401</td>\n",
       "      <td>0.505180</td>\n",
       "      <td>-0.079912</td>\n",
       "    </tr>\n",
       "  </tbody>\n",
       "</table>\n",
       "</div>"
      ],
      "text/plain": [
       "               ANTM       SPY       EWJ\n",
       "year week                              \n",
       "2014 1    -0.055335  0.003246  0.036014\n",
       "     2    -0.017401  0.505180 -0.079912"
      ]
     },
     "execution_count": 18,
     "metadata": {},
     "output_type": "execute_result"
    }
   ],
   "source": [
    "# Calculate weekly returns for the option strategies using groupby\n",
    "weekly_returns = # YOUR CODE HERE!\n",
    "weekly_returns.head(2)"
   ]
  },
  {
   "cell_type": "code",
   "execution_count": 19,
   "metadata": {},
   "outputs": [
    {
     "data": {
      "text/html": [
       "<div>\n",
       "<style scoped>\n",
       "    .dataframe tbody tr th:only-of-type {\n",
       "        vertical-align: middle;\n",
       "    }\n",
       "\n",
       "    .dataframe tbody tr th {\n",
       "        vertical-align: top;\n",
       "    }\n",
       "\n",
       "    .dataframe thead th {\n",
       "        text-align: right;\n",
       "    }\n",
       "</style>\n",
       "<table border=\"1\" class=\"dataframe\">\n",
       "  <thead>\n",
       "    <tr style=\"text-align: right;\">\n",
       "      <th></th>\n",
       "      <th>ANTM</th>\n",
       "      <th>SPY</th>\n",
       "      <th>EWJ</th>\n",
       "    </tr>\n",
       "  </thead>\n",
       "  <tbody>\n",
       "    <tr>\n",
       "      <th>count</th>\n",
       "      <td>377.000000</td>\n",
       "      <td>377.000000</td>\n",
       "      <td>377.000000</td>\n",
       "    </tr>\n",
       "    <tr>\n",
       "      <th>mean</th>\n",
       "      <td>0.013165</td>\n",
       "      <td>0.048547</td>\n",
       "      <td>0.037144</td>\n",
       "    </tr>\n",
       "    <tr>\n",
       "      <th>std</th>\n",
       "      <td>0.142377</td>\n",
       "      <td>0.258637</td>\n",
       "      <td>0.383188</td>\n",
       "    </tr>\n",
       "    <tr>\n",
       "      <th>min</th>\n",
       "      <td>-0.682878</td>\n",
       "      <td>-1.922320</td>\n",
       "      <td>-2.799901</td>\n",
       "    </tr>\n",
       "    <tr>\n",
       "      <th>25%</th>\n",
       "      <td>-0.054904</td>\n",
       "      <td>-0.079494</td>\n",
       "      <td>-0.045421</td>\n",
       "    </tr>\n",
       "    <tr>\n",
       "      <th>50%</th>\n",
       "      <td>0.010618</td>\n",
       "      <td>0.045278</td>\n",
       "      <td>0.022484</td>\n",
       "    </tr>\n",
       "    <tr>\n",
       "      <th>75%</th>\n",
       "      <td>0.072856</td>\n",
       "      <td>0.164915</td>\n",
       "      <td>0.091215</td>\n",
       "    </tr>\n",
       "    <tr>\n",
       "      <th>max</th>\n",
       "      <td>0.917726</td>\n",
       "      <td>1.473292</td>\n",
       "      <td>5.295924</td>\n",
       "    </tr>\n",
       "  </tbody>\n",
       "</table>\n",
       "</div>"
      ],
      "text/plain": [
       "             ANTM         SPY         EWJ\n",
       "count  377.000000  377.000000  377.000000\n",
       "mean     0.013165    0.048547    0.037144\n",
       "std      0.142377    0.258637    0.383188\n",
       "min     -0.682878   -1.922320   -2.799901\n",
       "25%     -0.054904   -0.079494   -0.045421\n",
       "50%      0.010618    0.045278    0.022484\n",
       "75%      0.072856    0.164915    0.091215\n",
       "max      0.917726    1.473292    5.295924"
      ]
     },
     "execution_count": 19,
     "metadata": {},
     "output_type": "execute_result"
    }
   ],
   "source": [
    "# Use `describe` to calculate best (max) and worst (min) case option returns\n",
    "# YOUR CODE HERE!"
   ]
  }
 ],
 "metadata": {
  "kernelspec": {
   "display_name": "algo",
   "language": "python",
   "name": "python3"
  },
  "language_info": {
   "codemirror_mode": {
    "name": "ipython",
    "version": 3
   },
   "file_extension": ".py",
   "mimetype": "text/x-python",
   "name": "python",
   "nbconvert_exporter": "python",
   "pygments_lexer": "ipython3",
   "version": "3.7.15"
  },
  "vscode": {
   "interpreter": {
    "hash": "5a78eb17476968a282e1e419d11473d03c233aa3ff15faeee86f32a4163894f6"
   }
  }
 },
 "nbformat": 4,
 "nbformat_minor": 4
}
