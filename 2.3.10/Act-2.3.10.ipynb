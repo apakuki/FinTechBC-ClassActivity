{
 "cells": [
  {
   "cell_type": "code",
   "execution_count": 2,
   "id": "b81fd628-ce0e-421b-b64d-0ac8f8282d95",
   "metadata": {},
   "outputs": [
    {
     "ename": "TypeError",
     "evalue": "'module' object is not callable",
     "output_type": "error",
     "traceback": [
      "\u001b[0;31m---------------------------------------------------------------------------\u001b[0m",
      "\u001b[0;31mTypeError\u001b[0m                                 Traceback (most recent call last)",
      "\u001b[1;32m/Users/kuki/Documents/dev/FinTech_Bootcamp/FinTechBC-ClassActivity/2.3.10/Act-2.3.10.ipynb Cell 1\u001b[0m in \u001b[0;36m<cell line: 16>\u001b[0;34m()\u001b[0m\n\u001b[1;32m     <a href='vscode-notebook-cell:/Users/kuki/Documents/dev/FinTech_Bootcamp/FinTechBC-ClassActivity/2.3.10/Act-2.3.10.ipynb#ch0000000?line=11'>12</a>\u001b[0m \u001b[39mimport\u001b[39;00m \u001b[39mcsv\u001b[39;00m\n\u001b[1;32m     <a href='vscode-notebook-cell:/Users/kuki/Documents/dev/FinTech_Bootcamp/FinTechBC-ClassActivity/2.3.10/Act-2.3.10.ipynb#ch0000000?line=13'>14</a>\u001b[0m \u001b[39m# @TODO: Set the file path\u001b[39;00m\n\u001b[0;32m---> <a href='vscode-notebook-cell:/Users/kuki/Documents/dev/FinTech_Bootcamp/FinTechBC-ClassActivity/2.3.10/Act-2.3.10.ipynb#ch0000000?line=15'>16</a>\u001b[0m csvpath \u001b[39m=\u001b[39m Path(\u001b[39m\"\u001b[39;49m\u001b[39m./Resources/sales.csv\u001b[39;49m\u001b[39m\"\u001b[39;49m)\n\u001b[1;32m     <a href='vscode-notebook-cell:/Users/kuki/Documents/dev/FinTech_Bootcamp/FinTechBC-ClassActivity/2.3.10/Act-2.3.10.ipynb#ch0000000?line=16'>17</a>\u001b[0m \u001b[39m#csvpath = Path('../Resources/accounting.csv')\u001b[39;00m\n\u001b[1;32m     <a href='vscode-notebook-cell:/Users/kuki/Documents/dev/FinTech_Bootcamp/FinTechBC-ClassActivity/2.3.10/Act-2.3.10.ipynb#ch0000000?line=17'>18</a>\u001b[0m \n\u001b[1;32m     <a href='vscode-notebook-cell:/Users/kuki/Documents/dev/FinTech_Bootcamp/FinTechBC-ClassActivity/2.3.10/Act-2.3.10.ipynb#ch0000000?line=18'>19</a>\u001b[0m \n\u001b[1;32m     <a href='vscode-notebook-cell:/Users/kuki/Documents/dev/FinTech_Bootcamp/FinTechBC-ClassActivity/2.3.10/Act-2.3.10.ipynb#ch0000000?line=19'>20</a>\u001b[0m \n\u001b[1;32m     <a href='vscode-notebook-cell:/Users/kuki/Documents/dev/FinTech_Bootcamp/FinTechBC-ClassActivity/2.3.10/Act-2.3.10.ipynb#ch0000000?line=20'>21</a>\u001b[0m \u001b[39m# Initialize list of records\u001b[39;00m\n\u001b[1;32m     <a href='vscode-notebook-cell:/Users/kuki/Documents/dev/FinTech_Bootcamp/FinTechBC-ClassActivity/2.3.10/Act-2.3.10.ipynb#ch0000000?line=21'>22</a>\u001b[0m records \u001b[39m=\u001b[39m []\n",
      "\u001b[0;31mTypeError\u001b[0m: 'module' object is not callable"
     ]
    }
   ],
   "source": [
    "# -*- coding: utf-8 -*-\n",
    "\"\"\"Student Do: Sales Analysis.\n",
    "\n",
    "This script will use the Pathlib library to set the file path,\n",
    "use the csv library to read in the file, and iterate over each\n",
    "row of the file to calculate customer sales averages.\n",
    "\"\"\"\n",
    "\n",
    "# @TODO: Import the pathlib and csv library\n",
    "\n",
    "import pathlib as Path\n",
    "import csv\n",
    "\n",
    "# @TODO: Set the file path\n",
    "\n",
    "csvpath = Path(\"./Resources/sales.csv\")\n",
    "#csvpath = Path('../Resources/accounting.csv')\n",
    "\n",
    "\n",
    "\n",
    "# Initialize list of records\n",
    "records = []\n",
    "\n",
    "# @TODO: Open the csv file as an object\n",
    "\n",
    "with open (csvpath, 'r') as csvfile: \n",
    "    \n",
    "    print(type(csvfile))\n",
    "    \n",
    "    # @TODO:\n",
    "    # Pass in the csv file to the csv.reader() function\n",
    "    # (with ',' as the delmiter/separator) and return the csvreader object\n",
    "\n",
    "    # @TODO: Read the header row\n",
    "\n",
    "    # @TODO: Print the header\n",
    "\n",
    "\n",
    "    # @TODO: Append the column 'Average' to the header\n",
    "\n",
    "    # @TODO: Append the header to the list of records\n",
    "\n",
    "\n",
    "    # @TODO: Read each row of data after the header\n",
    "\n",
    "        # @TODO: Print the row\n",
    "\n",
    "        # @TODO:\n",
    "        # Set the 'name', 'count', 'revenue' variables for better\n",
    "        # readability, convert strings to ints for numerical calculations\n",
    "\n",
    "\n",
    "\n",
    "\n",
    "        # @TODO: Calculate the average (round to the nearest 2 decimal places)\n",
    "\n",
    "\n",
    "        # @TODO: Append the average to the row\n",
    "\n",
    "        # @TODO: Append the row to the list of records\n",
    "\n",
    "\n",
    "# @TODO: Set the path for the output.csv\n",
    "\n",
    "# @TODO:\n",
    "# Open the output path as a file and pass into the 'csv.writer()' function\n",
    "# Set the delimiter/separater as a ','\n",
    "\n",
    "\n",
    "    # @TODO:\n",
    "    # Loop through the list of records and write every record to the\n",
    "    # output csv file\n"
   ]
  },
  {
   "cell_type": "code",
   "execution_count": null,
   "id": "f8c8309b-c341-4457-a739-8358f1ffe80e",
   "metadata": {},
   "outputs": [],
   "source": []
  }
 ],
 "metadata": {
  "kernelspec": {
   "display_name": "Python 3.9.12 ('base')",
   "language": "python",
   "name": "python3"
  },
  "language_info": {
   "codemirror_mode": {
    "name": "ipython",
    "version": 3
   },
   "file_extension": ".py",
   "mimetype": "text/x-python",
   "name": "python",
   "nbconvert_exporter": "python",
   "pygments_lexer": "ipython3",
   "version": "3.9.12"
  },
  "vscode": {
   "interpreter": {
    "hash": "c456f17b63525dd1fcde487470240e1db655d3530ed545682dd82e8dd325ec4c"
   }
  }
 },
 "nbformat": 4,
 "nbformat_minor": 5
}
