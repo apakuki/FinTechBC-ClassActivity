{
 "cells": [
  {
   "cell_type": "code",
   "execution_count": 7,
   "id": "b81fd628-ce0e-421b-b64d-0ac8f8282d95",
   "metadata": {},
   "outputs": [
    {
     "ename": "TypeError",
     "evalue": "'module' object is not callable",
     "output_type": "error",
     "traceback": [
      "\u001b[0;31m---------------------------------------------------------------------------\u001b[0m",
      "\u001b[0;31mTypeError\u001b[0m                                 Traceback (most recent call last)",
      "Input \u001b[0;32mIn [7]\u001b[0m, in \u001b[0;36m<cell line: 16>\u001b[0;34m()\u001b[0m\n\u001b[1;32m     12\u001b[0m \u001b[38;5;28;01mimport\u001b[39;00m \u001b[38;5;21;01mcsv\u001b[39;00m\n\u001b[1;32m     14\u001b[0m \u001b[38;5;66;03m# @TODO: Set the file path\u001b[39;00m\n\u001b[0;32m---> 16\u001b[0m csvpath \u001b[38;5;241m=\u001b[39m \u001b[43mPath\u001b[49m\u001b[43m(\u001b[49m\u001b[38;5;124;43m'\u001b[39;49m\u001b[38;5;124;43m../Resources/sales.csv\u001b[39;49m\u001b[38;5;124;43m'\u001b[39;49m\u001b[43m)\u001b[49m\n\u001b[1;32m     17\u001b[0m \u001b[38;5;66;03m#csvpath = Path('../Resources/accounting.csv')\u001b[39;00m\n\u001b[1;32m     18\u001b[0m \n\u001b[1;32m     19\u001b[0m \n\u001b[1;32m     20\u001b[0m \n\u001b[1;32m     21\u001b[0m \u001b[38;5;66;03m# Initialize list of records\u001b[39;00m\n\u001b[1;32m     22\u001b[0m records \u001b[38;5;241m=\u001b[39m []\n",
      "\u001b[0;31mTypeError\u001b[0m: 'module' object is not callable"
     ]
    }
   ],
   "source": [
    "# -*- coding: utf-8 -*-\n",
    "\"\"\"Student Do: Sales Analysis.\n",
    "\n",
    "This script will use the Pathlib library to set the file path,\n",
    "use the csv library to read in the file, and iterate over each\n",
    "row of the file to calculate customer sales averages.\n",
    "\"\"\"\n",
    "\n",
    "# @TODO: Import the pathlib and csv library\n",
    "\n",
    "import pathlib as Path\n",
    "import csv\n",
    "\n",
    "# @TODO: Set the file path\n",
    "\n",
    "csvpath = Path('Resources/sales.csv')\n",
    "#csvpath = Path('../Resources/accounting.csv')\n",
    "\n",
    "\n",
    "\n",
    "# Initialize list of records\n",
    "records = []\n",
    "\n",
    "# @TODO: Open the csv file as an object\n",
    "\n",
    "with open (csvpath, 'r') as csvfile: \n",
    "    \n",
    "    print(type(csvfile))\n",
    "    \n",
    "    # @TODO:\n",
    "    # Pass in the csv file to the csv.reader() function\n",
    "    # (with ',' as the delmiter/separator) and return the csvreader object\n",
    "\n",
    "    # @TODO: Read the header row\n",
    "\n",
    "    # @TODO: Print the header\n",
    "\n",
    "\n",
    "    # @TODO: Append the column 'Average' to the header\n",
    "\n",
    "    # @TODO: Append the header to the list of records\n",
    "\n",
    "\n",
    "    # @TODO: Read each row of data after the header\n",
    "\n",
    "        # @TODO: Print the row\n",
    "\n",
    "        # @TODO:\n",
    "        # Set the 'name', 'count', 'revenue' variables for better\n",
    "        # readability, convert strings to ints for numerical calculations\n",
    "\n",
    "\n",
    "\n",
    "\n",
    "        # @TODO: Calculate the average (round to the nearest 2 decimal places)\n",
    "\n",
    "\n",
    "        # @TODO: Append the average to the row\n",
    "\n",
    "        # @TODO: Append the row to the list of records\n",
    "\n",
    "\n",
    "# @TODO: Set the path for the output.csv\n",
    "\n",
    "# @TODO:\n",
    "# Open the output path as a file and pass into the 'csv.writer()' function\n",
    "# Set the delimiter/separater as a ','\n",
    "\n",
    "\n",
    "    # @TODO:\n",
    "    # Loop through the list of records and write every record to the\n",
    "    # output csv file\n"
   ]
  },
  {
   "cell_type": "code",
   "execution_count": null,
   "id": "f8c8309b-c341-4457-a739-8358f1ffe80e",
   "metadata": {},
   "outputs": [],
   "source": []
  }
 ],
 "metadata": {
  "kernelspec": {
   "display_name": "Python 3 (ipykernel)",
   "language": "python",
   "name": "python3"
  },
  "language_info": {
   "codemirror_mode": {
    "name": "ipython",
    "version": 3
   },
   "file_extension": ".py",
   "mimetype": "text/x-python",
   "name": "python",
   "nbconvert_exporter": "python",
   "pygments_lexer": "ipython3",
   "version": "3.9.12"
  }
 },
 "nbformat": 4,
 "nbformat_minor": 5
}
