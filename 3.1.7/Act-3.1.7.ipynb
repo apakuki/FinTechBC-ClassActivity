{
 "cells": [
  {
   "cell_type": "code",
   "execution_count": null,
   "metadata": {},
   "outputs": [],
   "source": [
    "# Create a list, `list_1`,  with `0`, `1`, `2`, `3` as values.\n",
    "\n",
    "\n",
    "# Create a list, `list_2` with `4`, `5`, `6`, `7` as values.\n",
    "\n",
    "\n",
    "# Create a list, `list_3` with `8`, `9`, `10`, `11` as values.\n",
    "\n",
    "\n",
    "# Create a list, `list_4` with `12`, `13`, `14`, `15` as values.\n",
    "\n",
    "\n",
    "# Print the 3rd index of `list_1`.\n",
    "\n",
    "\n",
    "# Print the 1st index of `list_2`.\n",
    "\n",
    "\n",
    "# Print the 2nd index of `list_3`.\n",
    "\n",
    "\n",
    "# Print the 4th index of `list_4`.\n",
    "\n",
    "\n"
   ]
  }
 ],
 "metadata": {
  "language_info": {
   "name": "python"
  },
  "orig_nbformat": 4
 },
 "nbformat": 4,
 "nbformat_minor": 2
}
