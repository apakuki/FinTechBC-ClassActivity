{
 "cells": [
  {
   "cell_type": "code",
   "execution_count": 1,
   "metadata": {},
   "outputs": [],
   "source": [
    "import requests"
   ]
  },
  {
   "cell_type": "code",
   "execution_count": 2,
   "metadata": {},
   "outputs": [],
   "source": [
    "# Create variable to hold request url\n",
    "url = \"http://api.worldbank.org/v2/country/us/indicator/NY.GDP.MKTP.CD\"\n",
    "current_bitcoin_price_url = \"https://api.coindesk.com/v1/bpi/currentprice.json\""
   ]
  },
  {
   "cell_type": "code",
   "execution_count": 3,
   "metadata": {},
   "outputs": [],
   "source": [
    "# Add format specifier to request url\n",
    "url = url + \"?format=json\"\n",
    "current_bitcoin_price_url = current_bitcoin_price_url + \"?format=json\""
   ]
  },
  {
   "cell_type": "markdown",
   "metadata": {},
   "source": [
    "### Execute GET request with URL"
   ]
  },
  {
   "cell_type": "code",
   "execution_count": 8,
   "metadata": {},
   "outputs": [
    {
     "data": {
      "text/plain": [
       "<Response [200]>"
      ]
     },
     "execution_count": 8,
     "metadata": {},
     "output_type": "execute_result"
    }
   ],
   "source": [
    "# Execute get request\n",
    "requests.get(url)\n",
    "requests.get(current_bitcoin_price_url)"
   ]
  },
  {
   "cell_type": "markdown",
   "metadata": {},
   "source": [
    "### Store response as variable"
   ]
  },
  {
   "cell_type": "code",
   "execution_count": 9,
   "metadata": {},
   "outputs": [],
   "source": [
    "# Execute GET request and store response\n",
    "response_data = requests.get(url)\n",
    "cbp_response_data = requests.get(current_bitcoin_price_url)"
   ]
  },
  {
   "cell_type": "markdown",
   "metadata": {},
   "source": [
    "### Retrieve API output using `content` attribute"
   ]
  },
  {
   "cell_type": "code",
   "execution_count": 11,
   "metadata": {},
   "outputs": [
    {
     "name": "stdout",
     "output_type": "stream",
     "text": [
      "b'{\"time\":{\"updated\":\"Oct 4, 2022 09:27:00 UTC\",\"updatedISO\":\"2022-10-04T09:27:00+00:00\",\"updateduk\":\"Oct 4, 2022 at 10:27 BST\"},\"disclaimer\":\"This data was produced from the CoinDesk Bitcoin Price Index (USD). Non-USD currency data converted using hourly conversion rate from openexchangerates.org\",\"chartName\":\"Bitcoin\",\"bpi\":{\"USD\":{\"code\":\"USD\",\"symbol\":\"&#36;\",\"rate\":\"19,906.4047\",\"description\":\"United States Dollar\",\"rate_float\":19906.4047},\"GBP\":{\"code\":\"GBP\",\"symbol\":\"&pound;\",\"rate\":\"16,633.6325\",\"description\":\"British Pound Sterling\",\"rate_float\":16633.6325},\"EUR\":{\"code\":\"EUR\",\"symbol\":\"&euro;\",\"rate\":\"19,391.7445\",\"description\":\"Euro\",\"rate_float\":19391.7445}}}'\n"
     ]
    }
   ],
   "source": [
    "# Get content\n",
    "response_content = response_data.content\n",
    "cbp_response_content = cbp_response_data.content\n",
    "#print(response_content)\n",
    "print(cbp_response_content)\n"
   ]
  },
  {
   "cell_type": "markdown",
   "metadata": {},
   "source": [
    "### Use `json` function from `json` library to format"
   ]
  },
  {
   "cell_type": "code",
   "execution_count": 12,
   "metadata": {},
   "outputs": [],
   "source": [
    "import json\n",
    "\n",
    "# Formatting as json\n",
    "data = response_data.json()\n",
    "cbp_data = cbp_response_data.json()\n"
   ]
  },
  {
   "cell_type": "markdown",
   "metadata": {},
   "source": [
    "### Format JSON with indents"
   ]
  },
  {
   "cell_type": "code",
   "execution_count": 13,
   "metadata": {},
   "outputs": [
    {
     "name": "stdout",
     "output_type": "stream",
     "text": [
      "{\n",
      "    \"time\": {\n",
      "        \"updated\": \"Oct 4, 2022 09:27:00 UTC\",\n",
      "        \"updatedISO\": \"2022-10-04T09:27:00+00:00\",\n",
      "        \"updateduk\": \"Oct 4, 2022 at 10:27 BST\"\n",
      "    },\n",
      "    \"disclaimer\": \"This data was produced from the CoinDesk Bitcoin Price Index (USD). Non-USD currency data converted using hourly conversion rate from openexchangerates.org\",\n",
      "    \"chartName\": \"Bitcoin\",\n",
      "    \"bpi\": {\n",
      "        \"USD\": {\n",
      "            \"code\": \"USD\",\n",
      "            \"symbol\": \"&#36;\",\n",
      "            \"rate\": \"19,906.4047\",\n",
      "            \"description\": \"United States Dollar\",\n",
      "            \"rate_float\": 19906.4047\n",
      "        },\n",
      "        \"GBP\": {\n",
      "            \"code\": \"GBP\",\n",
      "            \"symbol\": \"&pound;\",\n",
      "            \"rate\": \"16,633.6325\",\n",
      "            \"description\": \"British Pound Sterling\",\n",
      "            \"rate_float\": 16633.6325\n",
      "        },\n",
      "        \"EUR\": {\n",
      "            \"code\": \"EUR\",\n",
      "            \"symbol\": \"&euro;\",\n",
      "            \"rate\": \"19,391.7445\",\n",
      "            \"description\": \"Euro\",\n",
      "            \"rate_float\": 19391.7445\n",
      "        }\n",
      "    }\n",
      "}\n"
     ]
    }
   ],
   "source": [
    "# Add indents to JSON and output to screen\n",
    "#print(json.dumps(data, indent=4))\n",
    "print(json.dumps(cbp_data, indent=4))"
   ]
  },
  {
   "cell_type": "markdown",
   "metadata": {},
   "source": [
    "### Identify country and GDP value second row"
   ]
  },
  {
   "cell_type": "code",
   "execution_count": 15,
   "metadata": {},
   "outputs": [
    {
     "name": "stdout",
     "output_type": "stream",
     "text": [
      "The current price of Bitcoin in USD is $19,906.4047\n"
     ]
    }
   ],
   "source": [
    "# Select country and GDP value for second row\n",
    "country = data[1][1]['country']['value']\n",
    "gdp_value = data[1][1]['value']\n",
    "\n",
    "#print(\"Country: \" + country)\n",
    "#print(\"GDP Value: \" + str(gdp_value))\n",
    "\n",
    "cbp_USD = cbp_data[\"bpi\"][\"USD\"][\"rate\"]\n",
    "print(\"The current price of Bitcoin in USD is $\" + cbp_USD)"
   ]
  }
 ],
 "metadata": {
  "kernelspec": {
   "display_name": "Python 3.9.12 ('base')",
   "language": "python",
   "name": "python3"
  },
  "language_info": {
   "codemirror_mode": {
    "name": "ipython",
    "version": 3
   },
   "file_extension": ".py",
   "mimetype": "text/x-python",
   "name": "python",
   "nbconvert_exporter": "python",
   "pygments_lexer": "ipython3",
   "version": "3.9.12"
  },
  "vscode": {
   "interpreter": {
    "hash": "d4d68224527b6b9d9ea572ebc6ad527e87508523c6b7ee66fd189961f97d3b40"
   }
  }
 },
 "nbformat": 4,
 "nbformat_minor": 2
}
