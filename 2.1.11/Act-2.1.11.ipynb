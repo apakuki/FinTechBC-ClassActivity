{
 "cells": [
  {
   "cell_type": "code",
   "execution_count": null,
   "id": "56baba08-bc99-46df-ad33-cc105e9bc2b2",
   "metadata": {},
   "outputs": [],
   "source": [
    "\n",
    "# Calculate percent increase or decrease in stock price for Netflix.\n",
    "\n",
    "# Identify a viable percent increase/decrease that will indicate buy or sell action. Assume a 20% increase or decrease in stock price should warrant buy or sell action.\n",
    "\n",
    "# Use conditional statements to determine whether or not a stock should be purchased or sold:\n",
    "#\n",
    "#  Increase = Current Price - Original Price\n",
    "#\n",
    "# Percent Increase = Increase / Original x 100\n",
    "\n",
    "\n",
    "1. Initialize \"current_price\" and \"original_price\" to float\n",
    "2. Calcualate \"increase\" which is \"current_price\" minus \"original_price\" \n",
    "3. Calculate \"percent_increase\" which is \"increase\" divided by \"original_price\" multiplied by 100%\n",
    "\n",
    "4. If \"percent_increase\" is more than 20% then buy the stock\n",
    "5. \n",
    "6. If \"percent_increase\" is less than 20% then sell the stock.\n",
    "\n",
    "\n",
    "\n",
    "## Instructions\n",
    "\n",
    "Using the [starter file](Unsolved/conditionally_yours_part_1.py), complete the following steps:\n",
    "\n",
    "1. Pseudocode variable declaration.\n",
    "\n",
    "2. Pseudocode `percent_increase` calculation.\n",
    "\n",
    "3. Pseudocode `if-else` logic to determine the buy or sell recommendation.\n",
    "\n",
    "## Hint\n",
    "\n",
    "Start by writing the logic out in plain language. Then, refine it into pseudocode.\n",
    "\n",
    "---\n",
    "\n",
    " © 2020 Trilogy Education Services, a 2U, Inc. brand. All Rights Reserved.\n"
   ]
  }
 ],
 "metadata": {
  "kernelspec": {
   "display_name": "Python 3 (ipykernel)",
   "language": "python",
   "name": "python3"
  },
  "language_info": {
   "codemirror_mode": {
    "name": "ipython",
    "version": 3
   },
   "file_extension": ".py",
   "mimetype": "text/x-python",
   "name": "python",
   "nbconvert_exporter": "python",
   "pygments_lexer": "ipython3",
   "version": "3.9.12"
  }
 },
 "nbformat": 4,
 "nbformat_minor": 5
}
