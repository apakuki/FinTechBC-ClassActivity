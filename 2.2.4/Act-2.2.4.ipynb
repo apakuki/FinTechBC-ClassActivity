{
 "cells": [
  {
   "cell_type": "code",
   "execution_count": 9,
   "id": "aca42c78-75b4-4cec-aa36-86df5f814b14",
   "metadata": {},
   "outputs": [
    {
     "name": "stdout",
     "output_type": "stream",
     "text": [
      "613\n",
      "-650\n",
      "profitable_days: 13\n",
      "unprofitable_days: 7\n"
     ]
    }
   ],
   "source": [
    "# -*- coding: utf-8 -*-\n",
    "\"\"\"\n",
    "Student Do: Trading Log.\n",
    "\n",
    "This script demonstrates how to perform basic analysis of trading profits/losses\n",
    "over the course of a month (20 business days).\n",
    "\"\"\"\n",
    "\n",
    "# @TODO: Initialize the metric variables\n",
    "\n",
    "trading_days = 0\n",
    "trading_pnl_total = 0\n",
    "average = 0\n",
    "maximum = 0\n",
    "minimum = 0\n",
    "profitable_days = 0\n",
    "unprofitable_days = 0\n",
    "\n",
    "\n",
    "# @TODO: Initialize lists to hold profitable and unprofitable day profits/losses\n",
    "\n",
    "\n",
    "\n",
    "\n",
    "# List of trading profits/losses\n",
    "trading_pnl = [ -224,  352, 252, 354, -544,\n",
    "                -650,   56, 123, -43,  254,\n",
    "                 325, -123,  47, 321,  123,\n",
    "                 133, -151, 613, 232, -311 ]\n",
    "\n",
    "# @TODO: Iterate over each element of the list\n",
    "\n",
    "for i in trading_pnl:\n",
    "    \n",
    "\n",
    "    # @TODO: Cumulatively sum up the total and count\n",
    "    trading_pnl_total += i\n",
    "    trading_days += 1\n",
    "    \n",
    "    # @TODO: Write logic to determine minimum and maximum values\n",
    "#print(trading_pnl_total)\n",
    "\n",
    "\n",
    "    if maximum == 0:\n",
    "        maximum = i \n",
    "    elif i < minimum:\n",
    "        minimum = i\n",
    "    elif i > maximum:\n",
    "        maximum = i\n",
    "        \n",
    "\n",
    "\n",
    "\n",
    "\n",
    "    # @TODO: Write logic to determine profitable vs. unprofitable days\n",
    "\n",
    "\n",
    "    if i > 0:\n",
    "            profitable_days += 1\n",
    "    elif i < 0:\n",
    "            unprofitable_days +=1\n",
    "\n",
    "\n",
    "# @TODO: Calculate the average\n",
    "\n",
    "\n",
    "# @TODO: Calculate count metrics\n",
    "\n",
    "\n",
    "# @TODO: Calculate percentage metrics\n",
    "\n",
    "\n",
    "\n",
    "# @TODO: Print out the summary statistics\n",
    "\n",
    "print(maximum)\n",
    "print(minimum)\n",
    "\n",
    "print(f\"profitable_days: {profitable_days}\")\n",
    "print(f\"unprofitable_days: {unprofitable_days}\")\n"
   ]
  },
  {
   "cell_type": "code",
   "execution_count": null,
   "id": "50e74036-e225-43f2-abeb-9cd05cacadf3",
   "metadata": {},
   "outputs": [],
   "source": []
  }
 ],
 "metadata": {
  "kernelspec": {
   "display_name": "Python 3.9.12 ('base')",
   "language": "python",
   "name": "python3"
  },
  "language_info": {
   "codemirror_mode": {
    "name": "ipython",
    "version": 3
   },
   "file_extension": ".py",
   "mimetype": "text/x-python",
   "name": "python",
   "nbconvert_exporter": "python",
   "pygments_lexer": "ipython3",
   "version": "3.9.12"
  },
  "vscode": {
   "interpreter": {
    "hash": "c456f17b63525dd1fcde487470240e1db655d3530ed545682dd82e8dd325ec4c"
   }
  }
 },
 "nbformat": 4,
 "nbformat_minor": 5
}
