{
 "cells": [
  {
   "cell_type": "code",
   "execution_count": 7,
   "id": "3461d542-5ba0-4488-9904-dfd1fdf6a148",
   "metadata": {},
   "outputs": [
    {
     "name": "stdout",
     "output_type": "stream",
     "text": [
      "Current working directory: /Users/kuki/Documents/dev/FinTech_Bootcamp/2.3.8\n"
     ]
    },
    {
     "ename": "FileNotFoundError",
     "evalue": "[Errno 2] No such file or directory: '../Resources/customer_traffic.txt'",
     "output_type": "error",
     "traceback": [
      "\u001b[0;31m---------------------------------------------------------------------------\u001b[0m",
      "\u001b[0;31mFileNotFoundError\u001b[0m                         Traceback (most recent call last)",
      "Input \u001b[0;32mIn [7]\u001b[0m, in \u001b[0;36m<cell line: 30>\u001b[0;34m()\u001b[0m\n\u001b[1;32m     26\u001b[0m day_count \u001b[38;5;241m=\u001b[39m \u001b[38;5;241m0\u001b[39m\n\u001b[1;32m     28\u001b[0m \u001b[38;5;66;03m# @TODO: Open the file in \"read\" mode ('r') and store the contents in the variable 'file'\u001b[39;00m\n\u001b[0;32m---> 30\u001b[0m \u001b[38;5;28;01mwith\u001b[39;00m \u001b[38;5;28;43mopen\u001b[39;49m\u001b[43m(\u001b[49m\u001b[43mfilepath\u001b[49m\u001b[43m,\u001b[49m\u001b[43m \u001b[49m\u001b[38;5;124;43m'\u001b[39;49m\u001b[38;5;124;43mr\u001b[39;49m\u001b[38;5;124;43m'\u001b[39;49m\u001b[43m)\u001b[49m \u001b[38;5;28;01mas\u001b[39;00m file:\n\u001b[1;32m     31\u001b[0m         \u001b[38;5;66;03m# @TODO: Parse the file line by line\u001b[39;00m\n\u001b[1;32m     33\u001b[0m         text \u001b[38;5;241m=\u001b[39m file\u001b[38;5;241m.\u001b[39mread()\n\u001b[1;32m     34\u001b[0m         \u001b[38;5;28mprint\u001b[39m(text)\n",
      "\u001b[0;31mFileNotFoundError\u001b[0m: [Errno 2] No such file or directory: '../Resources/customer_traffic.txt'"
     ]
    }
   ],
   "source": [
    "# -*- coding: utf-8 -*-\n",
    "\"\"\"Student Do: E-Commerce Traffic.\n",
    "\n",
    "This script will parse through a text file and sum the total\n",
    "number of customers and the count of days in the text file to\n",
    "calculate the daily average of customer traffic for an e-commerce\n",
    "business.\n",
    "\"\"\"\n",
    "\n",
    "# @TODO: From the pathlib library, import the main class Path\n",
    "\n",
    "from pathlib import Path\n",
    "\n",
    "# @TODO: Check the current directory where the Python program is executing from\n",
    "\n",
    "print(f\"Current working directory: {Path.cwd()}\")\n",
    "\n",
    "\n",
    "# @TODO: Set the path using Pathlib\n",
    "\n",
    "filepath = Path(\"../Resources/customer_traffic.txt\")\n",
    "\n",
    "\n",
    "# Initialize variables\n",
    "customer_total = 0\n",
    "day_count = 0\n",
    "\n",
    "# @TODO: Open the file in \"read\" mode ('r') and store the contents in the variable 'file'\n",
    "\n",
    "with open(filepath, 'r') as file:\n",
    "        # @TODO: Parse the file line by line\n",
    "        \n",
    "        text = file.read()\n",
    "        print(text)\n",
    "\n",
    "        # @TODO: Convert the number in the text file from string to int (allows for numerical calculations)\n",
    "\n",
    "\n",
    "        # @TODO: Sum the total and count of the numbers in the text file\n",
    "\n",
    "\n",
    "\n",
    "# @TODO: Print out customer_total and day_count\n",
    "\n",
    "\n",
    "\n",
    "\n",
    "# @TODO: Calculate the average\n",
    "\n",
    "\n",
    "\n",
    "# @TODO: Set output file name\n",
    "\n",
    "\n",
    "# @TODO: Open the output path as a file object\n",
    "\n",
    "    # @TODO: Write daily_average to the output file, convert to string"
   ]
  },
  {
   "cell_type": "code",
   "execution_count": null,
   "id": "3177c4c9-4804-4012-90fc-ba581ed6ea91",
   "metadata": {},
   "outputs": [],
   "source": []
  },
  {
   "cell_type": "code",
   "execution_count": null,
   "id": "0c7b44d5-28ed-4b70-81ef-99eb06ee43ec",
   "metadata": {},
   "outputs": [],
   "source": []
  }
 ],
 "metadata": {
  "kernelspec": {
   "display_name": "Python 3 (ipykernel)",
   "language": "python",
   "name": "python3"
  },
  "language_info": {
   "codemirror_mode": {
    "name": "ipython",
    "version": 3
   },
   "file_extension": ".py",
   "mimetype": "text/x-python",
   "name": "python",
   "nbconvert_exporter": "python",
   "pygments_lexer": "ipython3",
   "version": "3.9.12"
  }
 },
 "nbformat": 4,
 "nbformat_minor": 5
}
