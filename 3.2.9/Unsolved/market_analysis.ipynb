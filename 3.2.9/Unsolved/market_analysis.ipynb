{
 "cells": [
  {
   "cell_type": "markdown",
   "metadata": {},
   "source": [
    "### Student Activity: Market Analysis\n",
    "\n",
    "This program reads daily stock data from a CSV and plots three different charts for three different analyses: pie (sector frequency distribution), bar (top 20 market cap companies), and scatter (price vs. earnings relationship)."
   ]
  },
  {
   "cell_type": "code",
   "execution_count": 6,
   "metadata": {},
   "outputs": [],
   "source": [
    "# Import libraries and dependencies\n",
    "\n",
    "import csv\n",
    "import pandas as pd\n",
    "from pathlib import Path"
   ]
  },
  {
   "cell_type": "markdown",
   "metadata": {},
   "source": [
    "### Read CSV in as DataFrame"
   ]
  },
  {
   "cell_type": "code",
   "execution_count": 7,
   "metadata": {},
   "outputs": [],
   "source": [
    "# Set the path\n",
    "\n",
    "#csvpath = Path(\"/Users/kuki/Documents/dev/FinTech_Bootcamp/FinTech-ClassActivity/3.2.9/Resources/sp500_companies\")\n",
    "\n",
    "csvpath = Path(\"/Users/kuki/Documents/dev/FinTech_Bootcamp/FinTechBC-ClassActivity/3.2.9/Resources/sp500_companies.csv\")\n",
    "# Read in the CSV as a DataFrame\n",
    "\n",
    "df = pd.read_csv(csvpath)\n"
   ]
  },
  {
   "cell_type": "markdown",
   "metadata": {},
   "source": [
    "### Calculate Sector Counts"
   ]
  },
  {
   "cell_type": "code",
   "execution_count": 8,
   "metadata": {},
   "outputs": [
    {
     "name": "stdout",
     "output_type": "stream",
     "text": [
      "<bound method NDFrame.head of     Symbol                    Name                  Sector   Price  \\\n",
      "0      MMM              3M Company             Industrials  222.89   \n",
      "1      AOS         A.O. Smith Corp             Industrials   60.24   \n",
      "2      ABT     Abbott Laboratories             Health Care   56.27   \n",
      "3     ABBV             AbbVie Inc.             Health Care  108.48   \n",
      "4      ACN           Accenture plc  Information Technology  150.51   \n",
      "..     ...                     ...                     ...     ...   \n",
      "500    XYL              Xylem Inc.             Industrials   70.24   \n",
      "501    YUM         Yum! Brands Inc  Consumer Discretionary   76.30   \n",
      "502    ZBH  Zimmer Biomet Holdings             Health Care  115.53   \n",
      "503   ZION           Zions Bancorp              Financials   50.71   \n",
      "504    ZTS                  Zoetis             Health Care   71.51   \n",
      "\n",
      "     Price/Earnings  Dividend Yield  Earnings/Share  52 Week Low  \\\n",
      "0             24.31        2.332862            7.92       259.77   \n",
      "1             27.76        1.147959            1.70        68.39   \n",
      "2             22.51        1.908982            0.26        64.60   \n",
      "3             19.41        2.499560            3.29       125.86   \n",
      "4             25.47        1.714470            5.44       162.60   \n",
      "..              ...             ...             ...          ...   \n",
      "500           30.94        1.170079            1.83        76.81   \n",
      "501           27.25        1.797080            4.07        86.93   \n",
      "502           14.32        0.794834            9.01       133.49   \n",
      "503           17.73        1.480933            2.60        55.61   \n",
      "504           32.80        0.682372            1.65        80.13   \n",
      "\n",
      "     52 Week High    Market Cap        EBITDA  Price/Sales  Price/Book  \\\n",
      "0         175.490  138721055226  9.048000e+09     4.390271       11.34   \n",
      "1          48.925   10783419933  6.010000e+08     3.575483        6.35   \n",
      "2          42.280  102121042306  5.744000e+09     3.740480        3.19   \n",
      "3          60.050  181386347059  1.031000e+10     6.291571       26.14   \n",
      "4         114.820   98765855553  5.643228e+09     2.604117       10.62   \n",
      "..            ...           ...           ...          ...         ...   \n",
      "500        46.860   12915021000  7.220000e+08     2.726209        5.31   \n",
      "501        62.850   27003303098  2.289000e+09     6.313636      212.08   \n",
      "502       108.170   24454698119  2.007400e+09     3.164895        2.39   \n",
      "503        38.430   10670678640  0.000000e+00     3.794579        1.42   \n",
      "504        52.000   35991109776  1.734000e+09     9.280896       18.09   \n",
      "\n",
      "                                           SEC Filings  \n",
      "0    http://www.sec.gov/cgi-bin/browse-edgar?action...  \n",
      "1    http://www.sec.gov/cgi-bin/browse-edgar?action...  \n",
      "2    http://www.sec.gov/cgi-bin/browse-edgar?action...  \n",
      "3    http://www.sec.gov/cgi-bin/browse-edgar?action...  \n",
      "4    http://www.sec.gov/cgi-bin/browse-edgar?action...  \n",
      "..                                                 ...  \n",
      "500  http://www.sec.gov/cgi-bin/browse-edgar?action...  \n",
      "501  http://www.sec.gov/cgi-bin/browse-edgar?action...  \n",
      "502  http://www.sec.gov/cgi-bin/browse-edgar?action...  \n",
      "503  http://www.sec.gov/cgi-bin/browse-edgar?action...  \n",
      "504  http://www.sec.gov/cgi-bin/browse-edgar?action...  \n",
      "\n",
      "[505 rows x 14 columns]>\n"
     ]
    }
   ],
   "source": [
    "# Count the frequency of each sector from the list of companies\n",
    "print(df.head)"
   ]
  },
  {
   "cell_type": "markdown",
   "metadata": {},
   "source": [
    "### Plot Sector Counts"
   ]
  },
  {
   "cell_type": "code",
   "execution_count": 9,
   "metadata": {},
   "outputs": [],
   "source": [
    "# Plot a pie chart from the distribution of company sectors\n"
   ]
  },
  {
   "cell_type": "markdown",
   "metadata": {},
   "source": [
    "### Filter By Top 20 Market Cap Companies"
   ]
  },
  {
   "cell_type": "code",
   "execution_count": 10,
   "metadata": {},
   "outputs": [],
   "source": [
    "# Grab the `Symbol` and `Market Cap` columns\n",
    "\n",
    "\n",
    "# Set the 'Symbol' as the index\n",
    "\n",
    "\n",
    "# Drop the extra 'Symbol' column\n",
    "\n",
    "\n",
    "# Filter down to 20 companies with the largest market caps\n",
    "\n",
    "\n",
    "# Display the DataFrame\n"
   ]
  },
  {
   "cell_type": "markdown",
   "metadata": {},
   "source": [
    "### Plot Top 20 Market Cap Companies"
   ]
  },
  {
   "cell_type": "code",
   "execution_count": 11,
   "metadata": {},
   "outputs": [],
   "source": [
    "# Plot a bar chart of the top 20 market cap companies\n"
   ]
  },
  {
   "cell_type": "markdown",
   "metadata": {},
   "source": [
    "### Plot Relationship Between Price and Earnings/Share"
   ]
  },
  {
   "cell_type": "code",
   "execution_count": 12,
   "metadata": {},
   "outputs": [],
   "source": [
    "# Plot a scatter plot to display the relationship between price vs. earnings/share\n"
   ]
  },
  {
   "cell_type": "code",
   "execution_count": null,
   "metadata": {},
   "outputs": [],
   "source": []
  }
 ],
 "metadata": {
  "kernelspec": {
   "display_name": "Python 3.9.12 ('base')",
   "language": "python",
   "name": "python3"
  },
  "language_info": {
   "codemirror_mode": {
    "name": "ipython",
    "version": 3
   },
   "file_extension": ".py",
   "mimetype": "text/x-python",
   "name": "python",
   "nbconvert_exporter": "python",
   "pygments_lexer": "ipython3",
   "version": "3.9.12"
  },
  "vscode": {
   "interpreter": {
    "hash": "c456f17b63525dd1fcde487470240e1db655d3530ed545682dd82e8dd325ec4c"
   }
  }
 },
 "nbformat": 4,
 "nbformat_minor": 2
}
