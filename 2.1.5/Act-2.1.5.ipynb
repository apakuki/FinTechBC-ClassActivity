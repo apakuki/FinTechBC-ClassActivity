{
 "cells": [
  {
   "cell_type": "code",
   "execution_count": 7,
   "id": "8e32a579-7f8a-4ea5-85b0-8bec5c832721",
   "metadata": {},
   "outputs": [
    {
     "name": "stdout",
     "output_type": "stream",
     "text": [
      "Apple's original stock price was $198.87\n",
      "Apples current stock price is $254.32\n",
      "Percentage increase in Apple stock is 27.88%\n"
     ]
    }
   ],
   "source": [
    "# Hello Variable World Activity\n",
    "\n",
    "# Formulas Needed:\n",
    "# Increase = Current Price - Original Price\n",
    "# Percent Increase = Increase / Original x 100\n",
    "\n",
    "# Create float variable for original_price\n",
    "\n",
    "original_price = 198.87\n",
    "\n",
    "# Create float variable for current_price\n",
    "\n",
    "current_price = 254.32\n",
    "\n",
    "# Calculate difference between current_price and original_price\n",
    "\n",
    "increase = current_price - original_price\n",
    "\n",
    "# Calculate percent_increase\n",
    "\n",
    "percent_increase = (increase /original_price) * 100\n",
    "\n",
    "# Print original_price\n",
    "print(f\"Apple's original stock price was ${original_price}\")\n",
    "\n",
    "# Print current_price\n",
    "print(f\"Apples current stock price is ${current_price}\")\n",
    "\n",
    "# Print percent_increase\n",
    "\n",
    "percent_increase = \"{:.2f}%\".format(percent_increase)\n",
    "print(f\"Percentage increase in Apple stock is {percent_increase}\") \n",
    "# CHALLENGE:\n",
    "# Use a format specifier with the f-string to print the percent increase with two decimal places:"
   ]
  },
  {
   "cell_type": "code",
   "execution_count": null,
   "id": "f7a9bedf-d5c7-4b45-a529-c469f2157105",
   "metadata": {},
   "outputs": [],
   "source": []
  }
 ],
 "metadata": {
  "kernelspec": {
   "display_name": "Python 3.9.12 ('base')",
   "language": "python",
   "name": "python3"
  },
  "language_info": {
   "codemirror_mode": {
    "name": "ipython",
    "version": 3
   },
   "file_extension": ".py",
   "mimetype": "text/x-python",
   "name": "python",
   "nbconvert_exporter": "python",
   "pygments_lexer": "ipython3",
   "version": "3.9.12"
  },
  "vscode": {
   "interpreter": {
    "hash": "c456f17b63525dd1fcde487470240e1db655d3530ed545682dd82e8dd325ec4c"
   }
  }
 },
 "nbformat": 4,
 "nbformat_minor": 5
}
